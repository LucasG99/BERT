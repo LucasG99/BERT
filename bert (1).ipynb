{
  "nbformat": 4,
  "nbformat_minor": 0,
  "metadata": {
    "colab": {
      "provenance": []
    },
    "kernelspec": {
      "name": "python3",
      "display_name": "Python 3"
    },
    "language_info": {
      "name": "python"
    },
    "widgets": {
      "application/vnd.jupyter.widget-state+json": {
        "db867f6bc2e9466a832825f8ea9a50c2": {
          "model_module": "@jupyter-widgets/controls",
          "model_name": "HBoxModel",
          "model_module_version": "1.5.0",
          "state": {
            "_dom_classes": [],
            "_model_module": "@jupyter-widgets/controls",
            "_model_module_version": "1.5.0",
            "_model_name": "HBoxModel",
            "_view_count": null,
            "_view_module": "@jupyter-widgets/controls",
            "_view_module_version": "1.5.0",
            "_view_name": "HBoxView",
            "box_style": "",
            "children": [
              "IPY_MODEL_1d94e8020a1f4e049d26063a2de2d331",
              "IPY_MODEL_edb181784d474d66832faa7826e88f4b",
              "IPY_MODEL_a7235869d90c4521834ea1669e55d6bd"
            ],
            "layout": "IPY_MODEL_43604d7b55d84cf5b7b87aa8760f52ed"
          }
        },
        "1d94e8020a1f4e049d26063a2de2d331": {
          "model_module": "@jupyter-widgets/controls",
          "model_name": "HTMLModel",
          "model_module_version": "1.5.0",
          "state": {
            "_dom_classes": [],
            "_model_module": "@jupyter-widgets/controls",
            "_model_module_version": "1.5.0",
            "_model_name": "HTMLModel",
            "_view_count": null,
            "_view_module": "@jupyter-widgets/controls",
            "_view_module_version": "1.5.0",
            "_view_name": "HTMLView",
            "description": "",
            "description_tooltip": null,
            "layout": "IPY_MODEL_61f1018a36f14f93a56bb4f9bed91868",
            "placeholder": "​",
            "style": "IPY_MODEL_1dcc5acbc92a4e3d9be681782dc4e0f0",
            "value": "config.json: 100%"
          }
        },
        "edb181784d474d66832faa7826e88f4b": {
          "model_module": "@jupyter-widgets/controls",
          "model_name": "FloatProgressModel",
          "model_module_version": "1.5.0",
          "state": {
            "_dom_classes": [],
            "_model_module": "@jupyter-widgets/controls",
            "_model_module_version": "1.5.0",
            "_model_name": "FloatProgressModel",
            "_view_count": null,
            "_view_module": "@jupyter-widgets/controls",
            "_view_module_version": "1.5.0",
            "_view_name": "ProgressView",
            "bar_style": "success",
            "description": "",
            "description_tooltip": null,
            "layout": "IPY_MODEL_297b891b7dd24c49ac38368cb1fbb519",
            "max": 409,
            "min": 0,
            "orientation": "horizontal",
            "style": "IPY_MODEL_961cb71890684967b72c466997e3fbb4",
            "value": 409
          }
        },
        "a7235869d90c4521834ea1669e55d6bd": {
          "model_module": "@jupyter-widgets/controls",
          "model_name": "HTMLModel",
          "model_module_version": "1.5.0",
          "state": {
            "_dom_classes": [],
            "_model_module": "@jupyter-widgets/controls",
            "_model_module_version": "1.5.0",
            "_model_name": "HTMLModel",
            "_view_count": null,
            "_view_module": "@jupyter-widgets/controls",
            "_view_module_version": "1.5.0",
            "_view_name": "HTMLView",
            "description": "",
            "description_tooltip": null,
            "layout": "IPY_MODEL_11cdbd2a36f4457b87966c451e3985fc",
            "placeholder": "​",
            "style": "IPY_MODEL_a255966a8f924648929575ed6df9c6e8",
            "value": " 409/409 [00:00&lt;00:00, 7.60kB/s]"
          }
        },
        "43604d7b55d84cf5b7b87aa8760f52ed": {
          "model_module": "@jupyter-widgets/base",
          "model_name": "LayoutModel",
          "model_module_version": "1.2.0",
          "state": {
            "_model_module": "@jupyter-widgets/base",
            "_model_module_version": "1.2.0",
            "_model_name": "LayoutModel",
            "_view_count": null,
            "_view_module": "@jupyter-widgets/base",
            "_view_module_version": "1.2.0",
            "_view_name": "LayoutView",
            "align_content": null,
            "align_items": null,
            "align_self": null,
            "border": null,
            "bottom": null,
            "display": null,
            "flex": null,
            "flex_flow": null,
            "grid_area": null,
            "grid_auto_columns": null,
            "grid_auto_flow": null,
            "grid_auto_rows": null,
            "grid_column": null,
            "grid_gap": null,
            "grid_row": null,
            "grid_template_areas": null,
            "grid_template_columns": null,
            "grid_template_rows": null,
            "height": null,
            "justify_content": null,
            "justify_items": null,
            "left": null,
            "margin": null,
            "max_height": null,
            "max_width": null,
            "min_height": null,
            "min_width": null,
            "object_fit": null,
            "object_position": null,
            "order": null,
            "overflow": null,
            "overflow_x": null,
            "overflow_y": null,
            "padding": null,
            "right": null,
            "top": null,
            "visibility": null,
            "width": null
          }
        },
        "61f1018a36f14f93a56bb4f9bed91868": {
          "model_module": "@jupyter-widgets/base",
          "model_name": "LayoutModel",
          "model_module_version": "1.2.0",
          "state": {
            "_model_module": "@jupyter-widgets/base",
            "_model_module_version": "1.2.0",
            "_model_name": "LayoutModel",
            "_view_count": null,
            "_view_module": "@jupyter-widgets/base",
            "_view_module_version": "1.2.0",
            "_view_name": "LayoutView",
            "align_content": null,
            "align_items": null,
            "align_self": null,
            "border": null,
            "bottom": null,
            "display": null,
            "flex": null,
            "flex_flow": null,
            "grid_area": null,
            "grid_auto_columns": null,
            "grid_auto_flow": null,
            "grid_auto_rows": null,
            "grid_column": null,
            "grid_gap": null,
            "grid_row": null,
            "grid_template_areas": null,
            "grid_template_columns": null,
            "grid_template_rows": null,
            "height": null,
            "justify_content": null,
            "justify_items": null,
            "left": null,
            "margin": null,
            "max_height": null,
            "max_width": null,
            "min_height": null,
            "min_width": null,
            "object_fit": null,
            "object_position": null,
            "order": null,
            "overflow": null,
            "overflow_x": null,
            "overflow_y": null,
            "padding": null,
            "right": null,
            "top": null,
            "visibility": null,
            "width": null
          }
        },
        "1dcc5acbc92a4e3d9be681782dc4e0f0": {
          "model_module": "@jupyter-widgets/controls",
          "model_name": "DescriptionStyleModel",
          "model_module_version": "1.5.0",
          "state": {
            "_model_module": "@jupyter-widgets/controls",
            "_model_module_version": "1.5.0",
            "_model_name": "DescriptionStyleModel",
            "_view_count": null,
            "_view_module": "@jupyter-widgets/base",
            "_view_module_version": "1.2.0",
            "_view_name": "StyleView",
            "description_width": ""
          }
        },
        "297b891b7dd24c49ac38368cb1fbb519": {
          "model_module": "@jupyter-widgets/base",
          "model_name": "LayoutModel",
          "model_module_version": "1.2.0",
          "state": {
            "_model_module": "@jupyter-widgets/base",
            "_model_module_version": "1.2.0",
            "_model_name": "LayoutModel",
            "_view_count": null,
            "_view_module": "@jupyter-widgets/base",
            "_view_module_version": "1.2.0",
            "_view_name": "LayoutView",
            "align_content": null,
            "align_items": null,
            "align_self": null,
            "border": null,
            "bottom": null,
            "display": null,
            "flex": null,
            "flex_flow": null,
            "grid_area": null,
            "grid_auto_columns": null,
            "grid_auto_flow": null,
            "grid_auto_rows": null,
            "grid_column": null,
            "grid_gap": null,
            "grid_row": null,
            "grid_template_areas": null,
            "grid_template_columns": null,
            "grid_template_rows": null,
            "height": null,
            "justify_content": null,
            "justify_items": null,
            "left": null,
            "margin": null,
            "max_height": null,
            "max_width": null,
            "min_height": null,
            "min_width": null,
            "object_fit": null,
            "object_position": null,
            "order": null,
            "overflow": null,
            "overflow_x": null,
            "overflow_y": null,
            "padding": null,
            "right": null,
            "top": null,
            "visibility": null,
            "width": null
          }
        },
        "961cb71890684967b72c466997e3fbb4": {
          "model_module": "@jupyter-widgets/controls",
          "model_name": "ProgressStyleModel",
          "model_module_version": "1.5.0",
          "state": {
            "_model_module": "@jupyter-widgets/controls",
            "_model_module_version": "1.5.0",
            "_model_name": "ProgressStyleModel",
            "_view_count": null,
            "_view_module": "@jupyter-widgets/base",
            "_view_module_version": "1.2.0",
            "_view_name": "StyleView",
            "bar_color": null,
            "description_width": ""
          }
        },
        "11cdbd2a36f4457b87966c451e3985fc": {
          "model_module": "@jupyter-widgets/base",
          "model_name": "LayoutModel",
          "model_module_version": "1.2.0",
          "state": {
            "_model_module": "@jupyter-widgets/base",
            "_model_module_version": "1.2.0",
            "_model_name": "LayoutModel",
            "_view_count": null,
            "_view_module": "@jupyter-widgets/base",
            "_view_module_version": "1.2.0",
            "_view_name": "LayoutView",
            "align_content": null,
            "align_items": null,
            "align_self": null,
            "border": null,
            "bottom": null,
            "display": null,
            "flex": null,
            "flex_flow": null,
            "grid_area": null,
            "grid_auto_columns": null,
            "grid_auto_flow": null,
            "grid_auto_rows": null,
            "grid_column": null,
            "grid_gap": null,
            "grid_row": null,
            "grid_template_areas": null,
            "grid_template_columns": null,
            "grid_template_rows": null,
            "height": null,
            "justify_content": null,
            "justify_items": null,
            "left": null,
            "margin": null,
            "max_height": null,
            "max_width": null,
            "min_height": null,
            "min_width": null,
            "object_fit": null,
            "object_position": null,
            "order": null,
            "overflow": null,
            "overflow_x": null,
            "overflow_y": null,
            "padding": null,
            "right": null,
            "top": null,
            "visibility": null,
            "width": null
          }
        },
        "a255966a8f924648929575ed6df9c6e8": {
          "model_module": "@jupyter-widgets/controls",
          "model_name": "DescriptionStyleModel",
          "model_module_version": "1.5.0",
          "state": {
            "_model_module": "@jupyter-widgets/controls",
            "_model_module_version": "1.5.0",
            "_model_name": "DescriptionStyleModel",
            "_view_count": null,
            "_view_module": "@jupyter-widgets/base",
            "_view_module_version": "1.2.0",
            "_view_name": "StyleView",
            "description_width": ""
          }
        },
        "9e97ae79599d48ae93112e70847fc512": {
          "model_module": "@jupyter-widgets/controls",
          "model_name": "HBoxModel",
          "model_module_version": "1.5.0",
          "state": {
            "_dom_classes": [],
            "_model_module": "@jupyter-widgets/controls",
            "_model_module_version": "1.5.0",
            "_model_name": "HBoxModel",
            "_view_count": null,
            "_view_module": "@jupyter-widgets/controls",
            "_view_module_version": "1.5.0",
            "_view_name": "HBoxView",
            "box_style": "",
            "children": [
              "IPY_MODEL_c9112e8a9d1f478abf20934615fe5335",
              "IPY_MODEL_881c692656994f428a117b0ca4190206",
              "IPY_MODEL_723d8196fcd047acb955cc2ef2a1a878"
            ],
            "layout": "IPY_MODEL_7334d53990d24ada81c8d23da4038d6a"
          }
        },
        "c9112e8a9d1f478abf20934615fe5335": {
          "model_module": "@jupyter-widgets/controls",
          "model_name": "HTMLModel",
          "model_module_version": "1.5.0",
          "state": {
            "_dom_classes": [],
            "_model_module": "@jupyter-widgets/controls",
            "_model_module_version": "1.5.0",
            "_model_name": "HTMLModel",
            "_view_count": null,
            "_view_module": "@jupyter-widgets/controls",
            "_view_module_version": "1.5.0",
            "_view_name": "HTMLView",
            "description": "",
            "description_tooltip": null,
            "layout": "IPY_MODEL_349fed4fd808434fa83e56f1b9a79d0f",
            "placeholder": "​",
            "style": "IPY_MODEL_1ee0e318d1764fe69f309c5c87773951",
            "value": "vocab.txt: "
          }
        },
        "881c692656994f428a117b0ca4190206": {
          "model_module": "@jupyter-widgets/controls",
          "model_name": "FloatProgressModel",
          "model_module_version": "1.5.0",
          "state": {
            "_dom_classes": [],
            "_model_module": "@jupyter-widgets/controls",
            "_model_module_version": "1.5.0",
            "_model_name": "FloatProgressModel",
            "_view_count": null,
            "_view_module": "@jupyter-widgets/controls",
            "_view_module_version": "1.5.0",
            "_view_name": "ProgressView",
            "bar_style": "success",
            "description": "",
            "description_tooltip": null,
            "layout": "IPY_MODEL_1bc4b995ff764c20865c5344b939408c",
            "max": 1,
            "min": 0,
            "orientation": "horizontal",
            "style": "IPY_MODEL_e61e7f2ceb274ac69a270ad2c1e602a6",
            "value": 1
          }
        },
        "723d8196fcd047acb955cc2ef2a1a878": {
          "model_module": "@jupyter-widgets/controls",
          "model_name": "HTMLModel",
          "model_module_version": "1.5.0",
          "state": {
            "_dom_classes": [],
            "_model_module": "@jupyter-widgets/controls",
            "_model_module_version": "1.5.0",
            "_model_name": "HTMLModel",
            "_view_count": null,
            "_view_module": "@jupyter-widgets/controls",
            "_view_module_version": "1.5.0",
            "_view_name": "HTMLView",
            "description": "",
            "description_tooltip": null,
            "layout": "IPY_MODEL_c6a070bb3bcc4a9594a59a075bdefa1b",
            "placeholder": "​",
            "style": "IPY_MODEL_a1a8a71fdfcd4987bc2115edf5983073",
            "value": " 232k/? [00:00&lt;00:00, 2.84MB/s]"
          }
        },
        "7334d53990d24ada81c8d23da4038d6a": {
          "model_module": "@jupyter-widgets/base",
          "model_name": "LayoutModel",
          "model_module_version": "1.2.0",
          "state": {
            "_model_module": "@jupyter-widgets/base",
            "_model_module_version": "1.2.0",
            "_model_name": "LayoutModel",
            "_view_count": null,
            "_view_module": "@jupyter-widgets/base",
            "_view_module_version": "1.2.0",
            "_view_name": "LayoutView",
            "align_content": null,
            "align_items": null,
            "align_self": null,
            "border": null,
            "bottom": null,
            "display": null,
            "flex": null,
            "flex_flow": null,
            "grid_area": null,
            "grid_auto_columns": null,
            "grid_auto_flow": null,
            "grid_auto_rows": null,
            "grid_column": null,
            "grid_gap": null,
            "grid_row": null,
            "grid_template_areas": null,
            "grid_template_columns": null,
            "grid_template_rows": null,
            "height": null,
            "justify_content": null,
            "justify_items": null,
            "left": null,
            "margin": null,
            "max_height": null,
            "max_width": null,
            "min_height": null,
            "min_width": null,
            "object_fit": null,
            "object_position": null,
            "order": null,
            "overflow": null,
            "overflow_x": null,
            "overflow_y": null,
            "padding": null,
            "right": null,
            "top": null,
            "visibility": null,
            "width": null
          }
        },
        "349fed4fd808434fa83e56f1b9a79d0f": {
          "model_module": "@jupyter-widgets/base",
          "model_name": "LayoutModel",
          "model_module_version": "1.2.0",
          "state": {
            "_model_module": "@jupyter-widgets/base",
            "_model_module_version": "1.2.0",
            "_model_name": "LayoutModel",
            "_view_count": null,
            "_view_module": "@jupyter-widgets/base",
            "_view_module_version": "1.2.0",
            "_view_name": "LayoutView",
            "align_content": null,
            "align_items": null,
            "align_self": null,
            "border": null,
            "bottom": null,
            "display": null,
            "flex": null,
            "flex_flow": null,
            "grid_area": null,
            "grid_auto_columns": null,
            "grid_auto_flow": null,
            "grid_auto_rows": null,
            "grid_column": null,
            "grid_gap": null,
            "grid_row": null,
            "grid_template_areas": null,
            "grid_template_columns": null,
            "grid_template_rows": null,
            "height": null,
            "justify_content": null,
            "justify_items": null,
            "left": null,
            "margin": null,
            "max_height": null,
            "max_width": null,
            "min_height": null,
            "min_width": null,
            "object_fit": null,
            "object_position": null,
            "order": null,
            "overflow": null,
            "overflow_x": null,
            "overflow_y": null,
            "padding": null,
            "right": null,
            "top": null,
            "visibility": null,
            "width": null
          }
        },
        "1ee0e318d1764fe69f309c5c87773951": {
          "model_module": "@jupyter-widgets/controls",
          "model_name": "DescriptionStyleModel",
          "model_module_version": "1.5.0",
          "state": {
            "_model_module": "@jupyter-widgets/controls",
            "_model_module_version": "1.5.0",
            "_model_name": "DescriptionStyleModel",
            "_view_count": null,
            "_view_module": "@jupyter-widgets/base",
            "_view_module_version": "1.2.0",
            "_view_name": "StyleView",
            "description_width": ""
          }
        },
        "1bc4b995ff764c20865c5344b939408c": {
          "model_module": "@jupyter-widgets/base",
          "model_name": "LayoutModel",
          "model_module_version": "1.2.0",
          "state": {
            "_model_module": "@jupyter-widgets/base",
            "_model_module_version": "1.2.0",
            "_model_name": "LayoutModel",
            "_view_count": null,
            "_view_module": "@jupyter-widgets/base",
            "_view_module_version": "1.2.0",
            "_view_name": "LayoutView",
            "align_content": null,
            "align_items": null,
            "align_self": null,
            "border": null,
            "bottom": null,
            "display": null,
            "flex": null,
            "flex_flow": null,
            "grid_area": null,
            "grid_auto_columns": null,
            "grid_auto_flow": null,
            "grid_auto_rows": null,
            "grid_column": null,
            "grid_gap": null,
            "grid_row": null,
            "grid_template_areas": null,
            "grid_template_columns": null,
            "grid_template_rows": null,
            "height": null,
            "justify_content": null,
            "justify_items": null,
            "left": null,
            "margin": null,
            "max_height": null,
            "max_width": null,
            "min_height": null,
            "min_width": null,
            "object_fit": null,
            "object_position": null,
            "order": null,
            "overflow": null,
            "overflow_x": null,
            "overflow_y": null,
            "padding": null,
            "right": null,
            "top": null,
            "visibility": null,
            "width": "20px"
          }
        },
        "e61e7f2ceb274ac69a270ad2c1e602a6": {
          "model_module": "@jupyter-widgets/controls",
          "model_name": "ProgressStyleModel",
          "model_module_version": "1.5.0",
          "state": {
            "_model_module": "@jupyter-widgets/controls",
            "_model_module_version": "1.5.0",
            "_model_name": "ProgressStyleModel",
            "_view_count": null,
            "_view_module": "@jupyter-widgets/base",
            "_view_module_version": "1.2.0",
            "_view_name": "StyleView",
            "bar_color": null,
            "description_width": ""
          }
        },
        "c6a070bb3bcc4a9594a59a075bdefa1b": {
          "model_module": "@jupyter-widgets/base",
          "model_name": "LayoutModel",
          "model_module_version": "1.2.0",
          "state": {
            "_model_module": "@jupyter-widgets/base",
            "_model_module_version": "1.2.0",
            "_model_name": "LayoutModel",
            "_view_count": null,
            "_view_module": "@jupyter-widgets/base",
            "_view_module_version": "1.2.0",
            "_view_name": "LayoutView",
            "align_content": null,
            "align_items": null,
            "align_self": null,
            "border": null,
            "bottom": null,
            "display": null,
            "flex": null,
            "flex_flow": null,
            "grid_area": null,
            "grid_auto_columns": null,
            "grid_auto_flow": null,
            "grid_auto_rows": null,
            "grid_column": null,
            "grid_gap": null,
            "grid_row": null,
            "grid_template_areas": null,
            "grid_template_columns": null,
            "grid_template_rows": null,
            "height": null,
            "justify_content": null,
            "justify_items": null,
            "left": null,
            "margin": null,
            "max_height": null,
            "max_width": null,
            "min_height": null,
            "min_width": null,
            "object_fit": null,
            "object_position": null,
            "order": null,
            "overflow": null,
            "overflow_x": null,
            "overflow_y": null,
            "padding": null,
            "right": null,
            "top": null,
            "visibility": null,
            "width": null
          }
        },
        "a1a8a71fdfcd4987bc2115edf5983073": {
          "model_module": "@jupyter-widgets/controls",
          "model_name": "DescriptionStyleModel",
          "model_module_version": "1.5.0",
          "state": {
            "_model_module": "@jupyter-widgets/controls",
            "_model_module_version": "1.5.0",
            "_model_name": "DescriptionStyleModel",
            "_view_count": null,
            "_view_module": "@jupyter-widgets/base",
            "_view_module_version": "1.2.0",
            "_view_name": "StyleView",
            "description_width": ""
          }
        },
        "c3e6ac58142e4cbcabd5d745f416b2f4": {
          "model_module": "@jupyter-widgets/controls",
          "model_name": "HBoxModel",
          "model_module_version": "1.5.0",
          "state": {
            "_dom_classes": [],
            "_model_module": "@jupyter-widgets/controls",
            "_model_module_version": "1.5.0",
            "_model_name": "HBoxModel",
            "_view_count": null,
            "_view_module": "@jupyter-widgets/controls",
            "_view_module_version": "1.5.0",
            "_view_name": "HBoxView",
            "box_style": "",
            "children": [
              "IPY_MODEL_f1a25618e7bf4503a7dbcd3d12a39634",
              "IPY_MODEL_703454b7a49e43a0ba561e328d5686f3",
              "IPY_MODEL_d8165bcc8b8e486eb8b317a070fb2b43"
            ],
            "layout": "IPY_MODEL_ea3e04ffd91c46a4aaa94339aa09ea7a"
          }
        },
        "f1a25618e7bf4503a7dbcd3d12a39634": {
          "model_module": "@jupyter-widgets/controls",
          "model_name": "HTMLModel",
          "model_module_version": "1.5.0",
          "state": {
            "_dom_classes": [],
            "_model_module": "@jupyter-widgets/controls",
            "_model_module_version": "1.5.0",
            "_model_name": "HTMLModel",
            "_view_count": null,
            "_view_module": "@jupyter-widgets/controls",
            "_view_module_version": "1.5.0",
            "_view_name": "HTMLView",
            "description": "",
            "description_tooltip": null,
            "layout": "IPY_MODEL_de0af7f8b81b4add99aa627883d95da7",
            "placeholder": "​",
            "style": "IPY_MODEL_33afb4784b704bdeb255fa69ca32ef9f",
            "value": "pytorch_model.bin: 100%"
          }
        },
        "703454b7a49e43a0ba561e328d5686f3": {
          "model_module": "@jupyter-widgets/controls",
          "model_name": "FloatProgressModel",
          "model_module_version": "1.5.0",
          "state": {
            "_dom_classes": [],
            "_model_module": "@jupyter-widgets/controls",
            "_model_module_version": "1.5.0",
            "_model_name": "FloatProgressModel",
            "_view_count": null,
            "_view_module": "@jupyter-widgets/controls",
            "_view_module_version": "1.5.0",
            "_view_name": "ProgressView",
            "bar_style": "success",
            "description": "",
            "description_tooltip": null,
            "layout": "IPY_MODEL_825aa5dd70f24b968df58e8415f1f3df",
            "max": 62747391,
            "min": 0,
            "orientation": "horizontal",
            "style": "IPY_MODEL_0c14fbc2cc0b481990360a8e63ad1148",
            "value": 62747391
          }
        },
        "d8165bcc8b8e486eb8b317a070fb2b43": {
          "model_module": "@jupyter-widgets/controls",
          "model_name": "HTMLModel",
          "model_module_version": "1.5.0",
          "state": {
            "_dom_classes": [],
            "_model_module": "@jupyter-widgets/controls",
            "_model_module_version": "1.5.0",
            "_model_name": "HTMLModel",
            "_view_count": null,
            "_view_module": "@jupyter-widgets/controls",
            "_view_module_version": "1.5.0",
            "_view_name": "HTMLView",
            "description": "",
            "description_tooltip": null,
            "layout": "IPY_MODEL_9ff4175c855c4dd3af42c29aa02396e7",
            "placeholder": "​",
            "style": "IPY_MODEL_eba9e41ed36b4b5d9dbdd260c2b9c8f2",
            "value": " 62.7M/62.7M [00:01&lt;00:00, 46.3MB/s]"
          }
        },
        "ea3e04ffd91c46a4aaa94339aa09ea7a": {
          "model_module": "@jupyter-widgets/base",
          "model_name": "LayoutModel",
          "model_module_version": "1.2.0",
          "state": {
            "_model_module": "@jupyter-widgets/base",
            "_model_module_version": "1.2.0",
            "_model_name": "LayoutModel",
            "_view_count": null,
            "_view_module": "@jupyter-widgets/base",
            "_view_module_version": "1.2.0",
            "_view_name": "LayoutView",
            "align_content": null,
            "align_items": null,
            "align_self": null,
            "border": null,
            "bottom": null,
            "display": null,
            "flex": null,
            "flex_flow": null,
            "grid_area": null,
            "grid_auto_columns": null,
            "grid_auto_flow": null,
            "grid_auto_rows": null,
            "grid_column": null,
            "grid_gap": null,
            "grid_row": null,
            "grid_template_areas": null,
            "grid_template_columns": null,
            "grid_template_rows": null,
            "height": null,
            "justify_content": null,
            "justify_items": null,
            "left": null,
            "margin": null,
            "max_height": null,
            "max_width": null,
            "min_height": null,
            "min_width": null,
            "object_fit": null,
            "object_position": null,
            "order": null,
            "overflow": null,
            "overflow_x": null,
            "overflow_y": null,
            "padding": null,
            "right": null,
            "top": null,
            "visibility": null,
            "width": null
          }
        },
        "de0af7f8b81b4add99aa627883d95da7": {
          "model_module": "@jupyter-widgets/base",
          "model_name": "LayoutModel",
          "model_module_version": "1.2.0",
          "state": {
            "_model_module": "@jupyter-widgets/base",
            "_model_module_version": "1.2.0",
            "_model_name": "LayoutModel",
            "_view_count": null,
            "_view_module": "@jupyter-widgets/base",
            "_view_module_version": "1.2.0",
            "_view_name": "LayoutView",
            "align_content": null,
            "align_items": null,
            "align_self": null,
            "border": null,
            "bottom": null,
            "display": null,
            "flex": null,
            "flex_flow": null,
            "grid_area": null,
            "grid_auto_columns": null,
            "grid_auto_flow": null,
            "grid_auto_rows": null,
            "grid_column": null,
            "grid_gap": null,
            "grid_row": null,
            "grid_template_areas": null,
            "grid_template_columns": null,
            "grid_template_rows": null,
            "height": null,
            "justify_content": null,
            "justify_items": null,
            "left": null,
            "margin": null,
            "max_height": null,
            "max_width": null,
            "min_height": null,
            "min_width": null,
            "object_fit": null,
            "object_position": null,
            "order": null,
            "overflow": null,
            "overflow_x": null,
            "overflow_y": null,
            "padding": null,
            "right": null,
            "top": null,
            "visibility": null,
            "width": null
          }
        },
        "33afb4784b704bdeb255fa69ca32ef9f": {
          "model_module": "@jupyter-widgets/controls",
          "model_name": "DescriptionStyleModel",
          "model_module_version": "1.5.0",
          "state": {
            "_model_module": "@jupyter-widgets/controls",
            "_model_module_version": "1.5.0",
            "_model_name": "DescriptionStyleModel",
            "_view_count": null,
            "_view_module": "@jupyter-widgets/base",
            "_view_module_version": "1.2.0",
            "_view_name": "StyleView",
            "description_width": ""
          }
        },
        "825aa5dd70f24b968df58e8415f1f3df": {
          "model_module": "@jupyter-widgets/base",
          "model_name": "LayoutModel",
          "model_module_version": "1.2.0",
          "state": {
            "_model_module": "@jupyter-widgets/base",
            "_model_module_version": "1.2.0",
            "_model_name": "LayoutModel",
            "_view_count": null,
            "_view_module": "@jupyter-widgets/base",
            "_view_module_version": "1.2.0",
            "_view_name": "LayoutView",
            "align_content": null,
            "align_items": null,
            "align_self": null,
            "border": null,
            "bottom": null,
            "display": null,
            "flex": null,
            "flex_flow": null,
            "grid_area": null,
            "grid_auto_columns": null,
            "grid_auto_flow": null,
            "grid_auto_rows": null,
            "grid_column": null,
            "grid_gap": null,
            "grid_row": null,
            "grid_template_areas": null,
            "grid_template_columns": null,
            "grid_template_rows": null,
            "height": null,
            "justify_content": null,
            "justify_items": null,
            "left": null,
            "margin": null,
            "max_height": null,
            "max_width": null,
            "min_height": null,
            "min_width": null,
            "object_fit": null,
            "object_position": null,
            "order": null,
            "overflow": null,
            "overflow_x": null,
            "overflow_y": null,
            "padding": null,
            "right": null,
            "top": null,
            "visibility": null,
            "width": null
          }
        },
        "0c14fbc2cc0b481990360a8e63ad1148": {
          "model_module": "@jupyter-widgets/controls",
          "model_name": "ProgressStyleModel",
          "model_module_version": "1.5.0",
          "state": {
            "_model_module": "@jupyter-widgets/controls",
            "_model_module_version": "1.5.0",
            "_model_name": "ProgressStyleModel",
            "_view_count": null,
            "_view_module": "@jupyter-widgets/base",
            "_view_module_version": "1.2.0",
            "_view_name": "StyleView",
            "bar_color": null,
            "description_width": ""
          }
        },
        "9ff4175c855c4dd3af42c29aa02396e7": {
          "model_module": "@jupyter-widgets/base",
          "model_name": "LayoutModel",
          "model_module_version": "1.2.0",
          "state": {
            "_model_module": "@jupyter-widgets/base",
            "_model_module_version": "1.2.0",
            "_model_name": "LayoutModel",
            "_view_count": null,
            "_view_module": "@jupyter-widgets/base",
            "_view_module_version": "1.2.0",
            "_view_name": "LayoutView",
            "align_content": null,
            "align_items": null,
            "align_self": null,
            "border": null,
            "bottom": null,
            "display": null,
            "flex": null,
            "flex_flow": null,
            "grid_area": null,
            "grid_auto_columns": null,
            "grid_auto_flow": null,
            "grid_auto_rows": null,
            "grid_column": null,
            "grid_gap": null,
            "grid_row": null,
            "grid_template_areas": null,
            "grid_template_columns": null,
            "grid_template_rows": null,
            "height": null,
            "justify_content": null,
            "justify_items": null,
            "left": null,
            "margin": null,
            "max_height": null,
            "max_width": null,
            "min_height": null,
            "min_width": null,
            "object_fit": null,
            "object_position": null,
            "order": null,
            "overflow": null,
            "overflow_x": null,
            "overflow_y": null,
            "padding": null,
            "right": null,
            "top": null,
            "visibility": null,
            "width": null
          }
        },
        "eba9e41ed36b4b5d9dbdd260c2b9c8f2": {
          "model_module": "@jupyter-widgets/controls",
          "model_name": "DescriptionStyleModel",
          "model_module_version": "1.5.0",
          "state": {
            "_model_module": "@jupyter-widgets/controls",
            "_model_module_version": "1.5.0",
            "_model_name": "DescriptionStyleModel",
            "_view_count": null,
            "_view_module": "@jupyter-widgets/base",
            "_view_module_version": "1.2.0",
            "_view_name": "StyleView",
            "description_width": ""
          }
        }
      }
    }
  },
  "cells": [
    {
      "cell_type": "markdown",
      "source": [
        "# Introdução\n",
        "\n",
        "Quando iniciei este projeto, meu objetivo era claro: treinar uma rede neural BERT utilizando Keras para detectar bots no Twitter.  \n",
        "Olhando de fora, essa tarefa pode parecer simples — basta escolher um modelo pronto, treinar e avaliar. Mas logo percebi que lidar com modelos baseados em BERT é um processo muito mais desafiador e cheio de nuances do que imaginei.\n",
        "\n",
        "A primeira dificuldade foi compreender a complexidade do próprio modelo. O BERT e suas variações, como o TinyBERT, não funcionam como classificadores tradicionais: eles exigem tokenização específica, parametrização cuidadosa e um volume de dados capaz de sustentar o aprendizado. Só nesse ponto já percebi que não bastava “rodar o código”; era preciso entender o raciocínio por trás de cada etapa, do pré-processamento ao ajuste dos hiperparâmetros.\n",
        "\n",
        "Ao longo do caminho, também aprendi a lidar com a frustração de resultados inesperados. A ciência de dados nem sempre entrega soluções elegantes logo de início. Muitas vezes, o modelo se comporta de forma trivial, como foi o caso aqui, e isso ensina mais do que qualquer resultado positivo: mostra a importância de analisar criticamente cada métrica e de não aceitar qualquer acurácia no papel sem entender de onde ela veio.\n",
        "\n",
        "Este trabalho, portanto, não foi apenas sobre treinar um BERT. Foi uma experiência prática de como se dá a pesquisa em aprendizado de máquina: feita de hipóteses, tentativas, erros, limitações do ambiente (como recursos computacionais restritos do Colab) e muita interpretação crítica dos resultados. A seguir, descrevo detalhadamente as escolhas, implementações e análises que realizei.\n"
      ],
      "metadata": {
        "id": "HP3jN3YDMF9s"
      }
    },
    {
      "cell_type": "code",
      "execution_count": 1,
      "metadata": {
        "colab": {
          "base_uri": "https://localhost:8080/"
        },
        "id": "BJHPXa4JCdmY",
        "outputId": "6aa80cce-1000-4bc7-8712-70182f1cc5fd"
      },
      "outputs": [
        {
          "output_type": "stream",
          "name": "stdout",
          "text": [
            "Requirement already satisfied: transformers in /usr/local/lib/python3.12/dist-packages (4.56.1)\n",
            "Requirement already satisfied: tensorflow in /usr/local/lib/python3.12/dist-packages (2.19.0)\n",
            "Requirement already satisfied: filelock in /usr/local/lib/python3.12/dist-packages (from transformers) (3.19.1)\n",
            "Requirement already satisfied: huggingface-hub<1.0,>=0.34.0 in /usr/local/lib/python3.12/dist-packages (from transformers) (0.35.0)\n",
            "Requirement already satisfied: numpy>=1.17 in /usr/local/lib/python3.12/dist-packages (from transformers) (2.0.2)\n",
            "Requirement already satisfied: packaging>=20.0 in /usr/local/lib/python3.12/dist-packages (from transformers) (25.0)\n",
            "Requirement already satisfied: pyyaml>=5.1 in /usr/local/lib/python3.12/dist-packages (from transformers) (6.0.2)\n",
            "Requirement already satisfied: regex!=2019.12.17 in /usr/local/lib/python3.12/dist-packages (from transformers) (2024.11.6)\n",
            "Requirement already satisfied: requests in /usr/local/lib/python3.12/dist-packages (from transformers) (2.32.4)\n",
            "Requirement already satisfied: tokenizers<=0.23.0,>=0.22.0 in /usr/local/lib/python3.12/dist-packages (from transformers) (0.22.0)\n",
            "Requirement already satisfied: safetensors>=0.4.3 in /usr/local/lib/python3.12/dist-packages (from transformers) (0.6.2)\n",
            "Requirement already satisfied: tqdm>=4.27 in /usr/local/lib/python3.12/dist-packages (from transformers) (4.67.1)\n",
            "Requirement already satisfied: absl-py>=1.0.0 in /usr/local/lib/python3.12/dist-packages (from tensorflow) (1.4.0)\n",
            "Requirement already satisfied: astunparse>=1.6.0 in /usr/local/lib/python3.12/dist-packages (from tensorflow) (1.6.3)\n",
            "Requirement already satisfied: flatbuffers>=24.3.25 in /usr/local/lib/python3.12/dist-packages (from tensorflow) (25.2.10)\n",
            "Requirement already satisfied: gast!=0.5.0,!=0.5.1,!=0.5.2,>=0.2.1 in /usr/local/lib/python3.12/dist-packages (from tensorflow) (0.6.0)\n",
            "Requirement already satisfied: google-pasta>=0.1.1 in /usr/local/lib/python3.12/dist-packages (from tensorflow) (0.2.0)\n",
            "Requirement already satisfied: libclang>=13.0.0 in /usr/local/lib/python3.12/dist-packages (from tensorflow) (18.1.1)\n",
            "Requirement already satisfied: opt-einsum>=2.3.2 in /usr/local/lib/python3.12/dist-packages (from tensorflow) (3.4.0)\n",
            "Requirement already satisfied: protobuf!=4.21.0,!=4.21.1,!=4.21.2,!=4.21.3,!=4.21.4,!=4.21.5,<6.0.0dev,>=3.20.3 in /usr/local/lib/python3.12/dist-packages (from tensorflow) (5.29.5)\n",
            "Requirement already satisfied: setuptools in /usr/local/lib/python3.12/dist-packages (from tensorflow) (75.2.0)\n",
            "Requirement already satisfied: six>=1.12.0 in /usr/local/lib/python3.12/dist-packages (from tensorflow) (1.17.0)\n",
            "Requirement already satisfied: termcolor>=1.1.0 in /usr/local/lib/python3.12/dist-packages (from tensorflow) (3.1.0)\n",
            "Requirement already satisfied: typing-extensions>=3.6.6 in /usr/local/lib/python3.12/dist-packages (from tensorflow) (4.15.0)\n",
            "Requirement already satisfied: wrapt>=1.11.0 in /usr/local/lib/python3.12/dist-packages (from tensorflow) (1.17.3)\n",
            "Requirement already satisfied: grpcio<2.0,>=1.24.3 in /usr/local/lib/python3.12/dist-packages (from tensorflow) (1.75.0)\n",
            "Requirement already satisfied: tensorboard~=2.19.0 in /usr/local/lib/python3.12/dist-packages (from tensorflow) (2.19.0)\n",
            "Requirement already satisfied: keras>=3.5.0 in /usr/local/lib/python3.12/dist-packages (from tensorflow) (3.10.0)\n",
            "Requirement already satisfied: h5py>=3.11.0 in /usr/local/lib/python3.12/dist-packages (from tensorflow) (3.14.0)\n",
            "Requirement already satisfied: ml-dtypes<1.0.0,>=0.5.1 in /usr/local/lib/python3.12/dist-packages (from tensorflow) (0.5.3)\n",
            "Requirement already satisfied: wheel<1.0,>=0.23.0 in /usr/local/lib/python3.12/dist-packages (from astunparse>=1.6.0->tensorflow) (0.45.1)\n",
            "Requirement already satisfied: fsspec>=2023.5.0 in /usr/local/lib/python3.12/dist-packages (from huggingface-hub<1.0,>=0.34.0->transformers) (2025.3.0)\n",
            "Requirement already satisfied: hf-xet<2.0.0,>=1.1.3 in /usr/local/lib/python3.12/dist-packages (from huggingface-hub<1.0,>=0.34.0->transformers) (1.1.10)\n",
            "Requirement already satisfied: rich in /usr/local/lib/python3.12/dist-packages (from keras>=3.5.0->tensorflow) (13.9.4)\n",
            "Requirement already satisfied: namex in /usr/local/lib/python3.12/dist-packages (from keras>=3.5.0->tensorflow) (0.1.0)\n",
            "Requirement already satisfied: optree in /usr/local/lib/python3.12/dist-packages (from keras>=3.5.0->tensorflow) (0.17.0)\n",
            "Requirement already satisfied: charset_normalizer<4,>=2 in /usr/local/lib/python3.12/dist-packages (from requests->transformers) (3.4.3)\n",
            "Requirement already satisfied: idna<4,>=2.5 in /usr/local/lib/python3.12/dist-packages (from requests->transformers) (3.10)\n",
            "Requirement already satisfied: urllib3<3,>=1.21.1 in /usr/local/lib/python3.12/dist-packages (from requests->transformers) (2.5.0)\n",
            "Requirement already satisfied: certifi>=2017.4.17 in /usr/local/lib/python3.12/dist-packages (from requests->transformers) (2025.8.3)\n",
            "Requirement already satisfied: markdown>=2.6.8 in /usr/local/lib/python3.12/dist-packages (from tensorboard~=2.19.0->tensorflow) (3.9)\n",
            "Requirement already satisfied: tensorboard-data-server<0.8.0,>=0.7.0 in /usr/local/lib/python3.12/dist-packages (from tensorboard~=2.19.0->tensorflow) (0.7.2)\n",
            "Requirement already satisfied: werkzeug>=1.0.1 in /usr/local/lib/python3.12/dist-packages (from tensorboard~=2.19.0->tensorflow) (3.1.3)\n",
            "Requirement already satisfied: MarkupSafe>=2.1.1 in /usr/local/lib/python3.12/dist-packages (from werkzeug>=1.0.1->tensorboard~=2.19.0->tensorflow) (3.0.2)\n",
            "Requirement already satisfied: markdown-it-py>=2.2.0 in /usr/local/lib/python3.12/dist-packages (from rich->keras>=3.5.0->tensorflow) (4.0.0)\n",
            "Requirement already satisfied: pygments<3.0.0,>=2.13.0 in /usr/local/lib/python3.12/dist-packages (from rich->keras>=3.5.0->tensorflow) (2.19.2)\n",
            "Requirement already satisfied: mdurl~=0.1 in /usr/local/lib/python3.12/dist-packages (from markdown-it-py>=2.2.0->rich->keras>=3.5.0->tensorflow) (0.1.2)\n"
          ]
        }
      ],
      "source": [
        "!pip install transformers tensorflow\n"
      ]
    },
    {
      "cell_type": "markdown",
      "source": [
        "# Carregamento do dataset\n",
        "\n",
        "O dataset fornecido contém múltiplas colunas, incluindo informações de usuários, metadados e o texto dos tweets.  \n",
        "Para este projeto, meu foco está em utilizar a coluna **Tweet** como entrada de texto e a coluna **Bot Label** como variável alvo (0 = humano, 1 = bot).  \n",
        "\n",
        "O código abaixo carrega o CSV, mostra suas primeiras linhas e também a distribuição das classes, permitindo validar se há equilíbrio entre bots e humanos.\n"
      ],
      "metadata": {
        "id": "P0MRjx2UMLJz"
      }
    },
    {
      "cell_type": "code",
      "source": [
        "import pandas as pd\n",
        "\n",
        "df = pd.read_csv(\"/content/bot_detection_data.csv\")\n",
        "\n",
        "print(df.head())\n",
        "print(df.columns)   # Confere os nomes das colunas\n",
        "print(df['Bot Label'].value_counts())  # Distribuição das classes\n"
      ],
      "metadata": {
        "colab": {
          "base_uri": "https://localhost:8080/"
        },
        "id": "2h4b_Q8JCsBc",
        "outputId": "16401fa5-6a95-44ba-f738-03931264a2cd"
      },
      "execution_count": 2,
      "outputs": [
        {
          "output_type": "stream",
          "name": "stdout",
          "text": [
            "   User ID        Username                                              Tweet  \\\n",
            "0   132131           flong  Station activity person against natural majori...   \n",
            "1   289683  hinesstephanie  Authority research natural life material staff...   \n",
            "2   779715      roberttran  Manage whose quickly especially foot none to g...   \n",
            "3   696168          pmason  Just cover eight opportunity strong policy which.   \n",
            "4   704441          noah87                      Animal sign six data good or.   \n",
            "\n",
            "   Retweet Count  Mention Count  Follower Count  Verified  Bot Label  \\\n",
            "0             85              1            2353     False          1   \n",
            "1             55              5            9617      True          0   \n",
            "2              6              2            4363      True          0   \n",
            "3             54              5            2242      True          1   \n",
            "4             26              3            8438     False          1   \n",
            "\n",
            "       Location           Created At            Hashtags  \n",
            "0     Adkinston  2020-05-11 15:29:50                 NaN  \n",
            "1    Sanderston  2022-11-26 05:18:10           both live  \n",
            "2  Harrisonfurt  2022-08-08 03:16:54         phone ahead  \n",
            "3  Martinezberg  2021-08-14 22:27:05  ever quickly new I  \n",
            "4  Camachoville  2020-04-13 21:24:21     foreign mention  \n",
            "Index(['User ID', 'Username', 'Tweet', 'Retweet Count', 'Mention Count',\n",
            "       'Follower Count', 'Verified', 'Bot Label', 'Location', 'Created At',\n",
            "       'Hashtags'],\n",
            "      dtype='object')\n",
            "Bot Label\n",
            "1    25018\n",
            "0    24982\n",
            "Name: count, dtype: int64\n"
          ]
        }
      ]
    },
    {
      "cell_type": "markdown",
      "source": [
        "# Separação entre treino e teste\n",
        "\n",
        "Para avaliar o desempenho do modelo, divido o dataset em dois subconjuntos:  \n",
        "- **80% treino**: usado para ajuste dos pesos do modelo.  \n",
        "- **20% teste**: usado apenas para avaliação final.  \n",
        "\n",
        "A divisão estratificada garante que a proporção entre bots e humanos seja preservada em ambos os conjuntos.\n"
      ],
      "metadata": {
        "id": "pafmsSkIMPFU"
      }
    },
    {
      "cell_type": "code",
      "source": [
        "from sklearn.model_selection import train_test_split\n",
        "\n",
        "X_train, X_test, y_train, y_test = train_test_split(\n",
        "    df[\"Tweet\"], df[\"Bot Label\"], test_size=0.2, random_state=42, stratify=df[\"Bot Label\"]\n",
        ")\n"
      ],
      "metadata": {
        "id": "BPwxAYVdDBWd"
      },
      "execution_count": 3,
      "outputs": []
    },
    {
      "cell_type": "markdown",
      "source": [
        "# Tokenização dos tweets\n",
        "\n",
        "Como os modelos BERT trabalham com tokens e não diretamente com texto cru, preciso transformar os tweets em sequências numéricas.  \n",
        "Utilizo o **tokenizer TinyBERT** para:  \n",
        "- Limitar o tamanho de cada tweet a 128 tokens.  \n",
        "- Padronizar o comprimento com padding e truncamento.  \n",
        "\n",
        "Esse passo garante que todos os exemplos tenham o mesmo formato de entrada.\n"
      ],
      "metadata": {
        "id": "Q_Mzt3zWMTbW"
      }
    },
    {
      "cell_type": "code",
      "source": [
        "from transformers import AutoTokenizer\n",
        "\n",
        "tokenizer = AutoTokenizer.from_pretrained(\"huawei-noah/TinyBERT_General_4L_312D\")\n",
        "\n",
        "train_encodings = tokenizer(list(X_train), truncation=True, padding=True, max_length=128)\n",
        "test_encodings = tokenizer(list(X_test), truncation=True, padding=True, max_length=128)\n"
      ],
      "metadata": {
        "colab": {
          "base_uri": "https://localhost:8080/",
          "height": 205,
          "referenced_widgets": [
            "db867f6bc2e9466a832825f8ea9a50c2",
            "1d94e8020a1f4e049d26063a2de2d331",
            "edb181784d474d66832faa7826e88f4b",
            "a7235869d90c4521834ea1669e55d6bd",
            "43604d7b55d84cf5b7b87aa8760f52ed",
            "61f1018a36f14f93a56bb4f9bed91868",
            "1dcc5acbc92a4e3d9be681782dc4e0f0",
            "297b891b7dd24c49ac38368cb1fbb519",
            "961cb71890684967b72c466997e3fbb4",
            "11cdbd2a36f4457b87966c451e3985fc",
            "a255966a8f924648929575ed6df9c6e8",
            "9e97ae79599d48ae93112e70847fc512",
            "c9112e8a9d1f478abf20934615fe5335",
            "881c692656994f428a117b0ca4190206",
            "723d8196fcd047acb955cc2ef2a1a878",
            "7334d53990d24ada81c8d23da4038d6a",
            "349fed4fd808434fa83e56f1b9a79d0f",
            "1ee0e318d1764fe69f309c5c87773951",
            "1bc4b995ff764c20865c5344b939408c",
            "e61e7f2ceb274ac69a270ad2c1e602a6",
            "c6a070bb3bcc4a9594a59a075bdefa1b",
            "a1a8a71fdfcd4987bc2115edf5983073"
          ]
        },
        "id": "pnWyCah2DDXc",
        "outputId": "482f726f-7c21-4292-9366-3ac51d31bdd8"
      },
      "execution_count": 4,
      "outputs": [
        {
          "output_type": "stream",
          "name": "stderr",
          "text": [
            "/usr/local/lib/python3.12/dist-packages/huggingface_hub/utils/_auth.py:94: UserWarning: \n",
            "The secret `HF_TOKEN` does not exist in your Colab secrets.\n",
            "To authenticate with the Hugging Face Hub, create a token in your settings tab (https://huggingface.co/settings/tokens), set it as secret in your Google Colab and restart your session.\n",
            "You will be able to reuse this secret in all of your notebooks.\n",
            "Please note that authentication is recommended but still optional to access public models or datasets.\n",
            "  warnings.warn(\n"
          ]
        },
        {
          "output_type": "display_data",
          "data": {
            "text/plain": [
              "config.json:   0%|          | 0.00/409 [00:00<?, ?B/s]"
            ],
            "application/vnd.jupyter.widget-view+json": {
              "version_major": 2,
              "version_minor": 0,
              "model_id": "db867f6bc2e9466a832825f8ea9a50c2"
            }
          },
          "metadata": {}
        },
        {
          "output_type": "display_data",
          "data": {
            "text/plain": [
              "vocab.txt: 0.00B [00:00, ?B/s]"
            ],
            "application/vnd.jupyter.widget-view+json": {
              "version_major": 2,
              "version_minor": 0,
              "model_id": "9e97ae79599d48ae93112e70847fc512"
            }
          },
          "metadata": {}
        }
      ]
    },
    {
      "cell_type": "markdown",
      "source": [
        "# Preparação dos dados para TensorFlow\n",
        "\n",
        "Para treinar o modelo no Keras, converto os dados tokenizados em um formato aceito pelo TensorFlow.  \n",
        "Crio dois `tf.data.Dataset`: um para treino e outro para teste.  \n",
        "Essa estrutura facilita o processamento em lotes (batch) e melhora o desempenho durante o treino.\n"
      ],
      "metadata": {
        "id": "30WbbbdbMW_i"
      }
    },
    {
      "cell_type": "code",
      "source": [
        "import tensorflow as tf\n",
        "\n",
        "train_dataset = tf.data.Dataset.from_tensor_slices((\n",
        "    dict(train_encodings),\n",
        "    y_train.values\n",
        ")).batch(32)\n",
        "\n",
        "test_dataset = tf.data.Dataset.from_tensor_slices((\n",
        "    dict(test_encodings),\n",
        "    y_test.values\n",
        ")).batch(32)\n"
      ],
      "metadata": {
        "id": "x487F6-6DGqW"
      },
      "execution_count": 5,
      "outputs": []
    },
    {
      "cell_type": "markdown",
      "source": [
        "# Definição do modelo TinyBERT\n",
        "\n",
        "Aqui carrego o **TinyBERT** já pré-treinado, adaptando-o para um problema de classificação binária.  \n",
        "Escolhi usar **Adam** com `learning_rate=5e-5`, que é a taxa recomendada para fine-tuning de modelos BERT.  \n",
        "A função de perda é a `SparseCategoricalCrossentropy` com `from_logits=True`, adequada para classificação de múltiplas classes (neste caso, 2 classes).\n"
      ],
      "metadata": {
        "id": "7XUFzPveMadL"
      }
    },
    {
      "cell_type": "code",
      "source": [
        "from transformers import TFAutoModelForSequenceClassification\n",
        "\n",
        "model = TFAutoModelForSequenceClassification.from_pretrained(\n",
        "    \"huawei-noah/TinyBERT_General_4L_312D\",\n",
        "    num_labels=2,\n",
        "    from_pt=True\n",
        ")\n",
        "\n",
        "optimizer = tf.keras.optimizers.Adam(learning_rate=5e-5)\n",
        "loss = tf.keras.losses.SparseCategoricalCrossentropy(from_logits=True)\n",
        "\n",
        "model.compile(optimizer=optimizer, loss=loss, metrics=[\"accuracy\"])\n"
      ],
      "metadata": {
        "colab": {
          "base_uri": "https://localhost:8080/",
          "height": 173,
          "referenced_widgets": [
            "c3e6ac58142e4cbcabd5d745f416b2f4",
            "f1a25618e7bf4503a7dbcd3d12a39634",
            "703454b7a49e43a0ba561e328d5686f3",
            "d8165bcc8b8e486eb8b317a070fb2b43",
            "ea3e04ffd91c46a4aaa94339aa09ea7a",
            "de0af7f8b81b4add99aa627883d95da7",
            "33afb4784b704bdeb255fa69ca32ef9f",
            "825aa5dd70f24b968df58e8415f1f3df",
            "0c14fbc2cc0b481990360a8e63ad1148",
            "9ff4175c855c4dd3af42c29aa02396e7",
            "eba9e41ed36b4b5d9dbdd260c2b9c8f2"
          ]
        },
        "id": "F6Xv86jYDIj5",
        "outputId": "a8d36065-469d-40c5-ec65-a7d1442052b0"
      },
      "execution_count": 6,
      "outputs": [
        {
          "output_type": "display_data",
          "data": {
            "text/plain": [
              "pytorch_model.bin:   0%|          | 0.00/62.7M [00:00<?, ?B/s]"
            ],
            "application/vnd.jupyter.widget-view+json": {
              "version_major": 2,
              "version_minor": 0,
              "model_id": "c3e6ac58142e4cbcabd5d745f416b2f4"
            }
          },
          "metadata": {}
        },
        {
          "output_type": "stream",
          "name": "stderr",
          "text": [
            "TensorFlow and JAX classes are deprecated and will be removed in Transformers v5. We recommend migrating to PyTorch classes or pinning your version of Transformers.\n",
            "Some weights of the PyTorch model were not used when initializing the TF 2.0 model TFBertForSequenceClassification: ['fit_denses.4.weight', 'fit_denses.4.bias', 'fit_denses.1.weight', 'fit_denses.3.bias', 'fit_denses.0.bias', 'fit_denses.1.bias', 'fit_denses.2.weight', 'fit_denses.3.weight', 'fit_denses.2.bias', 'fit_denses.0.weight']\n",
            "- This IS expected if you are initializing TFBertForSequenceClassification from a PyTorch model trained on another task or with another architecture (e.g. initializing a TFBertForSequenceClassification model from a BertForPreTraining model).\n",
            "- This IS NOT expected if you are initializing TFBertForSequenceClassification from a PyTorch model that you expect to be exactly identical (e.g. initializing a TFBertForSequenceClassification model from a BertForSequenceClassification model).\n",
            "Some weights or buffers of the TF 2.0 model TFBertForSequenceClassification were not initialized from the PyTorch model and are newly initialized: ['classifier.weight', 'classifier.bias']\n",
            "You should probably TRAIN this model on a down-stream task to be able to use it for predictions and inference.\n"
          ]
        }
      ]
    },
    {
      "cell_type": "markdown",
      "source": [
        "# Treinamento do modelo\n",
        "\n",
        "Inicio o treino do TinyBERT com 2 épocas.  \n",
        "Durante cada época, o modelo ajusta seus pesos a partir dos dados de treino, enquanto valida no conjunto de teste.  \n",
        "Espero observar uma redução da perda (loss) e melhora na acurácia.\n"
      ],
      "metadata": {
        "id": "YY1DKzA-Mdmt"
      }
    },
    {
      "cell_type": "code",
      "source": [
        "history = model.fit(train_dataset, validation_data=test_dataset, epochs=2)\n"
      ],
      "metadata": {
        "colab": {
          "base_uri": "https://localhost:8080/"
        },
        "id": "N_kRt9lCDKe8",
        "outputId": "fc970179-7805-4849-ec4a-c369c284cbda"
      },
      "execution_count": 7,
      "outputs": [
        {
          "output_type": "stream",
          "name": "stdout",
          "text": [
            "Epoch 1/2\n",
            "1250/1250 [==============================] - 899s 708ms/step - loss: 0.6933 - accuracy: 0.4960 - val_loss: 0.6932 - val_accuracy: 0.4996\n",
            "Epoch 2/2\n",
            "1250/1250 [==============================] - 807s 646ms/step - loss: 0.6933 - accuracy: 0.4945 - val_loss: 0.6932 - val_accuracy: 0.4996\n"
          ]
        }
      ]
    },
    {
      "cell_type": "markdown",
      "source": [
        "# Avaliação numérica\n",
        "\n",
        "Ao avaliar o modelo no conjunto de teste, obtive uma **acurácia de aproximadamente 50%**, com perda próxima de 0.6932.  \n",
        "Esse resultado indica que o modelo não conseguiu aprender a distinguir entre bots e humanos, já que sua performance ficou equivalente a uma predição aleatória (como \"chutar cara ou coroa\").  \n",
        "\n",
        "Esse comportamento é comum em tarefas de classificação binária quando o modelo não extrai padrões relevantes do texto ou quando a base de treino não oferece sinal suficiente para aprendizado."
      ],
      "metadata": {
        "id": "NgQz4zAUMg7i"
      }
    },
    {
      "cell_type": "code",
      "source": [
        "loss, acc = model.evaluate(test_dataset)\n",
        "print(f\"Test Accuracy: {acc:.4f}\")"
      ],
      "metadata": {
        "colab": {
          "base_uri": "https://localhost:8080/"
        },
        "id": "x5dYpvqnDMP8",
        "outputId": "ae481d7c-3a25-432f-e4ef-84b73e202e43"
      },
      "execution_count": 8,
      "outputs": [
        {
          "output_type": "stream",
          "name": "stdout",
          "text": [
            "313/313 [==============================] - 49s 156ms/step - loss: 0.6932 - accuracy: 0.4996\n",
            "Test Accuracy: 0.4996\n"
          ]
        }
      ]
    },
    {
      "cell_type": "code",
      "source": [
        "import numpy as np\n",
        "\n",
        "y_pred_logits = model.predict(test_dataset).logits\n",
        "y_pred_probs = tf.nn.softmax(y_pred_logits, axis=1).numpy()\n",
        "y_pred = np.argmax(y_pred_probs, axis=1)\n"
      ],
      "metadata": {
        "colab": {
          "base_uri": "https://localhost:8080/"
        },
        "id": "honuM_CVARsn",
        "outputId": "807d8fca-a0fe-45c5-d73d-a6e889fd7a4a"
      },
      "execution_count": 9,
      "outputs": [
        {
          "output_type": "stream",
          "name": "stdout",
          "text": [
            "313/313 [==============================] - 50s 156ms/step\n"
          ]
        }
      ]
    },
    {
      "cell_type": "markdown",
      "source": [
        "# Matriz de confusão\n",
        "\n",
        "A matriz de confusão confirma a limitação do modelo.  \n",
        "Percebo que **todas as amostras foram classificadas como \"Humano\"**, tanto as realmente humanas (4996) quanto as que eram bots (5004).  \n",
        "Isso mostra que o modelo acabou aprendendo um \"atalho\" ruim: prever sempre a mesma classe.  \n",
        "\n",
        "Embora isso lhe garanta acertos em metade dos casos (os humanos), ele falha completamente em identificar bots, o que invalida seu uso prático.\n"
      ],
      "metadata": {
        "id": "tgZUVKXKMvi4"
      }
    },
    {
      "cell_type": "code",
      "source": [
        "import matplotlib.pyplot as plt\n",
        "import seaborn as sns\n",
        "from sklearn.metrics import confusion_matrix\n",
        "\n",
        "cm = confusion_matrix(y_test, y_pred)\n",
        "\n",
        "plt.figure(figsize=(5,4))\n",
        "sns.heatmap(cm, annot=True, fmt=\"d\", cmap=\"Blues\", xticklabels=[\"Humano\",\"Bot\"], yticklabels=[\"Humano\",\"Bot\"])\n",
        "plt.xlabel(\"Predito\")\n",
        "plt.ylabel(\"Real\")\n",
        "plt.title(\"Matriz de Confusão\")\n",
        "plt.show()\n"
      ],
      "metadata": {
        "colab": {
          "base_uri": "https://localhost:8080/",
          "height": 410
        },
        "id": "37eLV649AT_7",
        "outputId": "a001e1f9-d9cc-49c9-870b-30221d6b0008"
      },
      "execution_count": 10,
      "outputs": [
        {
          "output_type": "display_data",
          "data": {
            "text/plain": [
              "<Figure size 500x400 with 2 Axes>"
            ],
            "image/png": "[encoded data removed]"
          },
          "metadata": {}
        }
      ]
    },
    {
      "cell_type": "markdown",
      "source": [
        "# Curva ROC e AUC\n",
        "\n",
        "A curva ROC gerada é praticamente uma linha reta sobre a diagonal, com **AUC ≈ 0.51**.  \n",
        "Esse valor reforça a conclusão da acurácia: o modelo está tomando decisões muito próximas ao puro acaso, sem conseguir aprender a diferenciar efetivamente bots de humanos a partir dos tweets.  \n",
        "\n",
        "Esse tipo de curva é típico de modelos que não possuem poder preditivo real.\n"
      ],
      "metadata": {
        "id": "9UeJVURwMznk"
      }
    },
    {
      "cell_type": "code",
      "source": [
        "from sklearn.metrics import roc_curve, auc\n",
        "\n",
        "fpr, tpr, thresholds = roc_curve(y_test, y_pred_probs[:,1])\n",
        "roc_auc = auc(fpr, tpr)\n",
        "\n",
        "plt.figure(figsize=(6,5))\n",
        "plt.plot(fpr, tpr, color=\"blue\", lw=2, label=f\"AUC = {roc_auc:.2f}\")\n",
        "plt.plot([0,1],[0,1], color=\"gray\", linestyle=\"--\")\n",
        "plt.xlabel(\"False Positive Rate\")\n",
        "plt.ylabel(\"True Positive Rate\")\n",
        "plt.title(\"Curva ROC\")\n",
        "plt.legend(loc=\"lower right\")\n",
        "plt.show()\n"
      ],
      "metadata": {
        "colab": {
          "base_uri": "https://localhost:8080/",
          "height": 487
        },
        "id": "SW2l6HoaAWLH",
        "outputId": "42119d0b-c5c8-43c0-ea9a-91478dbb7be3"
      },
      "execution_count": 11,
      "outputs": [
        {
          "output_type": "display_data",
          "data": {
            "text/plain": [
              "<Figure size 600x500 with 1 Axes>"
            ],
            "image/png": "[encoded data removed]"
          },
          "metadata": {}
        }
      ]
    },
    {
      "cell_type": "markdown",
      "source": [
        "# Curva de perda\n",
        "\n",
        "Na curva de perda, tanto o treino quanto a validação permanecem estáveis e praticamente iguais ao longo das épocas, girando em torno de 0.693.  \n",
        "Esse valor corresponde exatamente à perda esperada para um modelo que não consegue sair do **baseline aleatório** em uma classificação binária.  \n",
        "\n",
        "Ou seja, mesmo após uma época, não há indício de que o modelo esteja aprendendo padrões úteis — ele estagnou desde o início.\n"
      ],
      "metadata": {
        "id": "RLxyxjIdM303"
      }
    },
    {
      "cell_type": "code",
      "source": [
        "plt.figure(figsize=(6,5))\n",
        "plt.plot(history.history[\"loss\"], label=\"Treino\")\n",
        "plt.plot(history.history[\"val_loss\"], label=\"Validação\")\n",
        "plt.xlabel(\"Época\")\n",
        "plt.ylabel(\"Perda\")\n",
        "plt.title(\"Curva de Perda\")\n",
        "plt.legend()\n",
        "plt.show()\n"
      ],
      "metadata": {
        "colab": {
          "base_uri": "https://localhost:8080/",
          "height": 489
        },
        "id": "w5UJm6XcAYXZ",
        "outputId": "5a8a5852-0b46-4bda-e89d-2bc2abac0808"
      },
      "execution_count": 12,
      "outputs": [
        {
          "output_type": "display_data",
          "data": {
            "text/plain": [
              "<Figure size 600x500 with 1 Axes>"
            ],
            "image/png": "[encoded data removed]"
          },
          "metadata": {}
        }
      ]
    },
    {
      "cell_type": "markdown",
      "source": [
        "# Conclusão\n",
        "\n",
        "Encerrar este projeto me trouxe reflexões importantes.  \n",
        "Do ponto de vista prático, consegui implementar todas as etapas esperadas: carregar o dataset, preparar os textos, configurar o TinyBERT, treinar o modelo e avaliar os resultados com métricas e gráficos. Do ponto de vista acadêmico, porém, o mais valioso não foram os números em si, mas o aprendizado que eles carregaram.\n",
        "\n",
        "O modelo não apresentou desempenho satisfatório: sua acurácia ficou próxima de 50%, o que equivale a um chute aleatório, e a matriz de confusão mostrou que ele não foi capaz de identificar bots. Isso poderia ser lido como um “fracasso”, mas para mim foi um ponto de virada. Percebi que resultados ruins também têm valor, porque evidenciam problemas a serem resolvidos e me obrigam a pensar criticamente.\n",
        "\n",
        "Aprendi que treinar um BERT exige muito mais do que apenas ajustar hiperparâmetros. É necessário considerar a qualidade do dataset, o balanceamento entre classes, o número de épocas de treino, a forma de tokenização e até alternativas de modelos. A ciência de dados não se resume a rodar experimentos: ela é uma prática de investigação, onde cada resultado precisa ser questionado e entendido em profundidade.\n",
        "\n",
        "Em termos pessoais, o maior aprendizado foi lidar com a paciência e a humildade diante das limitações. Vi que nem sempre a solução mais sofisticada traz os melhores resultados se não estiver bem ajustada ao problema. E, ao mesmo tempo, compreendi que esses “erros” são parte do processo de crescimento, porque me forçam a buscar novas soluções, a ser mais criterioso com meus dados e mais crítico com meus resultados.\n",
        "\n",
        "Portanto, mesmo que o modelo em si não tenha alcançado alta performance, considero que este projeto foi extremamente valioso: aprendi na prática o que significa trabalhar com BERT, enfrentei as dificuldades de fine-tuning em ambientes limitados e, acima de tudo, desenvolvi uma visão mais madura e crítica sobre o papel do cientista de dados frente a resultados que não correspondem às expectativas iniciais.\n"
      ],
      "metadata": {
        "id": "gE_j4onuOC1k"
      }
    }
  ]
}