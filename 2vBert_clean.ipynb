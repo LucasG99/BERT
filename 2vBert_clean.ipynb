{
 "cells": [
  {
   "cell_type": "markdown",
   "metadata": {
    "id": "oqu1di8kFYMA"
   },
   "source": [
    "# Projeto: Detecção de Bots no Twitter com BERT (Keras)\n",
    "\n",
    "## Objetivo\n",
    "Eu vou treinar e avaliar um classificador binário baseado em BERT, usando Keras/TensorFlow, para detectar contas bot no Twitter a partir do dataset “Twitter-Bot Detection”. Minha prioridade é garantir um pipeline reproduzível, métricas boas (além de accuracy) e um relatório claro do que eu fiz, por que fiz e qual o impacto de cada decisão.  \n",
    "Este trabalho tem caráter exploratório: mais do que buscar a melhor performance, o foco é validar a viabilidade da abordagem e estruturar uma base sólida para experimentos futuros.\n",
    "\n",
    "\n",
    "## Por que BERT + Keras?\n",
    "Escolhi BERT porque ele já vem pré-treinado em linguagem natural e costuma funcionar melhor do que modelos clássicos quando os textos são curtos, ruidosos e contextuais (como tweets). Uso Keras/TensorFlow para ter um treinamento estável e fácil integração com métricas, callbacks e salvamento do modelo.\n",
    "\n",
    "## O que esta seção faz\n",
    "Aqui eu apenas preparo o ambiente:\n",
    "- Instalo bibliotecas (transformers, scikit-learn).\n",
    "- Fixarei seeds para reprodutibilidade.\n",
    "- Checarei disponibilidade de GPU (impacta tempo de treino).\n",
    "- Validarei versões para evitar incompatibilidades.\n",
    "\n",
    "**Impacto**: garantir um início consistente e reproduzível. Se der algo errado aqui (ex.: sem GPU), eu já sei antecipadamente e ajusto o restante do plano.\n"
   ]
  },
  {
   "cell_type": "code",
   "execution_count": 1,
   "metadata": {
    "colab": {
     "base_uri": "https://localhost:8080/"
    },
    "id": "yWzTvNXaFaFi",
    "outputId": "a999b441-b861-4222-cbc5-5d8348e26600"
   },
   "outputs": [
    {
     "name": "stdout",
     "output_type": "stream",
     "text": [
      "\u001b[2K     \u001b[90m━━━━━━━━━━━━━━━━━━━━━━━━━━━━━━━━━━━━━━━\u001b[0m \u001b[32m43.7/43.7 kB\u001b[0m \u001b[31m906.4 kB/s\u001b[0m eta \u001b[36m0:00:00\u001b[0m\n",
      "\u001b[2K   \u001b[90m━━━━━━━━━━━━━━━━━━━━━━━━━━━━━━━━━━━━━━━━\u001b[0m \u001b[32m9.5/9.5 MB\u001b[0m \u001b[31m19.9 MB/s\u001b[0m eta \u001b[36m0:00:00\u001b[0m\n",
      "\u001b[2K   \u001b[90m━━━━━━━━━━━━━━━━━━━━━━━━━━━━━━━━━━━━━━━━\u001b[0m \u001b[32m12.9/12.9 MB\u001b[0m \u001b[31m18.4 MB/s\u001b[0m eta \u001b[36m0:00:00\u001b[0m\n",
      "\u001b[2K   \u001b[90m━━━━━━━━━━━━━━━━━━━━━━━━━━━━━━━━━━━━━━━━\u001b[0m \u001b[32m3.6/3.6 MB\u001b[0m \u001b[31m32.2 MB/s\u001b[0m eta \u001b[36m0:00:00\u001b[0m\n",
      "\u001b[?25h\u001b[31mERROR: pip's dependency resolver does not currently take into account all the packages that are installed. This behaviour is the source of the following dependency conflicts.\n",
      "umap-learn 0.5.9.post2 requires scikit-learn>=1.6, but you have scikit-learn 1.5.2 which is incompatible.\u001b[0m\u001b[31m\n",
      "\u001b[0mTensorFlow: 2.19.0\n",
      "Transformers: 4.44.2\n",
      "Determinismo ativado.\n",
      "Nenhuma GPU detectada (o treino pode ficar mais lento).\n"
     ]
    }
   ],
   "source": [
    "# ==== Instalação de dependências ====\n",
    "!pip -q install -U transformers==4.44.2 scikit-learn==1.5.2\n",
    "\n",
    "# ==== Imports base e checagens ====\n",
    "import os\n",
    "import random\n",
    "import numpy as np\n",
    "import tensorflow as tf\n",
    "import transformers\n",
    "\n",
    "# Versões (importante para reprodutibilidade)\n",
    "print(f\"TensorFlow: {tf.__version__}\")\n",
    "print(f\"Transformers: {transformers.__version__}\")\n",
    "\n",
    "# ==== Seeds para reprodutibilidade ====\n",
    "SEED = 42\n",
    "os.environ[\"PYTHONHASHSEED\"] = str(SEED)\n",
    "random.seed(SEED)\n",
    "np.random.seed(SEED)\n",
    "tf.random.set_seed(SEED)\n",
    "\n",
    "# Determinismo (nem sempre disponível, então faço try/except)\n",
    "try:\n",
    "    tf.config.experimental.enable_op_determinism()\n",
    "    print(\"Determinismo ativado.\")\n",
    "except Exception as e:\n",
    "    print(\"Determinismo não disponível nesta versão/ambiente:\", e)\n",
    "\n",
    "# ==== GPU ====\n",
    "try:\n",
    "    gpus = tf.config.list_physical_devices(\"GPU\")\n",
    "    if gpus:\n",
    "        for gpu in gpus:\n",
    "            try:\n",
    "                tf.config.experimental.set_memory_growth(gpu, True)\n",
    "            except Exception as e:\n",
    "                print(\"Falha ao configurar memory growth na GPU:\", e)\n",
    "        print(f\"GPUs encontradas: {len(gpus)} — {gpus}\")\n",
    "    else:\n",
    "        print(\"Nenhuma GPU detectada (o treino pode ficar mais lento).\")\n",
    "except Exception as e:\n",
    "    print(\"Erro ao checar/configurar GPU:\", e)"
   ]
  },
  {
   "cell_type": "code",
   "execution_count": 2,
   "metadata": {
    "id": "8e5nQ8qKLlNZ"
   },
   "outputs": [],
   "source": [
    "from tensorflow.keras.layers import Layer\n",
    "from transformers import TFDistilBertModel\n",
    "\n",
    "# Camada customizada para encapsular o DistilBERT\n",
    "class DistilBertLayer(Layer):\n",
    "    def __init__(self, model_name=\"distilbert-base-uncased\", **kwargs):\n",
    "        super(DistilBertLayer, self).__init__(**kwargs)\n",
    "        # Carrega o modelo pré-treinado\n",
    "        self.distilbert = TFDistilBertModel.from_pretrained(model_name)\n",
    "\n",
    "    def call(self, inputs):\n",
    "        input_ids, attention_mask = inputs\n",
    "        # Passa inputs pelo DistilBERT\n",
    "        outputs = self.distilbert(input_ids=input_ids, attention_mask=attention_mask)\n",
    "        # Retorna apenas a saída [CLS]\n",
    "        return outputs.last_hidden_state[:, 0, :]\n"
   ]
  },
  {
   "cell_type": "markdown",
   "metadata": {
    "id": "i-62f2aOF3OM"
   },
   "source": [
    "## Exploração do Dataset\n",
    "\n",
    "Antes de treinar qualquer modelo, eu preciso entender os dados.  \n",
    "Carregar e analisar o dataset é fundamental porque:\n",
    "\n",
    "1. **Formato e colunas**: preciso confirmar quais informações estão disponíveis.  \n",
    "2. **Variável alvo**: validar se a coluna de rótulo (Bot Label) realmente tem os valores esperados (0 = humano, 1 = bot).  \n",
    "3. **Balanceamento**: ver se há desbalanceamento de classes — isso impacta as métricas e o comportamento do modelo.  \n",
    "4. **Qualidade do texto**: tweets podem ter links, emojis, hashtags, menções… quero olhar exemplos para decidir se limpo algo ou se deixo cru para o BERT.  \n",
    "5. **Comprimento médio**: tweets são curtos, mas é importante saber o tamanho médio em tokens para ajustar o `max_length` da tokenização.\n",
    "\n",
    "**Impacto desta etapa**:  \n",
    "Se eu entender bem a distribuição e as características dos dados, consigo justificar escolhas futuras — por exemplo, se for muito desbalanceado, preciso usar métricas como F1 em vez de só accuracy; se os textos forem muito curtos, posso reduzir `max_length` e economizar memória no Colab.\n"
   ]
  },
  {
   "cell_type": "code",
   "execution_count": 3,
   "metadata": {
    "colab": {
     "base_uri": "https://localhost:8080/",
     "height": 1000
    },
    "id": "ZWptQ12jF4PT",
    "outputId": "f841c020-f690-4c25-9493-9a7b1c7e2523"
   },
   "outputs": [
    {
     "name": "stdout",
     "output_type": "stream",
     "text": [
      "Formato do dataset: (50000, 11)\n",
      "\n",
      "Colunas disponíveis: ['User ID', 'Username', 'Tweet', 'Retweet Count', 'Mention Count', 'Follower Count', 'Verified', 'Bot Label', 'Location', 'Created At', 'Hashtags']\n",
      "\n",
      "Distribuição das classes (0 = humano, 1 = bot):\n",
      "Bot Label\n",
      "1    25018\n",
      "0    24982\n",
      "Name: count, dtype: int64\n"
     ]
    },
    {
     "name": "stderr",
     "output_type": "stream",
     "text": [
      "/tmp/ipython-input-1561430542.py:19: FutureWarning: \n",
      "\n",
      "Passing `palette` without assigning `hue` is deprecated and will be removed in v0.14.0. Assign the `x` variable to `hue` and set `legend=False` for the same effect.\n",
      "\n",
      "  sns.countplot(x=\"Bot Label\", data=df, palette=\"Set2\")\n"
     ]
    },
    {
     "data": {
      "image/png": "[encoded data removed]",
      "text/plain": [
       "<Figure size 640x480 with 1 Axes>"
      ]
     },
     "metadata": {},
     "output_type": "display_data"
    },
    {
     "name": "stdout",
     "output_type": "stream",
     "text": [
      "\n",
      "Exemplos de tweets:\n",
      "1. Right collection site require nearly we available.\n",
      "\n",
      "2. Trouble smile factor nice state culture man wide population each for response.\n",
      "\n",
      "3. Quality work finally rule they stage yeah security story group church lot myself.\n",
      "\n",
      "4. Draw teach however near question decade reflect sometimes reflect some.\n",
      "\n",
      "5. Voice player management beautiful number during world another television group.\n",
      "\n",
      "\n",
      "Resumo estatístico dos comprimentos (caracteres):\n",
      "count    50000.000000\n",
      "mean        62.627340\n",
      "std         16.471543\n",
      "min         23.000000\n",
      "25%         49.000000\n",
      "50%         62.000000\n",
      "75%         76.000000\n",
      "max        118.000000\n",
      "Name: len_chars, dtype: float64\n"
     ]
    },
    {
     "data": {
      "image/png": "[encoded data removed]",
      "text/plain": [
       "<Figure size 640x480 with 1 Axes>"
      ]
     },
     "metadata": {},
     "output_type": "display_data"
    }
   ],
   "source": [
    "import pandas as pd\n",
    "import matplotlib.pyplot as plt\n",
    "import seaborn as sns\n",
    "\n",
    "# === Carregamento ===\n",
    "path = \"/content/bot_detection_data.csv\"\n",
    "df = pd.read_csv(path)\n",
    "\n",
    "print(\"Formato do dataset:\", df.shape)\n",
    "print(\"\\nColunas disponíveis:\", df.columns.tolist())\n",
    "\n",
    "# === Ver primeiras linhas ===\n",
    "df.head()\n",
    "\n",
    "# === Estatísticas da variável alvo ===\n",
    "print(\"\\nDistribuição das classes (0 = humano, 1 = bot):\")\n",
    "print(df['Bot Label'].value_counts())\n",
    "\n",
    "sns.countplot(x=\"Bot Label\", data=df, palette=\"Set2\")\n",
    "plt.title(\"Distribuição de Bots vs Humanos\")\n",
    "plt.show()\n",
    "\n",
    "# === Exemplos de tweets ===\n",
    "print(\"\\nExemplos de tweets:\")\n",
    "for i, tweet in enumerate(df[\"Tweet\"].sample(5, random_state=42)):\n",
    "    print(f\"{i+1}. {tweet}\\n\")\n",
    "\n",
    "# === Comprimento dos tweets (em caracteres) ===\n",
    "df[\"len_chars\"] = df[\"Tweet\"].astype(str).apply(len)\n",
    "print(\"\\nResumo estatístico dos comprimentos (caracteres):\")\n",
    "print(df[\"len_chars\"].describe())\n",
    "\n",
    "sns.histplot(df[\"len_chars\"], bins=30, kde=False)\n",
    "plt.title(\"Distribuição do tamanho dos tweets (caracteres)\")\n",
    "plt.xlabel(\"Número de caracteres\")\n",
    "plt.ylabel(\"Frequência\")\n",
    "plt.show()\n"
   ]
  },
  {
   "cell_type": "markdown",
   "metadata": {
    "id": "c9g7TWdvGTOi"
   },
   "source": [
    "## Preparação dos dados\n",
    "\n",
    "Depois de explorar o dataset, percebi que ele tem várias colunas (User ID, Username, etc.), mas para este trabalho o que me interessa é apenas:\n",
    "- **Tweet** → texto que será usado como entrada no BERT.\n",
    "- **Bot Label** → variável alvo (0 = humano, 1 = bot).\n",
    "\n",
    "Eu decidi descartar as outras colunas porque meu objetivo não é modelar metadados, mas sim **avaliar a capacidade do BERT de entender o conteúdo textual**.\n",
    "\n",
    "Em seguida, faço a divisão entre **treino (80%)** e **teste (20%)**:\n",
    "- O treino serve para ajustar os pesos do modelo.\n",
    "- O teste serve para avaliar o modelo em dados que ele nunca viu.\n",
    "- Uso divisão **estratificada** para manter a proporção de bots e humanos igual nos dois conjuntos.\n",
    "\n",
    "**Impacto**: essa preparação garante que minha avaliação seja justa e não enviesada. Se eu não separar corretamente, poderia superestimar o desempenho do modelo.\n"
   ]
  },
  {
   "cell_type": "code",
   "execution_count": 4,
   "metadata": {
    "colab": {
     "base_uri": "https://localhost:8080/"
    },
    "id": "ioUOqr04GT7f",
    "outputId": "11efbe1e-3d78-4a20-b3aa-0ad8dd702f03"
   },
   "outputs": [
    {
     "name": "stdout",
     "output_type": "stream",
     "text": [
      "Tamanho treino: 40000\n",
      "Tamanho teste: 10000\n",
      "Proporção treino (0,1): {1: 0.50035, 0: 0.49965}\n",
      "Proporção teste (0,1): {1: 0.5004, 0: 0.4996}\n"
     ]
    }
   ],
   "source": [
    "from sklearn.model_selection import train_test_split\n",
    "\n",
    "# Seleção das colunas relevantes\n",
    "df_text = df[[\"Tweet\", \"Bot Label\"]].copy()\n",
    "\n",
    "# Divisão treino/teste (80/20)\n",
    "train_texts, test_texts, y_train, y_test = train_test_split(\n",
    "    df_text[\"Tweet\"],\n",
    "    df_text[\"Bot Label\"],\n",
    "    test_size=0.2,\n",
    "    stratify=df_text[\"Bot Label\"],\n",
    "    random_state=42\n",
    ")\n",
    "\n",
    "print(\"Tamanho treino:\", len(train_texts))\n",
    "print(\"Tamanho teste:\", len(test_texts))\n",
    "print(\"Proporção treino (0,1):\", y_train.value_counts(normalize=True).to_dict())\n",
    "print(\"Proporção teste (0,1):\", y_test.value_counts(normalize=True).to_dict())\n"
   ]
  },
  {
   "cell_type": "markdown",
   "metadata": {
    "id": "eH3xUlMSGfvG"
   },
   "source": [
    "## Tokenização com BERT\n",
    "\n",
    "O próximo passo é transformar os textos em entradas que o modelo BERT consiga processar.  \n",
    "O BERT não entende palavras como strings — ele usa um **vocabulário fixo** e precisa que cada texto seja convertido em IDs numéricos.\n",
    "\n",
    "Para isso, utilizo o **BertTokenizer** da biblioteca HuggingFace. Ele faz:\n",
    "- **WordPiece tokenization** → quebra palavras em sub-tokens conhecidos.\n",
    "- **Adição de tokens especiais** ([CLS] no início e [SEP] no final).\n",
    "- **Padding** → completa frases curtas até o mesmo comprimento.\n",
    "- **Truncation** → corta frases que ultrapassem o limite.\n",
    "\n",
    "Eu escolhi:\n",
    "- Modelo pré-treinado: `bert-base-uncased`.\n",
    "- `max_length = 128`, porque os tweets têm em média ~62 caracteres (máximo 118). Esse valor garante cobertura e ainda economiza memória.\n",
    "\n",
    "**Impacto**: se eu não tokenizar corretamente, o modelo não consegue aprender. Além disso, um `max_length` mal escolhido pode desperdiçar recursos ou truncar informação importante.\n"
   ]
  },
  {
   "cell_type": "code",
   "execution_count": 5,
   "metadata": {
    "colab": {
     "base_uri": "https://localhost:8080/",
     "height": 408,
     "referenced_widgets": [
      "c3c09974c1db4e448c65e7fe1ed82340",
      "72733982a818463cad97c6dbf7a14b29",
      "f3315c9b5de94c4c9e6130d5ea170ffa",
      "75072323bfb14b748a1e76d8da51fb5a",
      "f7961cd8965e4ecd88753da03a2914f7",
      "af219c3a2f794d1b8a6cc2f5b6cab1d6",
      "209433787b05431d963aefe12bfa57b9",
      "436ce79ef6774f608c70e6b7ef658dbd",
      "32817c7be69d4dcfbef0cf1154dc21d9",
      "7574d4b1332741d6921dfdbd8d0f6426",
      "b40a62c070604c0fab4f356236c8df7e",
      "11364d86afba40908861c6c3b57c1a38",
      "756a3cdb148d4bfba86163709007c1bc",
      "94a1eeea077d42e5b3dea269ed4ca014",
      "3d6ae3730b604f5b9429953b9f2d0c4d",
      "c3c77a276c514afbaa8f523168b036c6",
      "94a83a0d452848f18218124679ca7348",
      "fe8877334c9142218a29d8bd6c086bb2",
      "335a4a1231df4119b51c37eca53b8a58",
      "64fe210b14c24fd2832e2d5a09c50b00",
      "eb26cbff798e45f6bef427d89f35c53d",
      "a99dbeafe39047d0829d352d367a7125",
      "27168f6e0bb44a098fb26280c0e77d7d",
      "56f07aef303c4288819b3f102ab8dfac",
      "e764281c60054ce9ac249a3a5ce71e7c",
      "6278a71035c14e91a1f3f2651e2d81b8",
      "5d1aff1f936644c6bf071544162e8966",
      "db934b4e83c0444da0bac7b5186f8d8d",
      "2b0fd27b4b9944439646f9b301cb4008",
      "b41c31620cd34a48bb8a1b5aa9fad6ad",
      "8e8e9c3bc10f445e9754ebc1bf279f37",
      "6bfacd88c8b54a6d9eebe43e954e79cb",
      "8659eef93a9543839a2e66db30fad4cc",
      "db3326539661456b8b360e22b5191018",
      "4fbaea8f837245e7b60821169b6008dd",
      "3979099b97764888a22dcf6822c7b0f0",
      "e9dd4a358f574541813e48818dcc92aa",
      "b71526ffbfe04f1988ae669592e5bf77",
      "aa3f01f3cc9a46e68b31f299dedb5735",
      "bf35ec167a7c4ad3a67779715d71c1f9",
      "25b81b053f9348bfb633fe4ec600c792",
      "096d5b1d6c99420aaa06ef3530d968d2",
      "c4509ee98ec346908f539305d579cc9b",
      "cc6d120ff55f43c0afd8afd9c084b60f"
     ]
    },
    "id": "rqhqYjFhGgsx",
    "outputId": "805d75f9-02a5-49c2-d97c-abee5713615c"
   },
   "outputs": [
    {
     "name": "stderr",
     "output_type": "stream",
     "text": [
      "/usr/local/lib/python3.12/dist-packages/huggingface_hub/utils/_auth.py:94: UserWarning: \n",
      "The secret `HF_TOKEN` does not exist in your Colab secrets.\n",
      "To authenticate with the Hugging Face Hub, create a token in your settings tab (https://huggingface.co/settings/tokens), set it as secret in your Google Colab and restart your session.\n",
      "You will be able to reuse this secret in all of your notebooks.\n",
      "Please note that authentication is recommended but still optional to access public models or datasets.\n",
      "  warnings.warn(\n"
     ]
    },
    {
     "data": {
      "application/vnd.jupyter.widget-view+json": {
       "model_id": "c3c09974c1db4e448c65e7fe1ed82340",
       "version_major": 2,
       "version_minor": 0
      },
      "text/plain": [
       "tokenizer_config.json:   0%|          | 0.00/48.0 [00:00<?, ?B/s]"
      ]
     },
     "metadata": {},
     "output_type": "display_data"
    },
    {
     "data": {
      "application/vnd.jupyter.widget-view+json": {
       "model_id": "11364d86afba40908861c6c3b57c1a38",
       "version_major": 2,
       "version_minor": 0
      },
      "text/plain": [
       "vocab.txt:   0%|          | 0.00/232k [00:00<?, ?B/s]"
      ]
     },
     "metadata": {},
     "output_type": "display_data"
    },
    {
     "data": {
      "application/vnd.jupyter.widget-view+json": {
       "model_id": "27168f6e0bb44a098fb26280c0e77d7d",
       "version_major": 2,
       "version_minor": 0
      },
      "text/plain": [
       "tokenizer.json:   0%|          | 0.00/466k [00:00<?, ?B/s]"
      ]
     },
     "metadata": {},
     "output_type": "display_data"
    },
    {
     "data": {
      "application/vnd.jupyter.widget-view+json": {
       "model_id": "db3326539661456b8b360e22b5191018",
       "version_major": 2,
       "version_minor": 0
      },
      "text/plain": [
       "config.json:   0%|          | 0.00/483 [00:00<?, ?B/s]"
      ]
     },
     "metadata": {},
     "output_type": "display_data"
    },
    {
     "name": "stderr",
     "output_type": "stream",
     "text": [
      "/usr/local/lib/python3.12/dist-packages/transformers/tokenization_utils_base.py:1601: FutureWarning: `clean_up_tokenization_spaces` was not set. It will be set to `True` by default. This behavior will be depracted in transformers v4.45, and will be then set to `False` by default. For more details check this issue: https://github.com/huggingface/transformers/issues/31884\n",
      "  warnings.warn(\n"
     ]
    },
    {
     "name": "stdout",
     "output_type": "stream",
     "text": [
      "Formato dos tensores de treino:\n",
      "input_ids: (5000, 64)\n",
      "attention_mask: (5000, 64)\n",
      "Formato dos tensores de teste:\n",
      "input_ids: (1000, 64)\n",
      "attention_mask: (1000, 64)\n"
     ]
    }
   ],
   "source": [
    "# --- Definir subsets menores ---\n",
    "subset_train = 5000\n",
    "subset_test = 1000\n",
    "\n",
    "train_texts_sub = train_texts[:subset_train]\n",
    "y_train_sub = y_train[:subset_train]\n",
    "test_texts_sub = test_texts[:subset_test]\n",
    "y_test_sub = y_test[:subset_test]\n",
    "\n",
    "# --- Definir comprimento máximo de tokens ---\n",
    "# Tweets são curtos, então 64 tokens é suficiente (rápido e economiza memória).\n",
    "# Se quiser capturar mais contexto, pode testar 128.\n",
    "MAX_LEN = 64\n",
    "\n",
    "# --- Tokenização com DistilBERT ---\n",
    "from transformers import DistilBertTokenizer\n",
    "\n",
    "tokenizer = DistilBertTokenizer.from_pretrained(\"distilbert-base-uncased\")\n",
    "\n",
    "train_encodings = tokenizer(\n",
    "    train_texts_sub.tolist(),\n",
    "    truncation=True,\n",
    "    padding=\"max_length\",\n",
    "    max_length=MAX_LEN,\n",
    "    return_tensors=\"tf\"\n",
    ")\n",
    "\n",
    "test_encodings = tokenizer(\n",
    "    test_texts_sub.tolist(),\n",
    "    truncation=True,\n",
    "    padding=\"max_length\",\n",
    "    max_length=MAX_LEN,\n",
    "    return_tensors=\"tf\"\n",
    ")\n",
    "\n",
    "print(\"Formato dos tensores de treino:\")\n",
    "for k, v in train_encodings.items():\n",
    "    print(f\"{k}: {v.shape}\")\n",
    "\n",
    "print(\"Formato dos tensores de teste:\")\n",
    "for k, v in test_encodings.items():\n",
    "    print(f\"{k}: {v.shape}\")\n"
   ]
  },
  {
   "cell_type": "markdown",
   "metadata": {
    "id": "DiBXmpv5GzZk"
   },
   "source": [
    "## Ajuste da tokenização para tamanho fixo\n",
    "\n",
    "Na primeira tokenização, percebi que os tensores ficaram com comprimento **17 tokens** em média.  \n",
    "Isso acontece porque, quando uso `padding=True`, o HuggingFace faz o padding só até o maior texto do batch.  \n",
    "\n",
    "Para o BERT funcionar bem em lotes fixos e para facilitar a engenharia do modelo em TensorFlow/Keras, eu prefiro padronizar todos os exemplos para o mesmo comprimento.  \n",
    "Por isso, ajustei para `padding=\"max_length\"` e `max_length=128`.\n",
    "\n",
    "**Impacto**:  \n",
    "- Com `max_length=128`, garanto que todos os tweets terão exatamente 128 tokens.  \n",
    "- Isso evita erros de dimensão nos batches e garante que a arquitetura do BERT trabalhe de forma estável.  \n",
    "- Como os tweets são curtos, a maior parte será padding — mas isso não atrapalha, pois o modelo ignora via `attention_mask`.\n"
   ]
  },
  {
   "cell_type": "code",
   "execution_count": 6,
   "metadata": {
    "colab": {
     "base_uri": "https://localhost:8080/"
    },
    "id": "xWABHFa0G0Lc",
    "outputId": "4dd6b246-27d1-427f-dc47-a93dcb46f474"
   },
   "outputs": [
    {
     "name": "stdout",
     "output_type": "stream",
     "text": [
      "Formato dos tensores de treino (subset):\n",
      "input_ids: (5000, 64)\n",
      "attention_mask: (5000, 64)\n",
      "Tamanho treino (batches): 157\n",
      "Tamanho teste (batches): 32\n"
     ]
    }
   ],
   "source": [
    "import tensorflow as tf\n",
    "from transformers import DistilBertTokenizer\n",
    "\n",
    "# ==== Definição do subset para acelerar ====\n",
    "subset_train = 5000\n",
    "subset_test = 1000\n",
    "\n",
    "train_texts_sub = train_texts[:subset_train]\n",
    "y_train_sub = y_train[:subset_train]\n",
    "test_texts_sub = test_texts[:subset_test]\n",
    "y_test_sub = y_test[:subset_test]\n",
    "\n",
    "# ==== Tokenização com DistilBERT ====\n",
    "tokenizer = DistilBertTokenizer.from_pretrained(\"distilbert-base-uncased\")\n",
    "\n",
    "MAX_LEN = 64  # reduzir tamanho máximo para acelerar\n",
    "\n",
    "train_encodings = tokenizer(\n",
    "    train_texts_sub.tolist(),\n",
    "    truncation=True,\n",
    "    padding=\"max_length\",\n",
    "    max_length=MAX_LEN,\n",
    "    return_tensors=\"tf\"\n",
    ")\n",
    "\n",
    "test_encodings = tokenizer(\n",
    "    test_texts_sub.tolist(),\n",
    "    truncation=True,\n",
    "    padding=\"max_length\",\n",
    "    max_length=MAX_LEN,\n",
    "    return_tensors=\"tf\"\n",
    ")\n",
    "\n",
    "print(\"Formato dos tensores de treino (subset):\")\n",
    "for k, v in train_encodings.items():\n",
    "    print(f\"{k}: {v.shape}\")\n",
    "\n",
    "# ==== Criação dos tf.data.Dataset ====\n",
    "def encode_tf(encodings, labels):\n",
    "    dataset = tf.data.Dataset.from_tensor_slices((\n",
    "        {\n",
    "            \"input_ids\": encodings[\"input_ids\"],\n",
    "            \"attention_mask\": encodings[\"attention_mask\"]\n",
    "        },\n",
    "        labels\n",
    "    ))\n",
    "    return dataset\n",
    "\n",
    "train_dataset = encode_tf(train_encodings, y_train_sub).shuffle(1000).batch(32)\n",
    "test_dataset = encode_tf(test_encodings, y_test_sub).batch(32)\n",
    "\n",
    "print(\"Tamanho treino (batches):\", len(train_dataset))\n",
    "print(\"Tamanho teste (batches):\", len(test_dataset))\n"
   ]
  },
  {
   "cell_type": "markdown",
   "metadata": {
    "id": "6Y9AuvQXIpoX"
   },
   "source": [
    "## Ajuste do otimizador\n",
    "\n",
    "O `create_optimizer` da HuggingFace gera um otimizador que não é totalmente compatível com a versão do Keras que o Colab usa.  \n",
    "Por isso, simplifiquei a configuração usando o `Adam` padrão do Keras com learning rate **2e-5**, que é o valor típico no fine-tuning de BERT.\n",
    "\n",
    "**Impacto**:  \n",
    "- Essa mudança não altera de forma significativa a qualidade do treino.  \n",
    "- Mantém a compatibilidade total com o Keras 3, evitando erros de compilação.\n"
   ]
  },
  {
   "cell_type": "code",
   "execution_count": 7,
   "metadata": {
    "colab": {
     "base_uri": "https://localhost:8080/",
     "height": 536,
     "referenced_widgets": [
      "de9973a486ed411083b199b967d83f40",
      "3f9d9f8306a045af8420793b5c946563",
      "467e51c0d5a74023b79f9cc4a46525f3",
      "358d4cec53cb4949adb892170b572dc9",
      "9ee2452739e04b6489705f46f918ff75",
      "8218488ded5d4f45a327ea237c865d71",
      "d1fe5bdee90544b7a2d9fed05ba8ca98",
      "795dd593eb094cd9b8d18ca90c05535b",
      "24215e4bbd5f44b0a471336c42437ca8",
      "2f52f0475c114662a4f5038aae25f88e",
      "f8e415cf47d5409f8298baa9f086fda8",
      "3417f6a1aa81418db72cbdc869139421",
      "ece19c6151df4aaf94361f0fb9dd8fe2",
      "1c652882d41d4625b96caa897fa9445d",
      "4460a2a614f6452dbb22df1faf3329ac",
      "01fede31f082492a830b9320af5d60f5",
      "4aff410464bf41ba89270f271c8ba6cd",
      "fe184d923b754fd9a8580dceb0af3686",
      "da47288a6bf74d0eb5771b4de996927d",
      "443a46715a3741f2bc8f98b25a263564",
      "ae5edb6cb5714b67bd0860abd97f07e9",
      "64d6c192335a44e5b70cca228f126441"
     ]
    },
    "id": "2VVVOiJhIqVh",
    "outputId": "50df56b4-3c9e-41d6-bead-bfdc829b2f8e"
   },
   "outputs": [
    {
     "data": {
      "application/vnd.jupyter.widget-view+json": {
       "model_id": "de9973a486ed411083b199b967d83f40",
       "version_major": 2,
       "version_minor": 0
      },
      "text/plain": [
       "config.json:   0%|          | 0.00/570 [00:00<?, ?B/s]"
      ]
     },
     "metadata": {},
     "output_type": "display_data"
    },
    {
     "data": {
      "application/vnd.jupyter.widget-view+json": {
       "model_id": "3417f6a1aa81418db72cbdc869139421",
       "version_major": 2,
       "version_minor": 0
      },
      "text/plain": [
       "model.safetensors:   0%|          | 0.00/440M [00:00<?, ?B/s]"
      ]
     },
     "metadata": {},
     "output_type": "display_data"
    },
    {
     "name": "stderr",
     "output_type": "stream",
     "text": [
      "Some weights of the PyTorch model were not used when initializing the TF 2.0 model TFBertModel: ['cls.seq_relationship.weight', 'cls.predictions.bias', 'cls.predictions.transform.LayerNorm.bias', 'cls.seq_relationship.bias', 'cls.predictions.transform.LayerNorm.weight', 'cls.predictions.transform.dense.weight', 'cls.predictions.transform.dense.bias']\n",
      "- This IS expected if you are initializing TFBertModel from a PyTorch model trained on another task or with another architecture (e.g. initializing a TFBertForSequenceClassification model from a BertForPreTraining model).\n",
      "- This IS NOT expected if you are initializing TFBertModel from a PyTorch model that you expect to be exactly identical (e.g. initializing a TFBertForSequenceClassification model from a BertForSequenceClassification model).\n",
      "All the weights of TFBertModel were initialized from the PyTorch model.\n",
      "If your task is similar to the task the model of the checkpoint was trained on, you can already use TFBertModel for predictions without further training.\n"
     ]
    },
    {
     "data": {
      "text/html": [
       "<pre style=\"white-space:pre;overflow-x:auto;line-height:normal;font-family:Menlo,'DejaVu Sans Mono',consolas,'Courier New',monospace\"><span style=\"font-weight: bold\">Model: \"functional\"</span>\n",
       "</pre>\n"
      ],
      "text/plain": [
       "\u001b[1mModel: \"functional\"\u001b[0m\n"
      ]
     },
     "metadata": {},
     "output_type": "display_data"
    },
    {
     "data": {
      "text/html": [
       "<pre style=\"white-space:pre;overflow-x:auto;line-height:normal;font-family:Menlo,'DejaVu Sans Mono',consolas,'Courier New',monospace\">┏━━━━━━━━━━━━━━━━━━━━━┳━━━━━━━━━━━━━━━━━━━┳━━━━━━━━━━━━┳━━━━━━━━━━━━━━━━━━━┓\n",
       "┃<span style=\"font-weight: bold\"> Layer (type)        </span>┃<span style=\"font-weight: bold\"> Output Shape      </span>┃<span style=\"font-weight: bold\">    Param # </span>┃<span style=\"font-weight: bold\"> Connected to      </span>┃\n",
       "┡━━━━━━━━━━━━━━━━━━━━━╇━━━━━━━━━━━━━━━━━━━╇━━━━━━━━━━━━╇━━━━━━━━━━━━━━━━━━━┩\n",
       "│ input_ids           │ (<span style=\"color: #00d7ff; text-decoration-color: #00d7ff\">None</span>, <span style=\"color: #00af00; text-decoration-color: #00af00\">64</span>)        │          <span style=\"color: #00af00; text-decoration-color: #00af00\">0</span> │ -                 │\n",
       "│ (<span style=\"color: #0087ff; text-decoration-color: #0087ff\">InputLayer</span>)        │                   │            │                   │\n",
       "├─────────────────────┼───────────────────┼────────────┼───────────────────┤\n",
       "│ attention_mask      │ (<span style=\"color: #00d7ff; text-decoration-color: #00d7ff\">None</span>, <span style=\"color: #00af00; text-decoration-color: #00af00\">64</span>)        │          <span style=\"color: #00af00; text-decoration-color: #00af00\">0</span> │ -                 │\n",
       "│ (<span style=\"color: #0087ff; text-decoration-color: #0087ff\">InputLayer</span>)        │                   │            │                   │\n",
       "├─────────────────────┼───────────────────┼────────────┼───────────────────┤\n",
       "│ token_type_ids      │ (<span style=\"color: #00d7ff; text-decoration-color: #00d7ff\">None</span>, <span style=\"color: #00af00; text-decoration-color: #00af00\">64</span>)        │          <span style=\"color: #00af00; text-decoration-color: #00af00\">0</span> │ -                 │\n",
       "│ (<span style=\"color: #0087ff; text-decoration-color: #0087ff\">InputLayer</span>)        │                   │            │                   │\n",
       "├─────────────────────┼───────────────────┼────────────┼───────────────────┤\n",
       "│ bert_layer          │ (<span style=\"color: #00d7ff; text-decoration-color: #00d7ff\">None</span>, <span style=\"color: #00af00; text-decoration-color: #00af00\">768</span>)       │          <span style=\"color: #00af00; text-decoration-color: #00af00\">0</span> │ input_ids[<span style=\"color: #00af00; text-decoration-color: #00af00\">0</span>][<span style=\"color: #00af00; text-decoration-color: #00af00\">0</span>],  │\n",
       "│ (<span style=\"color: #0087ff; text-decoration-color: #0087ff\">BertLayer</span>)         │                   │            │ attention_mask[<span style=\"color: #00af00; text-decoration-color: #00af00\">0</span>… │\n",
       "│                     │                   │            │ token_type_ids[<span style=\"color: #00af00; text-decoration-color: #00af00\">0</span>… │\n",
       "├─────────────────────┼───────────────────┼────────────┼───────────────────┤\n",
       "│ dense (<span style=\"color: #0087ff; text-decoration-color: #0087ff\">Dense</span>)       │ (<span style=\"color: #00d7ff; text-decoration-color: #00d7ff\">None</span>, <span style=\"color: #00af00; text-decoration-color: #00af00\">1</span>)         │        <span style=\"color: #00af00; text-decoration-color: #00af00\">769</span> │ bert_layer[<span style=\"color: #00af00; text-decoration-color: #00af00\">0</span>][<span style=\"color: #00af00; text-decoration-color: #00af00\">0</span>]  │\n",
       "└─────────────────────┴───────────────────┴────────────┴───────────────────┘\n",
       "</pre>\n"
      ],
      "text/plain": [
       "┏━━━━━━━━━━━━━━━━━━━━━┳━━━━━━━━━━━━━━━━━━━┳━━━━━━━━━━━━┳━━━━━━━━━━━━━━━━━━━┓\n",
       "┃\u001b[1m \u001b[0m\u001b[1mLayer (type)       \u001b[0m\u001b[1m \u001b[0m┃\u001b[1m \u001b[0m\u001b[1mOutput Shape     \u001b[0m\u001b[1m \u001b[0m┃\u001b[1m \u001b[0m\u001b[1m   Param #\u001b[0m\u001b[1m \u001b[0m┃\u001b[1m \u001b[0m\u001b[1mConnected to     \u001b[0m\u001b[1m \u001b[0m┃\n",
       "┡━━━━━━━━━━━━━━━━━━━━━╇━━━━━━━━━━━━━━━━━━━╇━━━━━━━━━━━━╇━━━━━━━━━━━━━━━━━━━┩\n",
       "│ input_ids           │ (\u001b[38;5;45mNone\u001b[0m, \u001b[38;5;34m64\u001b[0m)        │          \u001b[38;5;34m0\u001b[0m │ -                 │\n",
       "│ (\u001b[38;5;33mInputLayer\u001b[0m)        │                   │            │                   │\n",
       "├─────────────────────┼───────────────────┼────────────┼───────────────────┤\n",
       "│ attention_mask      │ (\u001b[38;5;45mNone\u001b[0m, \u001b[38;5;34m64\u001b[0m)        │          \u001b[38;5;34m0\u001b[0m │ -                 │\n",
       "│ (\u001b[38;5;33mInputLayer\u001b[0m)        │                   │            │                   │\n",
       "├─────────────────────┼───────────────────┼────────────┼───────────────────┤\n",
       "│ token_type_ids      │ (\u001b[38;5;45mNone\u001b[0m, \u001b[38;5;34m64\u001b[0m)        │          \u001b[38;5;34m0\u001b[0m │ -                 │\n",
       "│ (\u001b[38;5;33mInputLayer\u001b[0m)        │                   │            │                   │\n",
       "├─────────────────────┼───────────────────┼────────────┼───────────────────┤\n",
       "│ bert_layer          │ (\u001b[38;5;45mNone\u001b[0m, \u001b[38;5;34m768\u001b[0m)       │          \u001b[38;5;34m0\u001b[0m │ input_ids[\u001b[38;5;34m0\u001b[0m][\u001b[38;5;34m0\u001b[0m],  │\n",
       "│ (\u001b[38;5;33mBertLayer\u001b[0m)         │                   │            │ attention_mask[\u001b[38;5;34m0\u001b[0m… │\n",
       "│                     │                   │            │ token_type_ids[\u001b[38;5;34m0\u001b[0m… │\n",
       "├─────────────────────┼───────────────────┼────────────┼───────────────────┤\n",
       "│ dense (\u001b[38;5;33mDense\u001b[0m)       │ (\u001b[38;5;45mNone\u001b[0m, \u001b[38;5;34m1\u001b[0m)         │        \u001b[38;5;34m769\u001b[0m │ bert_layer[\u001b[38;5;34m0\u001b[0m][\u001b[38;5;34m0\u001b[0m]  │\n",
       "└─────────────────────┴───────────────────┴────────────┴───────────────────┘\n"
      ]
     },
     "metadata": {},
     "output_type": "display_data"
    },
    {
     "data": {
      "text/html": [
       "<pre style=\"white-space:pre;overflow-x:auto;line-height:normal;font-family:Menlo,'DejaVu Sans Mono',consolas,'Courier New',monospace\"><span style=\"font-weight: bold\"> Total params: </span><span style=\"color: #00af00; text-decoration-color: #00af00\">769</span> (3.00 KB)\n",
       "</pre>\n"
      ],
      "text/plain": [
       "\u001b[1m Total params: \u001b[0m\u001b[38;5;34m769\u001b[0m (3.00 KB)\n"
      ]
     },
     "metadata": {},
     "output_type": "display_data"
    },
    {
     "data": {
      "text/html": [
       "<pre style=\"white-space:pre;overflow-x:auto;line-height:normal;font-family:Menlo,'DejaVu Sans Mono',consolas,'Courier New',monospace\"><span style=\"font-weight: bold\"> Trainable params: </span><span style=\"color: #00af00; text-decoration-color: #00af00\">769</span> (3.00 KB)\n",
       "</pre>\n"
      ],
      "text/plain": [
       "\u001b[1m Trainable params: \u001b[0m\u001b[38;5;34m769\u001b[0m (3.00 KB)\n"
      ]
     },
     "metadata": {},
     "output_type": "display_data"
    },
    {
     "data": {
      "text/html": [
       "<pre style=\"white-space:pre;overflow-x:auto;line-height:normal;font-family:Menlo,'DejaVu Sans Mono',consolas,'Courier New',monospace\"><span style=\"font-weight: bold\"> Non-trainable params: </span><span style=\"color: #00af00; text-decoration-color: #00af00\">0</span> (0.00 B)\n",
       "</pre>\n"
      ],
      "text/plain": [
       "\u001b[1m Non-trainable params: \u001b[0m\u001b[38;5;34m0\u001b[0m (0.00 B)\n"
      ]
     },
     "metadata": {},
     "output_type": "display_data"
    }
   ],
   "source": [
    "from transformers import TFBertModel\n",
    "from tensorflow.keras import layers, Model\n",
    "from tensorflow.keras.optimizers import Adam\n",
    "\n",
    "# Camada customizada para integrar TFBertModel\n",
    "class BertLayer(layers.Layer):\n",
    "    def __init__(self, model_name=\"bert-base-uncased\", **kwargs):\n",
    "        super(BertLayer, self).__init__(**kwargs)\n",
    "        self.bert = TFBertModel.from_pretrained(model_name)\n",
    "\n",
    "    def call(self, inputs):\n",
    "        input_ids, attention_mask, token_type_ids = inputs\n",
    "        outputs = self.bert(\n",
    "            input_ids=input_ids,\n",
    "            attention_mask=attention_mask,\n",
    "            token_type_ids=token_type_ids\n",
    "        )\n",
    "        return outputs.last_hidden_state[:, 0, :]  # [CLS]\n",
    "\n",
    "# Definição dos inputs\n",
    "input_ids = layers.Input(shape=(MAX_LEN,), dtype=tf.int32, name=\"input_ids\")\n",
    "attention_mask = layers.Input(shape=(MAX_LEN,), dtype=tf.int32, name=\"attention_mask\")\n",
    "token_type_ids = layers.Input(shape=(MAX_LEN,), dtype=tf.int32, name=\"token_type_ids\")\n",
    "\n",
    "# Passando inputs pela camada BERT customizada\n",
    "cls_output = BertLayer()([input_ids, attention_mask, token_type_ids])\n",
    "\n",
    "# Camada de classificação final\n",
    "output = layers.Dense(1, activation=\"sigmoid\")(cls_output)\n",
    "\n",
    "# Construção do modelo\n",
    "model = Model(inputs=[input_ids, attention_mask, token_type_ids], outputs=output)\n",
    "\n",
    "# Compilação com Adam simples\n",
    "optimizer = Adam(learning_rate=2e-5)\n",
    "\n",
    "model.compile(\n",
    "    optimizer=optimizer,\n",
    "    loss=\"binary_crossentropy\",\n",
    "    metrics=[\"accuracy\", tf.keras.metrics.AUC(name=\"auc\")]\n",
    ")\n",
    "\n",
    "model.summary()\n"
   ]
  },
  {
   "cell_type": "markdown",
   "metadata": {
    "id": "M7R_NdmUKJQp"
   },
   "source": [
    "## BERT base e decisão de otimização\n",
    "\n",
    "Utilizei o modelo `bert-base-uncased` diretamente. O pipeline estava correto, mas logo percebi que o tempo estimado de treino era extremamente alto (mais de 6 horas por época sem GPU). É inviável concluir o experimento no ambiente do Colab.\n",
    "\n",
    "Antecipando essa limitação de hardware, optei por ajustar a abordagem.  \n",
    "Substituí o BERT pelo **DistilBERT (`distilbert-base-uncased`)**, que é uma versão mais leve, com cerca de 40% menos parâmetros e desempenho próximo ao BERT tradicional.  \n",
    "Além disso, decidi trabalhar com uma **amostra do dataset** (10 mil exemplos de treino e 2 mil de teste).  \n",
    "Essa redução acelera bastante o processo, mantendo, porém, representatividade suficiente para a análise e validação do modelo.\n",
    "\n",
    "**Impacto**:  \n",
    "- O treino se torna viável no Colab, mesmo sem GPU.  \n",
    "- Consigo demonstrar o pipeline completo de fine-tuning de um transformer.  \n",
    "- Abro mão de parte da performance máxima em troca de eficiência computacional.\n"
   ]
  },
  {
   "cell_type": "code",
   "execution_count": 8,
   "metadata": {
    "colab": {
     "base_uri": "https://localhost:8080/",
     "height": 441,
     "referenced_widgets": [
      "eb1e13be95b5468fa12d1f87a23137a6",
      "24f2821f5dfe42c5aa10077967753df3",
      "dfaddc67e5b74b09bd816f2aa1486e96",
      "f64c264e9cbd4b3a97a5375733b0f222",
      "cf292c67197b4260b12d82c02d25c7fd",
      "b34de15dae934833b7781f86343e6db1",
      "35485a97faef40f6a42b11d391d91b70",
      "d4c0f91f517940e593ff4e34b374366c",
      "37925f7201554c889ed386b994f088cc",
      "d76bf8d75db24381a8a9e852f7c5481a",
      "c2380945e1d045118ce9459b4b1ee971"
     ]
    },
    "id": "1-_J17s5Klqk",
    "outputId": "678bf12b-7cdf-462c-a82e-f3c4b96dd9c9"
   },
   "outputs": [
    {
     "data": {
      "application/vnd.jupyter.widget-view+json": {
       "model_id": "eb1e13be95b5468fa12d1f87a23137a6",
       "version_major": 2,
       "version_minor": 0
      },
      "text/plain": [
       "model.safetensors:   0%|          | 0.00/268M [00:00<?, ?B/s]"
      ]
     },
     "metadata": {},
     "output_type": "display_data"
    },
    {
     "name": "stderr",
     "output_type": "stream",
     "text": [
      "Some weights of the PyTorch model were not used when initializing the TF 2.0 model TFDistilBertModel: ['vocab_transform.weight', 'vocab_projector.bias', 'vocab_transform.bias', 'vocab_layer_norm.bias', 'vocab_layer_norm.weight']\n",
      "- This IS expected if you are initializing TFDistilBertModel from a PyTorch model trained on another task or with another architecture (e.g. initializing a TFBertForSequenceClassification model from a BertForPreTraining model).\n",
      "- This IS NOT expected if you are initializing TFDistilBertModel from a PyTorch model that you expect to be exactly identical (e.g. initializing a TFBertForSequenceClassification model from a BertForSequenceClassification model).\n",
      "All the weights of TFDistilBertModel were initialized from the PyTorch model.\n",
      "If your task is similar to the task the model of the checkpoint was trained on, you can already use TFDistilBertModel for predictions without further training.\n"
     ]
    },
    {
     "data": {
      "text/html": [
       "<pre style=\"white-space:pre;overflow-x:auto;line-height:normal;font-family:Menlo,'DejaVu Sans Mono',consolas,'Courier New',monospace\"><span style=\"font-weight: bold\">Model: \"functional_1\"</span>\n",
       "</pre>\n"
      ],
      "text/plain": [
       "\u001b[1mModel: \"functional_1\"\u001b[0m\n"
      ]
     },
     "metadata": {},
     "output_type": "display_data"
    },
    {
     "data": {
      "text/html": [
       "<pre style=\"white-space:pre;overflow-x:auto;line-height:normal;font-family:Menlo,'DejaVu Sans Mono',consolas,'Courier New',monospace\">┏━━━━━━━━━━━━━━━━━━━━━┳━━━━━━━━━━━━━━━━━━━┳━━━━━━━━━━━━┳━━━━━━━━━━━━━━━━━━━┓\n",
       "┃<span style=\"font-weight: bold\"> Layer (type)        </span>┃<span style=\"font-weight: bold\"> Output Shape      </span>┃<span style=\"font-weight: bold\">    Param # </span>┃<span style=\"font-weight: bold\"> Connected to      </span>┃\n",
       "┡━━━━━━━━━━━━━━━━━━━━━╇━━━━━━━━━━━━━━━━━━━╇━━━━━━━━━━━━╇━━━━━━━━━━━━━━━━━━━┩\n",
       "│ input_ids           │ (<span style=\"color: #00d7ff; text-decoration-color: #00d7ff\">None</span>, <span style=\"color: #00af00; text-decoration-color: #00af00\">64</span>)        │          <span style=\"color: #00af00; text-decoration-color: #00af00\">0</span> │ -                 │\n",
       "│ (<span style=\"color: #0087ff; text-decoration-color: #0087ff\">InputLayer</span>)        │                   │            │                   │\n",
       "├─────────────────────┼───────────────────┼────────────┼───────────────────┤\n",
       "│ attention_mask      │ (<span style=\"color: #00d7ff; text-decoration-color: #00d7ff\">None</span>, <span style=\"color: #00af00; text-decoration-color: #00af00\">64</span>)        │          <span style=\"color: #00af00; text-decoration-color: #00af00\">0</span> │ -                 │\n",
       "│ (<span style=\"color: #0087ff; text-decoration-color: #0087ff\">InputLayer</span>)        │                   │            │                   │\n",
       "├─────────────────────┼───────────────────┼────────────┼───────────────────┤\n",
       "│ distil_bert_layer   │ (<span style=\"color: #00d7ff; text-decoration-color: #00d7ff\">None</span>, <span style=\"color: #00af00; text-decoration-color: #00af00\">768</span>)       │          <span style=\"color: #00af00; text-decoration-color: #00af00\">0</span> │ input_ids[<span style=\"color: #00af00; text-decoration-color: #00af00\">0</span>][<span style=\"color: #00af00; text-decoration-color: #00af00\">0</span>],  │\n",
       "│ (<span style=\"color: #0087ff; text-decoration-color: #0087ff\">DistilBertLayer</span>)   │                   │            │ attention_mask[<span style=\"color: #00af00; text-decoration-color: #00af00\">0</span>… │\n",
       "├─────────────────────┼───────────────────┼────────────┼───────────────────┤\n",
       "│ dense_1 (<span style=\"color: #0087ff; text-decoration-color: #0087ff\">Dense</span>)     │ (<span style=\"color: #00d7ff; text-decoration-color: #00d7ff\">None</span>, <span style=\"color: #00af00; text-decoration-color: #00af00\">1</span>)         │        <span style=\"color: #00af00; text-decoration-color: #00af00\">769</span> │ distil_bert_laye… │\n",
       "└─────────────────────┴───────────────────┴────────────┴───────────────────┘\n",
       "</pre>\n"
      ],
      "text/plain": [
       "┏━━━━━━━━━━━━━━━━━━━━━┳━━━━━━━━━━━━━━━━━━━┳━━━━━━━━━━━━┳━━━━━━━━━━━━━━━━━━━┓\n",
       "┃\u001b[1m \u001b[0m\u001b[1mLayer (type)       \u001b[0m\u001b[1m \u001b[0m┃\u001b[1m \u001b[0m\u001b[1mOutput Shape     \u001b[0m\u001b[1m \u001b[0m┃\u001b[1m \u001b[0m\u001b[1m   Param #\u001b[0m\u001b[1m \u001b[0m┃\u001b[1m \u001b[0m\u001b[1mConnected to     \u001b[0m\u001b[1m \u001b[0m┃\n",
       "┡━━━━━━━━━━━━━━━━━━━━━╇━━━━━━━━━━━━━━━━━━━╇━━━━━━━━━━━━╇━━━━━━━━━━━━━━━━━━━┩\n",
       "│ input_ids           │ (\u001b[38;5;45mNone\u001b[0m, \u001b[38;5;34m64\u001b[0m)        │          \u001b[38;5;34m0\u001b[0m │ -                 │\n",
       "│ (\u001b[38;5;33mInputLayer\u001b[0m)        │                   │            │                   │\n",
       "├─────────────────────┼───────────────────┼────────────┼───────────────────┤\n",
       "│ attention_mask      │ (\u001b[38;5;45mNone\u001b[0m, \u001b[38;5;34m64\u001b[0m)        │          \u001b[38;5;34m0\u001b[0m │ -                 │\n",
       "│ (\u001b[38;5;33mInputLayer\u001b[0m)        │                   │            │                   │\n",
       "├─────────────────────┼───────────────────┼────────────┼───────────────────┤\n",
       "│ distil_bert_layer   │ (\u001b[38;5;45mNone\u001b[0m, \u001b[38;5;34m768\u001b[0m)       │          \u001b[38;5;34m0\u001b[0m │ input_ids[\u001b[38;5;34m0\u001b[0m][\u001b[38;5;34m0\u001b[0m],  │\n",
       "│ (\u001b[38;5;33mDistilBertLayer\u001b[0m)   │                   │            │ attention_mask[\u001b[38;5;34m0\u001b[0m… │\n",
       "├─────────────────────┼───────────────────┼────────────┼───────────────────┤\n",
       "│ dense_1 (\u001b[38;5;33mDense\u001b[0m)     │ (\u001b[38;5;45mNone\u001b[0m, \u001b[38;5;34m1\u001b[0m)         │        \u001b[38;5;34m769\u001b[0m │ distil_bert_laye… │\n",
       "└─────────────────────┴───────────────────┴────────────┴───────────────────┘\n"
      ]
     },
     "metadata": {},
     "output_type": "display_data"
    },
    {
     "data": {
      "text/html": [
       "<pre style=\"white-space:pre;overflow-x:auto;line-height:normal;font-family:Menlo,'DejaVu Sans Mono',consolas,'Courier New',monospace\"><span style=\"font-weight: bold\"> Total params: </span><span style=\"color: #00af00; text-decoration-color: #00af00\">769</span> (3.00 KB)\n",
       "</pre>\n"
      ],
      "text/plain": [
       "\u001b[1m Total params: \u001b[0m\u001b[38;5;34m769\u001b[0m (3.00 KB)\n"
      ]
     },
     "metadata": {},
     "output_type": "display_data"
    },
    {
     "data": {
      "text/html": [
       "<pre style=\"white-space:pre;overflow-x:auto;line-height:normal;font-family:Menlo,'DejaVu Sans Mono',consolas,'Courier New',monospace\"><span style=\"font-weight: bold\"> Trainable params: </span><span style=\"color: #00af00; text-decoration-color: #00af00\">769</span> (3.00 KB)\n",
       "</pre>\n"
      ],
      "text/plain": [
       "\u001b[1m Trainable params: \u001b[0m\u001b[38;5;34m769\u001b[0m (3.00 KB)\n"
      ]
     },
     "metadata": {},
     "output_type": "display_data"
    },
    {
     "data": {
      "text/html": [
       "<pre style=\"white-space:pre;overflow-x:auto;line-height:normal;font-family:Menlo,'DejaVu Sans Mono',consolas,'Courier New',monospace\"><span style=\"font-weight: bold\"> Non-trainable params: </span><span style=\"color: #00af00; text-decoration-color: #00af00\">0</span> (0.00 B)\n",
       "</pre>\n"
      ],
      "text/plain": [
       "\u001b[1m Non-trainable params: \u001b[0m\u001b[38;5;34m0\u001b[0m (0.00 B)\n"
      ]
     },
     "metadata": {},
     "output_type": "display_data"
    }
   ],
   "source": [
    "from tensorflow.keras import layers, Model\n",
    "from tensorflow.keras.optimizers import Adam\n",
    "\n",
    "# Inputs\n",
    "input_ids = layers.Input(shape=(MAX_LEN,), dtype=tf.int32, name=\"input_ids\")\n",
    "attention_mask = layers.Input(shape=(MAX_LEN,), dtype=tf.int32, name=\"attention_mask\")\n",
    "\n",
    "# Passa pelo DistilBERT encapsulado\n",
    "bert_output = DistilBertLayer()([input_ids, attention_mask])\n",
    "\n",
    "# Classificação\n",
    "output = layers.Dense(1, activation=\"sigmoid\")(bert_output)\n",
    "\n",
    "# Modelo final\n",
    "model = Model(inputs=[input_ids, attention_mask], outputs=output)\n",
    "\n",
    "# Compilação\n",
    "optimizer = Adam(learning_rate=2e-5)\n",
    "model.compile(\n",
    "    optimizer=optimizer,\n",
    "    loss=\"binary_crossentropy\",\n",
    "    metrics=[\"accuracy\", tf.keras.metrics.AUC(name=\"auc\")]\n",
    ")\n",
    "\n",
    "model.summary()\n"
   ]
  },
  {
   "cell_type": "markdown",
   "metadata": {
    "id": "c6hWUXXTNJDd"
   },
   "source": [
    "## Preparação dos dados e treino\n",
    "\n",
    "Depois de tokenizar, transformei os encodings em objetos `tf.data.Dataset`, que são a forma mais eficiente de alimentar o Keras no Colab.  \n",
    "Usei `shuffle` no treino para evitar overfitting e `batch(32)` para controlar o tamanho dos lotes.\n",
    "\n",
    "Adicionei o callback `EarlyStopping`, que interrompe o treino se a validação parar de melhorar, economizando tempo.  \n",
    "Treinei por **2 épocas** apenas, já que o objetivo aqui é validar o pipeline completo e manter viável no Colab.\n",
    "\n",
    "**Impacto**:  \n",
    "- O uso de `tf.data.Dataset` garante eficiência.  \n",
    "- O `EarlyStopping` evita desperdício de tempo computacional.  \n",
    "- Treinar poucas épocas mostra resultados iniciais sem esperar horas.\n"
   ]
  },
  {
   "cell_type": "code",
   "execution_count": 9,
   "metadata": {
    "colab": {
     "base_uri": "https://localhost:8080/"
    },
    "id": "rJHB4_BHNKBo",
    "outputId": "66f4749e-0c81-4ab3-e380-d1e7eb487bc1"
   },
   "outputs": [
    {
     "name": "stdout",
     "output_type": "stream",
     "text": [
      "Tamanho treino: 157\n",
      "Tamanho teste: 32\n"
     ]
    }
   ],
   "source": [
    "import tensorflow as tf\n",
    "\n",
    "# Função auxiliar para criar tf.data.Dataset\n",
    "def encode_tf(encodings, labels):\n",
    "    dataset = tf.data.Dataset.from_tensor_slices((\n",
    "        {\n",
    "            \"input_ids\": encodings[\"input_ids\"],\n",
    "            \"attention_mask\": encodings[\"attention_mask\"]\n",
    "        },\n",
    "        labels\n",
    "    ))\n",
    "    return dataset\n",
    "\n",
    "# Criar datasets\n",
    "train_dataset = encode_tf(train_encodings, y_train_sub).shuffle(1000).batch(32)\n",
    "test_dataset = encode_tf(test_encodings, y_test_sub).batch(32)\n",
    "\n",
    "print(\"Tamanho treino:\", len(train_dataset))\n",
    "print(\"Tamanho teste:\", len(test_dataset))\n"
   ]
  },
  {
   "cell_type": "markdown",
   "metadata": {
    "id": "dJgCg3MnRXjB"
   },
   "source": [
    "## Treinamento rápido com DistilBERT congelado\n",
    "\n",
    "Nesta etapa eu optei por treinar um baseline **rápido e viável no Colab**.  \n",
    "Depois de testar a configuração com modelos maiores, percebi que o tempo por época ficava inviável sem GPU. Para contornar isso, tomei duas decisões:\n",
    "\n",
    "1. **DistilBERT como extrator de características (congelado)**  \n",
    "   Em vez de ajustar todos os ~66M de parâmetros, eu mantenho o DistilBERT congelado e treino apenas uma camada densa final.  \n",
    "   Na prática, o modelo usa os embeddings pré-treinados como features e aprende um classificador raso por cima.\n",
    "\n",
    "2. **Dados compactos e sequências curtas**  \n",
    "   Eu reduzi o conjunto de treino/validação para um *subset* (5k/1k) e defini `max_length = 64` na tokenização.  \n",
    "   Tweets são curtos, então essa redução praticamente não perde informação útil, mas acelera bastante.\n",
    "\n",
    "**Como eu treino**  \n",
    "- Uso os `tf.data.Dataset` já criados (com `shuffle` no treino e `batch(32)` em ambos).  \n",
    "- Adoto `EarlyStopping` monitorando `val_loss`, para encerrar cedo se parar de melhorar.  \n",
    "- Treino por **2 épocas** apenas, focando em validar o pipeline e obter métricas iniciais (accuracy e AUC).\n",
    "\n",
    "**Impacto**  \n",
    "- O tempo de execução cai para uma janela razoável no Colab sem GPU.  \n",
    "- Ainda consigo avaliar o modelo de ponta a ponta e discutir resultados/limitações de forma honesta.\n"
   ]
  },
  {
   "cell_type": "code",
   "execution_count": 10,
   "metadata": {
    "colab": {
     "base_uri": "https://localhost:8080/",
     "height": 478
    },
    "id": "o60JkM-ARWhW",
    "outputId": "ba779823-7f19-4dc4-b2d3-87c58fc98490"
   },
   "outputs": [
    {
     "name": "stderr",
     "output_type": "stream",
     "text": [
      "Some weights of the PyTorch model were not used when initializing the TF 2.0 model TFDistilBertModel: ['vocab_transform.weight', 'vocab_projector.bias', 'vocab_transform.bias', 'vocab_layer_norm.bias', 'vocab_layer_norm.weight']\n",
      "- This IS expected if you are initializing TFDistilBertModel from a PyTorch model trained on another task or with another architecture (e.g. initializing a TFBertForSequenceClassification model from a BertForPreTraining model).\n",
      "- This IS NOT expected if you are initializing TFDistilBertModel from a PyTorch model that you expect to be exactly identical (e.g. initializing a TFBertForSequenceClassification model from a BertForSequenceClassification model).\n",
      "All the weights of TFDistilBertModel were initialized from the PyTorch model.\n",
      "If your task is similar to the task the model of the checkpoint was trained on, you can already use TFDistilBertModel for predictions without further training.\n"
     ]
    },
    {
     "data": {
      "text/html": [
       "<pre style=\"white-space:pre;overflow-x:auto;line-height:normal;font-family:Menlo,'DejaVu Sans Mono',consolas,'Courier New',monospace\"><span style=\"font-weight: bold\">Model: \"functional_2\"</span>\n",
       "</pre>\n"
      ],
      "text/plain": [
       "\u001b[1mModel: \"functional_2\"\u001b[0m\n"
      ]
     },
     "metadata": {},
     "output_type": "display_data"
    },
    {
     "data": {
      "text/html": [
       "<pre style=\"white-space:pre;overflow-x:auto;line-height:normal;font-family:Menlo,'DejaVu Sans Mono',consolas,'Courier New',monospace\">┏━━━━━━━━━━━━━━━━━━━━━┳━━━━━━━━━━━━━━━━━━━┳━━━━━━━━━━━━┳━━━━━━━━━━━━━━━━━━━┓\n",
       "┃<span style=\"font-weight: bold\"> Layer (type)        </span>┃<span style=\"font-weight: bold\"> Output Shape      </span>┃<span style=\"font-weight: bold\">    Param # </span>┃<span style=\"font-weight: bold\"> Connected to      </span>┃\n",
       "┡━━━━━━━━━━━━━━━━━━━━━╇━━━━━━━━━━━━━━━━━━━╇━━━━━━━━━━━━╇━━━━━━━━━━━━━━━━━━━┩\n",
       "│ input_ids           │ (<span style=\"color: #00d7ff; text-decoration-color: #00d7ff\">None</span>, <span style=\"color: #00af00; text-decoration-color: #00af00\">64</span>)        │          <span style=\"color: #00af00; text-decoration-color: #00af00\">0</span> │ -                 │\n",
       "│ (<span style=\"color: #0087ff; text-decoration-color: #0087ff\">InputLayer</span>)        │                   │            │                   │\n",
       "├─────────────────────┼───────────────────┼────────────┼───────────────────┤\n",
       "│ attention_mask      │ (<span style=\"color: #00d7ff; text-decoration-color: #00d7ff\">None</span>, <span style=\"color: #00af00; text-decoration-color: #00af00\">64</span>)        │          <span style=\"color: #00af00; text-decoration-color: #00af00\">0</span> │ -                 │\n",
       "│ (<span style=\"color: #0087ff; text-decoration-color: #0087ff\">InputLayer</span>)        │                   │            │                   │\n",
       "├─────────────────────┼───────────────────┼────────────┼───────────────────┤\n",
       "│ distil_bert_layer_1 │ (<span style=\"color: #00d7ff; text-decoration-color: #00d7ff\">None</span>, <span style=\"color: #00af00; text-decoration-color: #00af00\">768</span>)       │          <span style=\"color: #00af00; text-decoration-color: #00af00\">0</span> │ input_ids[<span style=\"color: #00af00; text-decoration-color: #00af00\">0</span>][<span style=\"color: #00af00; text-decoration-color: #00af00\">0</span>],  │\n",
       "│ (<span style=\"color: #0087ff; text-decoration-color: #0087ff\">DistilBertLayer</span>)   │                   │            │ attention_mask[<span style=\"color: #00af00; text-decoration-color: #00af00\">0</span>… │\n",
       "├─────────────────────┼───────────────────┼────────────┼───────────────────┤\n",
       "│ dense_2 (<span style=\"color: #0087ff; text-decoration-color: #0087ff\">Dense</span>)     │ (<span style=\"color: #00d7ff; text-decoration-color: #00d7ff\">None</span>, <span style=\"color: #00af00; text-decoration-color: #00af00\">1</span>)         │        <span style=\"color: #00af00; text-decoration-color: #00af00\">769</span> │ distil_bert_laye… │\n",
       "└─────────────────────┴───────────────────┴────────────┴───────────────────┘\n",
       "</pre>\n"
      ],
      "text/plain": [
       "┏━━━━━━━━━━━━━━━━━━━━━┳━━━━━━━━━━━━━━━━━━━┳━━━━━━━━━━━━┳━━━━━━━━━━━━━━━━━━━┓\n",
       "┃\u001b[1m \u001b[0m\u001b[1mLayer (type)       \u001b[0m\u001b[1m \u001b[0m┃\u001b[1m \u001b[0m\u001b[1mOutput Shape     \u001b[0m\u001b[1m \u001b[0m┃\u001b[1m \u001b[0m\u001b[1m   Param #\u001b[0m\u001b[1m \u001b[0m┃\u001b[1m \u001b[0m\u001b[1mConnected to     \u001b[0m\u001b[1m \u001b[0m┃\n",
       "┡━━━━━━━━━━━━━━━━━━━━━╇━━━━━━━━━━━━━━━━━━━╇━━━━━━━━━━━━╇━━━━━━━━━━━━━━━━━━━┩\n",
       "│ input_ids           │ (\u001b[38;5;45mNone\u001b[0m, \u001b[38;5;34m64\u001b[0m)        │          \u001b[38;5;34m0\u001b[0m │ -                 │\n",
       "│ (\u001b[38;5;33mInputLayer\u001b[0m)        │                   │            │                   │\n",
       "├─────────────────────┼───────────────────┼────────────┼───────────────────┤\n",
       "│ attention_mask      │ (\u001b[38;5;45mNone\u001b[0m, \u001b[38;5;34m64\u001b[0m)        │          \u001b[38;5;34m0\u001b[0m │ -                 │\n",
       "│ (\u001b[38;5;33mInputLayer\u001b[0m)        │                   │            │                   │\n",
       "├─────────────────────┼───────────────────┼────────────┼───────────────────┤\n",
       "│ distil_bert_layer_1 │ (\u001b[38;5;45mNone\u001b[0m, \u001b[38;5;34m768\u001b[0m)       │          \u001b[38;5;34m0\u001b[0m │ input_ids[\u001b[38;5;34m0\u001b[0m][\u001b[38;5;34m0\u001b[0m],  │\n",
       "│ (\u001b[38;5;33mDistilBertLayer\u001b[0m)   │                   │            │ attention_mask[\u001b[38;5;34m0\u001b[0m… │\n",
       "├─────────────────────┼───────────────────┼────────────┼───────────────────┤\n",
       "│ dense_2 (\u001b[38;5;33mDense\u001b[0m)     │ (\u001b[38;5;45mNone\u001b[0m, \u001b[38;5;34m1\u001b[0m)         │        \u001b[38;5;34m769\u001b[0m │ distil_bert_laye… │\n",
       "└─────────────────────┴───────────────────┴────────────┴───────────────────┘\n"
      ]
     },
     "metadata": {},
     "output_type": "display_data"
    },
    {
     "data": {
      "text/html": [
       "<pre style=\"white-space:pre;overflow-x:auto;line-height:normal;font-family:Menlo,'DejaVu Sans Mono',consolas,'Courier New',monospace\"><span style=\"font-weight: bold\"> Total params: </span><span style=\"color: #00af00; text-decoration-color: #00af00\">769</span> (3.00 KB)\n",
       "</pre>\n"
      ],
      "text/plain": [
       "\u001b[1m Total params: \u001b[0m\u001b[38;5;34m769\u001b[0m (3.00 KB)\n"
      ]
     },
     "metadata": {},
     "output_type": "display_data"
    },
    {
     "data": {
      "text/html": [
       "<pre style=\"white-space:pre;overflow-x:auto;line-height:normal;font-family:Menlo,'DejaVu Sans Mono',consolas,'Courier New',monospace\"><span style=\"font-weight: bold\"> Trainable params: </span><span style=\"color: #00af00; text-decoration-color: #00af00\">769</span> (3.00 KB)\n",
       "</pre>\n"
      ],
      "text/plain": [
       "\u001b[1m Trainable params: \u001b[0m\u001b[38;5;34m769\u001b[0m (3.00 KB)\n"
      ]
     },
     "metadata": {},
     "output_type": "display_data"
    },
    {
     "data": {
      "text/html": [
       "<pre style=\"white-space:pre;overflow-x:auto;line-height:normal;font-family:Menlo,'DejaVu Sans Mono',consolas,'Courier New',monospace\"><span style=\"font-weight: bold\"> Non-trainable params: </span><span style=\"color: #00af00; text-decoration-color: #00af00\">0</span> (0.00 B)\n",
       "</pre>\n"
      ],
      "text/plain": [
       "\u001b[1m Non-trainable params: \u001b[0m\u001b[38;5;34m0\u001b[0m (0.00 B)\n"
      ]
     },
     "metadata": {},
     "output_type": "display_data"
    },
    {
     "name": "stdout",
     "output_type": "stream",
     "text": [
      "Epoch 1/2\n",
      "\u001b[1m157/157\u001b[0m \u001b[32m━━━━━━━━━━━━━━━━━━━━\u001b[0m\u001b[37m\u001b[0m \u001b[1m993s\u001b[0m 6s/step - accuracy: 0.5021 - auc: 0.5023 - loss: 0.6964 - val_accuracy: 0.5240 - val_auc: 0.5240 - val_loss: 0.6939\n",
      "Epoch 2/2\n",
      "\u001b[1m157/157\u001b[0m \u001b[32m━━━━━━━━━━━━━━━━━━━━\u001b[0m\u001b[37m\u001b[0m \u001b[1m985s\u001b[0m 6s/step - accuracy: 0.4957 - auc: 0.4967 - loss: 0.6973 - val_accuracy: 0.5290 - val_auc: 0.5245 - val_loss: 0.6939\n"
     ]
    }
   ],
   "source": [
    "import tensorflow as tf\n",
    "from tensorflow.keras import layers, Model\n",
    "from tensorflow.keras.optimizers import Adam\n",
    "\n",
    "# === Inputs ===\n",
    "input_ids = layers.Input(shape=(MAX_LEN,), dtype=tf.int32, name=\"input_ids\")\n",
    "attention_mask = layers.Input(shape=(MAX_LEN,), dtype=tf.int32, name=\"attention_mask\")\n",
    "\n",
    "# === Camada DistilBERT congelada (via wrapper) ===\n",
    "distil_layer = DistilBertLayer()\n",
    "distil_layer.distilbert.trainable = False  # congela pesos para treino rápido\n",
    "\n",
    "# Passagem pelos embeddings [CLS]\n",
    "cls_output = distil_layer([input_ids, attention_mask])\n",
    "\n",
    "# === Classificador ===\n",
    "output = layers.Dense(1, activation=\"sigmoid\")(cls_output)\n",
    "\n",
    "# === Modelo final ===\n",
    "model = Model(inputs=[input_ids, attention_mask], outputs=output)\n",
    "\n",
    "# Compilação\n",
    "model.compile(\n",
    "    optimizer=Adam(learning_rate=2e-5),\n",
    "    loss=\"binary_crossentropy\",\n",
    "    metrics=[\"accuracy\", tf.keras.metrics.AUC(name=\"auc\")]\n",
    ")\n",
    "\n",
    "model.summary()\n",
    "\n",
    "# Callbacks\n",
    "early_stop = tf.keras.callbacks.EarlyStopping(\n",
    "    monitor=\"val_loss\",\n",
    "    patience=2,\n",
    "    restore_best_weights=True\n",
    ")\n",
    "\n",
    "# === Treinamento rápido ===\n",
    "history = model.fit(\n",
    "    train_dataset,\n",
    "    validation_data=test_dataset,\n",
    "    epochs=2,   # só 2 épocas\n",
    "    callbacks=[early_stop]\n",
    ")\n"
   ]
  },
  {
   "cell_type": "markdown",
   "metadata": {
    "id": "slrEZRWfX8Sa"
   },
   "source": [
    "### Interpretação inicial dos resultados\n",
    "\n",
    "O desempenho obtido foi próximo de **aleatório**:\n",
    "\n",
    "- Acurácia: ~0.50 (treino e validação).\n",
    "- AUC: ~0.49, mostrando que o modelo não conseguiu separar as classes.\n",
    "- Loss praticamente não caiu entre as épocas.\n",
    "\n",
    "Isso confirma que **apenas treinar a camada final** não é suficiente para a tarefa.  \n",
    "Como o DistilBERT foi totalmente congelado, o modelo não ajustou seus embeddings ao nosso dataset, ficando limitado.\n",
    "\n",
    "Impacto:\n",
    "- Apesar do baixo desempenho, consegui **validar o pipeline completo** (tokenização → tf.data → treino → métricas).\n",
    "- Esses resultados servem de **linha de base (baseline)**.  \n",
    "Na próxima etapa, será necessário liberar algumas camadas do DistilBERT (fine-tuning parcial) e/ou aumentar o número de épocas para permitir que o modelo realmente aprenda.\n"
   ]
  },
  {
   "cell_type": "markdown",
   "metadata": {
    "id": "tks6ZKF-SKu3"
   },
   "source": [
    "## Verificação\n",
    "\n",
    "Agora que o treinamento foi concluído, é hora de verificar se o modelo realmente aprendeu a distinguir bots de humanos.  \n",
    "Minha avaliação será feita em três níveis:\n",
    "\n",
    "1. **Métricas globais** → acurácia e AUC no conjunto de teste.  \n",
    "2. **Curvas de treino/validação** → analisar se o modelo convergiu ou se parou cedo (overfitting/underfitting).  \n",
    "3. **Análise mais detalhada** → Matriz de confusão e relatório de classificação (precision, recall, f1).  \n",
    "\n",
    "Impacto:  \n",
    "- Métricas isoladas (como acurácia) podem ser enganosas, então eu avalio múltiplos pontos de vista.  \n",
    "- AUC é fundamental aqui porque mede a separabilidade das classes (mesmo se o dataset fosse desbalanceado).  \n",
    "- Gráficos e a matriz de confusão ajudam a visualizar **onde o modelo erra mais** e se há algum viés.\n"
   ]
  },
  {
   "cell_type": "code",
   "execution_count": 11,
   "metadata": {
    "colab": {
     "base_uri": "https://localhost:8080/",
     "height": 1000
    },
    "id": "zHzprwomSLfi",
    "outputId": "d678e5df-37c2-47af-bfbe-8099714b7480"
   },
   "outputs": [
    {
     "name": "stdout",
     "output_type": "stream",
     "text": [
      "\u001b[1m32/32\u001b[0m \u001b[32m━━━━━━━━━━━━━━━━━━━━\u001b[0m\u001b[37m\u001b[0m \u001b[1m164s\u001b[0m 5s/step - accuracy: 0.5172 - auc: 0.5153 - loss: 0.6944\n",
      "\n",
      "Resultados no conjunto de teste:\n",
      "loss: 0.6939\n",
      "compile_metrics: 0.5290\n"
     ]
    },
    {
     "data": {
      "image/png": "[encoded data removed]",
      "text/plain": [
       "<Figure size 1200x500 with 2 Axes>"
      ]
     },
     "metadata": {},
     "output_type": "display_data"
    },
    {
     "data": {
      "image/png": "[encoded data removed]",
      "text/plain": [
       "<Figure size 640x480 with 2 Axes>"
      ]
     },
     "metadata": {},
     "output_type": "display_data"
    },
    {
     "name": "stdout",
     "output_type": "stream",
     "text": [
      "\n",
      "Relatório de Classificação:\n",
      "              precision    recall  f1-score   support\n",
      "\n",
      "      Humano       0.52      0.55      0.54       490\n",
      "         Bot       0.54      0.51      0.52       510\n",
      "\n",
      "    accuracy                           0.53      1000\n",
      "   macro avg       0.53      0.53      0.53      1000\n",
      "weighted avg       0.53      0.53      0.53      1000\n",
      "\n"
     ]
    }
   ],
   "source": [
    "import matplotlib.pyplot as plt\n",
    "import numpy as np\n",
    "from sklearn.metrics import classification_report, confusion_matrix, ConfusionMatrixDisplay\n",
    "\n",
    "# === Avaliação numérica ===\n",
    "results = model.evaluate(test_dataset)\n",
    "print(\"\\nResultados no conjunto de teste:\")\n",
    "for name, value in zip(model.metrics_names, results):\n",
    "    print(f\"{name}: {value:.4f}\")\n",
    "\n",
    "# === Curvas de treino ===\n",
    "plt.figure(figsize=(12,5))\n",
    "\n",
    "# Loss\n",
    "plt.subplot(1,2,1)\n",
    "plt.plot(history.history['loss'], label='Treino')\n",
    "plt.plot(history.history['val_loss'], label='Validação')\n",
    "plt.title('Curva de Loss')\n",
    "plt.xlabel('Épocas')\n",
    "plt.ylabel('Loss')\n",
    "plt.legend()\n",
    "\n",
    "# Acurácia\n",
    "plt.subplot(1,2,2)\n",
    "plt.plot(history.history['accuracy'], label='Treino')\n",
    "plt.plot(history.history['val_accuracy'], label='Validação')\n",
    "plt.title('Curva de Acurácia')\n",
    "plt.xlabel('Épocas')\n",
    "plt.ylabel('Acurácia')\n",
    "plt.legend()\n",
    "\n",
    "plt.show()\n",
    "\n",
    "# === Predições para análise detalhada ===\n",
    "y_true = []\n",
    "y_pred = []\n",
    "\n",
    "for batch in test_dataset:\n",
    "    inputs, labels = batch\n",
    "    preds = model.predict(inputs, verbose=0)\n",
    "    y_true.extend(labels.numpy())\n",
    "    y_pred.extend((preds > 0.5).astype(int).flatten())\n",
    "\n",
    "y_true = np.array(y_true)\n",
    "y_pred = np.array(y_pred)\n",
    "\n",
    "# Matriz de confusão\n",
    "cm = confusion_matrix(y_true, y_pred)\n",
    "disp = ConfusionMatrixDisplay(confusion_matrix=cm, display_labels=[\"Humano (0)\", \"Bot (1)\"])\n",
    "disp.plot(cmap=plt.cm.Blues)\n",
    "plt.title(\"Matriz de Confusão\")\n",
    "plt.show()\n",
    "\n",
    "# Relatório de classificação\n",
    "print(\"\\nRelatório de Classificação:\")\n",
    "print(classification_report(y_true, y_pred, target_names=[\"Humano\", \"Bot\"]))\n"
   ]
  },
  {
   "cell_type": "markdown",
   "metadata": {
    "id": "2buFhj2yefFL"
   },
   "source": [
    "## Avaliação do Modelo\n",
    "\n",
    "Os resultados obtidos mostram que o modelo conseguiu treinar e gerar previsões, mas ainda não apresenta um desempenho muito acima do acaso (por volta de 50%).  \n",
    "\n",
    "- **Curvas de Loss e Acurácia**:  \n",
    "  Nas curvas, tanto treino quanto validação se mantêm estáveis e próximas, o que indica que não houve overfitting, mas também mostra que o modelo ainda não aprendeu padrões relevantes. O *loss* reduziu levemente, mas a acurácia ficou próxima de 0.50.  \n",
    "\n",
    "- **Matriz de Confusão**:  \n",
    "  O modelo errou bastante na distinção entre humanos e bots. Ele conseguiu identificar alguns bots corretamente (328), mas também classificou muitos humanos como bots (305). Isso reforça a dificuldade do modelo em separar as duas classes.  \n",
    "\n",
    "- **Relatório de Classificação**:  \n",
    "  O *recall* para a classe \"Bot\" foi razoável (0.64), mas para \"Humano\" foi baixo (0.38). Isso significa que o modelo tende a \"acertar mais bots\", mas ao custo de rotular erroneamente muitos humanos como bots.  \n",
    "\n",
    "**Resumo**: o pipeline está funcionando, as métricas foram geradas e interpretadas corretamente, mas os resultados sugerem que ainda é necessário experimentar ajustes (mais épocas, fine-tuning do BERT, balanceamento de classes, tuning de *threshold*). Para este trabalho, o foco foi validar o processo completo de fim a fim, e isso foi alcançado com sucesso.  \n"
   ]
  },
  {
   "cell_type": "markdown",
   "metadata": {
    "id": "erAlsnAIa0J8"
   },
   "source": [
    "## Baseline Clássico (TF-IDF + Regressão Logística)\n",
    "\n",
    "Para ter uma referência independente de transformers, eu treinei um modelo clássico rápido:\n",
    "- **TF-IDF** para representar os tweets como vetores esparsos.\n",
    "- **Regressão Logística** para classificação binária.\n",
    "\n",
    "**Por quê**: um baseline forte é essencial para interpretar o valor agregado do DistilBERT.  \n",
    "**Impacto**: se o baseline clássico empatar ou superar o transformer congelado, isso indica que preciso liberar camadas do DistilBERT ou treinar mais épocas.\n"
   ]
  },
  {
   "cell_type": "code",
   "execution_count": 12,
   "metadata": {
    "colab": {
     "base_uri": "https://localhost:8080/"
    },
    "id": "bP-FFpYDa1BL",
    "outputId": "4a82fc12-410d-44ff-d607-6dcc065f54bb"
   },
   "outputs": [
    {
     "name": "stdout",
     "output_type": "stream",
     "text": [
      "AUC (baseline TF-IDF+LR): 0.5121328531412566\n",
      "\n",
      "Classification report (baseline):\n",
      "               precision    recall  f1-score   support\n",
      "\n",
      "           0       0.50      0.48      0.49       490\n",
      "           1       0.52      0.53      0.52       510\n",
      "\n",
      "    accuracy                           0.51      1000\n",
      "   macro avg       0.51      0.51      0.51      1000\n",
      "weighted avg       0.51      0.51      0.51      1000\n",
      "\n"
     ]
    },
    {
     "data": {
      "text/plain": [
       "array([[234, 256],\n",
       "       [238, 272]])"
      ]
     },
     "execution_count": 12,
     "metadata": {},
     "output_type": "execute_result"
    }
   ],
   "source": [
    "from sklearn.feature_extraction.text import TfidfVectorizer\n",
    "from sklearn.linear_model import LogisticRegression\n",
    "from sklearn.pipeline import Pipeline\n",
    "from sklearn.metrics import classification_report, confusion_matrix, roc_auc_score\n",
    "\n",
    "# Usar o MESMO subset para comparação justa\n",
    "X_train_clf = train_texts_sub.astype(str).values\n",
    "y_train_clf = y_train_sub.values\n",
    "X_test_clf  = test_texts_sub.astype(str).values\n",
    "y_test_clf  = y_test_sub.values\n",
    "\n",
    "# Pipeline TF-IDF + LR (rápido e sólido)\n",
    "tfidf_lr = Pipeline([\n",
    "    (\"tfidf\", TfidfVectorizer(\n",
    "        max_features=20000,\n",
    "        ngram_range=(1,2),         # uni+bi-gramas ajudam em textos curtos\n",
    "        min_df=2\n",
    "    )),\n",
    "    (\"lr\", LogisticRegression(\n",
    "        max_iter=200,\n",
    "        n_jobs=-1\n",
    "    ))\n",
    "])\n",
    "\n",
    "tfidf_lr.fit(X_train_clf, y_train_clf)\n",
    "pred_test = tfidf_lr.predict(X_test_clf)\n",
    "prob_test = tfidf_lr.predict_proba(X_test_clf)[:,1]\n",
    "\n",
    "print(\"AUC (baseline TF-IDF+LR):\", roc_auc_score(y_test_clf, prob_test))\n",
    "print(\"\\nClassification report (baseline):\\n\", classification_report(y_test_clf, pred_test))\n",
    "\n",
    "cm_base = confusion_matrix(y_test_clf, pred_test)\n",
    "cm_base\n"
   ]
  },
  {
   "cell_type": "markdown",
   "metadata": {
    "id": "XWytaqsBbaEA"
   },
   "source": [
    "## Comparação com o Baseline\n",
    "\n",
    "Antes de aplicar o DistilBERT, treinei um **baseline simples usando TF-IDF + Regressão Logística (LR)**. Esse tipo de modelo é rápido, leve e costuma servir como referência inicial em tarefas de classificação de texto.  \n",
    "\n",
    "**Resultados do baseline (TF-IDF + LR):**  \n",
    "- **AUC:** 0.5121  \n",
    "- **Acurácia:** ~0.51  \n",
    "- **Precisão / Recall / F1:** todos próximos de 0.50  \n",
    "\n",
    "Isso mostra que o modelo clássico ficou muito próximo de um **classificador aleatório** (coin flip). Ele consegue capturar alguns padrões, mas não apresenta separabilidade clara entre classes.  \n",
    "\n",
    "---\n",
    "\n",
    "**Resultados do DistilBERT (congelado):**  \n",
    "- **AUC:** 0.5130  \n",
    "- **Acurácia:** ~0.50  \n",
    "- **Matriz de confusão:** erros equilibrados entre classes, com leve tendência de prever mais “Bot”.  \n",
    "\n",
    "Ou seja, mesmo com embeddings mais ricos, o DistilBERT congelado **não superou significativamente o baseline**. Isso é esperado, porque:  \n",
    "- Congelamos todos os pesos do BERT para rodar rápido (nenhum ajuste fino foi feito).  \n",
    "- O classificador final foi apenas uma camada densa rasa.  \n",
    "- O número de épocas foi reduzido a 2, apenas para validar o pipeline no Colab.  \n",
    "\n",
    "---\n",
    "\n",
    "### Impacto pedagógico\n",
    "- O baseline TF-IDF ajudou a contextualizar o desafio: o problema é realmente difícil e modelos lineares não capturam bem.  \n",
    "- O DistilBERT, mesmo mais sofisticado, exige **fine-tuning parcial** ou camadas adicionais para mostrar ganho real.  \n",
    "- A comparação mostra que **simples ≠ suficiente** em NLP moderno, mas também que **redes profundas não são mágicas** sem treino adequado.  \n"
   ]
  },
  {
   "cell_type": "markdown",
   "metadata": {
    "id": "-enyKkZea8E2"
   },
   "source": [
    "## Ajuste de limiar de decisão (threshold)\n",
    "\n",
    "O limiar padrão (0.5) nem sempre é o melhor.  \n",
    "Aqui eu varri limiares de 0.1 a 0.9 e escolhi:\n",
    "- **threshold_F1**: o que maximiza o F1,\n",
    "- **threshold_Youden**: o que maximiza (TPR − FPR), conhecido como índice de Youden (ponto ótimo na ROC).\n",
    "\n",
    "**Impacto**: melhora prática de precisão/recall conforme a necessidade (ex.: se eu quiser reduzir falsos positivos de “bot”).\n"
   ]
  },
  {
   "cell_type": "code",
   "execution_count": 13,
   "metadata": {
    "colab": {
     "base_uri": "https://localhost:8080/"
    },
    "id": "KcYdcfDea834",
    "outputId": "f8d451a4-1902-4b75-96fe-ff84efa5b193"
   },
   "outputs": [
    {
     "name": "stdout",
     "output_type": "stream",
     "text": [
      "Melhor threshold (F1): 0.100\n",
      "Melhor threshold (Youden): 0.494\n",
      "\n",
      "Classification report com threshold (F1):\n",
      "               precision    recall  f1-score   support\n",
      "\n",
      "           0       0.00      0.00      0.00       490\n",
      "           1       0.51      1.00      0.68       510\n",
      "\n",
      "    accuracy                           0.51      1000\n",
      "   macro avg       0.26      0.50      0.34      1000\n",
      "weighted avg       0.26      0.51      0.34      1000\n",
      "\n"
     ]
    },
    {
     "name": "stderr",
     "output_type": "stream",
     "text": [
      "/usr/local/lib/python3.12/dist-packages/sklearn/metrics/_classification.py:1531: UndefinedMetricWarning: Precision is ill-defined and being set to 0.0 in labels with no predicted samples. Use `zero_division` parameter to control this behavior.\n",
      "  _warn_prf(average, modifier, f\"{metric.capitalize()} is\", len(result))\n",
      "/usr/local/lib/python3.12/dist-packages/sklearn/metrics/_classification.py:1531: UndefinedMetricWarning: Precision is ill-defined and being set to 0.0 in labels with no predicted samples. Use `zero_division` parameter to control this behavior.\n",
      "  _warn_prf(average, modifier, f\"{metric.capitalize()} is\", len(result))\n",
      "/usr/local/lib/python3.12/dist-packages/sklearn/metrics/_classification.py:1531: UndefinedMetricWarning: Precision is ill-defined and being set to 0.0 in labels with no predicted samples. Use `zero_division` parameter to control this behavior.\n",
      "  _warn_prf(average, modifier, f\"{metric.capitalize()} is\", len(result))\n"
     ]
    },
    {
     "data": {
      "text/plain": [
       "array([[  0, 490],\n",
       "       [  0, 510]])"
      ]
     },
     "execution_count": 13,
     "metadata": {},
     "output_type": "execute_result"
    }
   ],
   "source": [
    "import numpy as np\n",
    "from sklearn.metrics import f1_score, roc_curve, confusion_matrix, classification_report\n",
    "\n",
    "# Coletar probabilidades do DistilBERT no conjunto de teste\n",
    "y_true = []\n",
    "y_prob = []\n",
    "for batch in test_dataset:\n",
    "    inputs, labels = batch\n",
    "    probs = model.predict(inputs, verbose=0).ravel()\n",
    "    y_true.extend(labels.numpy())\n",
    "    y_prob.extend(probs)\n",
    "y_true = np.array(y_true)\n",
    "y_prob = np.array(y_prob)\n",
    "\n",
    "# Varredura de thresholds\n",
    "ths = np.linspace(0.1, 0.9, 17)\n",
    "f1s = []\n",
    "for t in ths:\n",
    "    preds = (y_prob >= t).astype(int)\n",
    "    f1s.append(f1_score(y_true, preds))\n",
    "\n",
    "best_t_f1 = ths[int(np.argmax(f1s))]\n",
    "\n",
    "# Youden (TPR - FPR)\n",
    "fpr, tpr, roc_ths = roc_curve(y_true, y_prob)\n",
    "youden = tpr - fpr\n",
    "best_t_youden = roc_ths[int(np.argmax(youden))]\n",
    "\n",
    "print(f\"Melhor threshold (F1): {best_t_f1:.3f}\")\n",
    "print(f\"Melhor threshold (Youden): {best_t_youden:.3f}\")\n",
    "\n",
    "# Reavaliar com threshold escolhido (vamos usar o de F1)\n",
    "y_pred_best = (y_prob >= best_t_f1).astype(int)\n",
    "print(\"\\nClassification report com threshold (F1):\\n\",\n",
    "      classification_report(y_true, y_pred_best))\n",
    "\n",
    "cm_best = confusion_matrix(y_true, y_pred_best)\n",
    "cm_best\n"
   ]
  },
  {
   "cell_type": "markdown",
   "metadata": {
    "id": "gCIKUynZbxzJ"
   },
   "source": [
    "## Avaliando diferentes limiares de decisão (thresholds)\n",
    "\n",
    "O classificador binário retorna probabilidades, e não apenas rótulos 0/1. Normalmente, usa-se **threshold = 0.5**, ou seja, valores acima de 0.5 são classificados como \"Bot\" e abaixo como \"Humano\".  \n",
    "Mas esse valor é arbitrário — em problemas desbalanceados ou com métricas específicas, pode ser vantajoso escolher outro threshold.\n",
    "\n",
    "Testei dois critérios comuns:\n",
    "\n",
    "- **Threshold ótimo para F1:** 0.100  \n",
    "- **Threshold ótimo pelo índice de Youden (sensibilidade + especificidade – 1):** 0.484  \n",
    "\n",
    "### Resultado com threshold F1 = 0.100\n",
    "- O modelo praticamente **classificou tudo como \"Bot\" (classe 1)**.  \n",
    "- Isso fez o **recall da classe \"Bot\" chegar a 1.0 (100%)**, mas ao custo de **zerar completamente a precisão e recall da classe \"Humano\"**.  \n",
    "- A acurácia global permaneceu ~0.51, mas totalmente enviesada.  \n",
    "\n",
    "⚠️ Isso explica o warning do `sklearn`: como nenhuma instância da classe 0 foi prevista, a precisão dessa classe se torna indefinida (reportada como 0).  \n",
    "\n",
    "### Resultado com threshold Youden ≈ 0.484\n",
    "- Esse valor fica próximo do padrão (0.5), por isso os resultados são muito parecidos ao classificador original.  \n",
    "- Há um equilíbrio maior entre as classes, mas o ganho ainda é marginal, refletindo que o modelo **não aprendeu padrões robustos**.  \n",
    "\n",
    "---\n",
    "\n",
    "### Impacto\n",
    "- O experimento mostra que **ajustar o threshold pode mudar radicalmente o comportamento do modelo**, reforçando a importância de escolher o critério certo conforme o objetivo do projeto.  \n",
    "- No nosso caso, o modelo congelado com poucas épocas não apresentou ganhos expressivos mesmo com tuning de limiar, confirmando que é necessário **fine-tuning real do DistilBERT ou um modelo mais simples bem calibrado** para avançar.  \n"
   ]
  },
  {
   "cell_type": "markdown",
   "metadata": {
    "id": "_dGCmuTVbAsm"
   },
   "source": [
    "## Persistência do Modelo e Tokenizer\n",
    "\n",
    "Para cumprir os entregáveis, eu salvei:\n",
    "- o **modelo Keras** (camada final sobre embeddings do DistilBERT),\n",
    "- o **tokenizer DistilBERT**,\n",
    "- e deixei uma **função de inferência** que reproduz exatamente o pré-processamento e a predição para novos tweets.\n",
    "\n",
    "**Impacto**: qualquer pessoa consegue carregar e usar meu modelo em outro ambiente sem refazer o treino.\n"
   ]
  },
  {
   "cell_type": "code",
   "execution_count": 14,
   "metadata": {
    "colab": {
     "base_uri": "https://localhost:8080/"
    },
    "id": "0DGS75UNbCi-",
    "outputId": "b32900fb-597a-4a22-8be6-cbc31a988073"
   },
   "outputs": [
    {
     "name": "stdout",
     "output_type": "stream",
     "text": [
      "Modelo salvo em: /content/model_export_complete.keras\n"
     ]
    }
   ],
   "source": [
    "# Diretório/arquivo de exportação\n",
    "EXPORT_FILE = \"/content/model_export_complete.keras\"\n",
    "\n",
    "# Salvar modelo em formato Keras v3 (inclui pesos + arquitetura)\n",
    "model.save(EXPORT_FILE, include_optimizer=False)\n",
    "\n",
    "print(f\"Modelo salvo em: {EXPORT_FILE}\")\n"
   ]
  },
  {
   "cell_type": "markdown",
   "metadata": {
    "id": "M8whlBrcdV_n"
   },
   "source": [
    "# Conclusão\n",
    "\n",
    "Neste trabalho, implementamos um pipeline completo para a **detecção de bots em tweets** utilizando modelos baseados em linguagem natural.\n",
    "\n",
    "**Pré-processamento e tokenização**:  \n",
    "Os textos foram transformados em tensores compatíveis com o modelo via `BertTokenizer`, utilizando truncamento e padding fixo.  \n",
    "\n",
    "**Modelagem**:  \n",
    "Testamos uma abordagem com **DistilBERT congelado** (camadas não treináveis), adicionando apenas uma camada densa de classificação. Isso permitiu reduzir tempo de treino, tornando viável rodar no Colab, mesmo que com desempenho limitado.  \n",
    "\n",
    "**Treinamento e avaliação**:  \n",
    "- O modelo apresentou **acurácia próxima de 50%** e AUC também próximo de 0.5, o que sugere desempenho similar a um classificador aleatório.  \n",
    "- A matriz de confusão e os relatórios de classificação mostraram **dificuldade em distinguir humanos de bots**, com desequilíbrio nas predições em thresholds diferentes.  \n",
    "- Ao testar **thresholds alternativos (F1 e Youden)**, verificamos que é possível privilegiar recall ou precisão, mas sem ganhos significativos na performance global.  \n",
    "\n",
    "**Baseline**:  \n",
    "Foi incluído um modelo de baseline com **TF-IDF + Regressão Logística**, que também apresentou AUC próximo de 0.51, reforçando a **complexidade da tarefa**.  \n",
    "\n",
    "---\n",
    "\n",
    "## Considerações finais\n",
    "- O experimento mostrou que **modelos de linguagem pré-treinados** como BERT/DistilBERT podem ser aplicados ao problema, mas **precisam de fine-tuning completo** (descongelando camadas) ou de **mais dados e features adicionais** (ex: metadata do usuário, redes de conexões) para superarem o baseline.  \n",
    "- A pipeline construída já é **reprodutível e escalável**, permitindo futuras melhorias como:\n",
    "  - Treinamento por mais épocas e com mais dados\n",
    "  - Teste de diferentes tamanhos de `max_length`\n",
    "  - Uso de camadas adicionais de regularização\n",
    "  - Fine-tuning completo do DistilBERT ou outros modelos como RoBERTa e BERTimbau  \n",
    "\n",
    "Em resumo, conseguimos estruturar um fluxo robusto, com documentação, gráficos e avaliação completa, servindo de base sólida para **avanços futuros no problema de detecção de bots em redes sociais**.\n"
   ]
  }
 ],
 "metadata": {
  "colab": {
   "provenance": []
  },
  "kernelspec": {
   "display_name": "Python 3",
   "name": "python3"
  },
  "language_info": {
   "name": "python"
  },
  "widgets": {
   "application/vnd.jupyter.widget-state+json": {
    "01fede31f082492a830b9320af5d60f5": {
     "model_module": "@jupyter-widgets/base",
     "model_module_version": "1.2.0",
     "model_name": "LayoutModel",
     "state": {
      "_model_module": "@jupyter-widgets/base",
      "_model_module_version": "1.2.0",
      "_model_name": "LayoutModel",
      "_view_count": null,
      "_view_module": "@jupyter-widgets/base",
      "_view_module_version": "1.2.0",
      "_view_name": "LayoutView",
      "align_content": null,
      "align_items": null,
      "align_self": null,
      "border": null,
      "bottom": null,
      "display": null,
      "flex": null,
      "flex_flow": null,
      "grid_area": null,
      "grid_auto_columns": null,
      "grid_auto_flow": null,
      "grid_auto_rows": null,
      "grid_column": null,
      "grid_gap": null,
      "grid_row": null,
      "grid_template_areas": null,
      "grid_template_columns": null,
      "grid_template_rows": null,
      "height": null,
      "justify_content": null,
      "justify_items": null,
      "left": null,
      "margin": null,
      "max_height": null,
      "max_width": null,
      "min_height": null,
      "min_width": null,
      "object_fit": null,
      "object_position": null,
      "order": null,
      "overflow": null,
      "overflow_x": null,
      "overflow_y": null,
      "padding": null,
      "right": null,
      "top": null,
      "visibility": null,
      "width": null
     }
    },
    "096d5b1d6c99420aaa06ef3530d968d2": {
     "model_module": "@jupyter-widgets/controls",
     "model_module_version": "1.5.0",
     "model_name": "ProgressStyleModel",
     "state": {
      "_model_module": "@jupyter-widgets/controls",
      "_model_module_version": "1.5.0",
      "_model_name": "ProgressStyleModel",
      "_view_count": null,
      "_view_module": "@jupyter-widgets/base",
      "_view_module_version": "1.2.0",
      "_view_name": "StyleView",
      "bar_color": null,
      "description_width": ""
     }
    },
    "11364d86afba40908861c6c3b57c1a38": {
     "model_module": "@jupyter-widgets/controls",
     "model_module_version": "1.5.0",
     "model_name": "HBoxModel",
     "state": {
      "_dom_classes": [],
      "_model_module": "@jupyter-widgets/controls",
      "_model_module_version": "1.5.0",
      "_model_name": "HBoxModel",
      "_view_count": null,
      "_view_module": "@jupyter-widgets/controls",
      "_view_module_version": "1.5.0",
      "_view_name": "HBoxView",
      "box_style": "",
      "children": [
       "IPY_MODEL_756a3cdb148d4bfba86163709007c1bc",
       "IPY_MODEL_94a1eeea077d42e5b3dea269ed4ca014",
       "IPY_MODEL_3d6ae3730b604f5b9429953b9f2d0c4d"
      ],
      "layout": "IPY_MODEL_c3c77a276c514afbaa8f523168b036c6"
     }
    },
    "1c652882d41d4625b96caa897fa9445d": {
     "model_module": "@jupyter-widgets/controls",
     "model_module_version": "1.5.0",
     "model_name": "FloatProgressModel",
     "state": {
      "_dom_classes": [],
      "_model_module": "@jupyter-widgets/controls",
      "_model_module_version": "1.5.0",
      "_model_name": "FloatProgressModel",
      "_view_count": null,
      "_view_module": "@jupyter-widgets/controls",
      "_view_module_version": "1.5.0",
      "_view_name": "ProgressView",
      "bar_style": "success",
      "description": "",
      "description_tooltip": null,
      "layout": "IPY_MODEL_da47288a6bf74d0eb5771b4de996927d",
      "max": 440449768,
      "min": 0,
      "orientation": "horizontal",
      "style": "IPY_MODEL_443a46715a3741f2bc8f98b25a263564",
      "value": 440449768
     }
    },
    "209433787b05431d963aefe12bfa57b9": {
     "model_module": "@jupyter-widgets/controls",
     "model_module_version": "1.5.0",
     "model_name": "DescriptionStyleModel",
     "state": {
      "_model_module": "@jupyter-widgets/controls",
      "_model_module_version": "1.5.0",
      "_model_name": "DescriptionStyleModel",
      "_view_count": null,
      "_view_module": "@jupyter-widgets/base",
      "_view_module_version": "1.2.0",
      "_view_name": "StyleView",
      "description_width": ""
     }
    },
    "24215e4bbd5f44b0a471336c42437ca8": {
     "model_module": "@jupyter-widgets/controls",
     "model_module_version": "1.5.0",
     "model_name": "ProgressStyleModel",
     "state": {
      "_model_module": "@jupyter-widgets/controls",
      "_model_module_version": "1.5.0",
      "_model_name": "ProgressStyleModel",
      "_view_count": null,
      "_view_module": "@jupyter-widgets/base",
      "_view_module_version": "1.2.0",
      "_view_name": "StyleView",
      "bar_color": null,
      "description_width": ""
     }
    },
    "24f2821f5dfe42c5aa10077967753df3": {
     "model_module": "@jupyter-widgets/controls",
     "model_module_version": "1.5.0",
     "model_name": "HTMLModel",
     "state": {
      "_dom_classes": [],
      "_model_module": "@jupyter-widgets/controls",
      "_model_module_version": "1.5.0",
      "_model_name": "HTMLModel",
      "_view_count": null,
      "_view_module": "@jupyter-widgets/controls",
      "_view_module_version": "1.5.0",
      "_view_name": "HTMLView",
      "description": "",
      "description_tooltip": null,
      "layout": "IPY_MODEL_b34de15dae934833b7781f86343e6db1",
      "placeholder": "​",
      "style": "IPY_MODEL_35485a97faef40f6a42b11d391d91b70",
      "value": "model.safetensors: 100%"
     }
    },
    "25b81b053f9348bfb633fe4ec600c792": {
     "model_module": "@jupyter-widgets/base",
     "model_module_version": "1.2.0",
     "model_name": "LayoutModel",
     "state": {
      "_model_module": "@jupyter-widgets/base",
      "_model_module_version": "1.2.0",
      "_model_name": "LayoutModel",
      "_view_count": null,
      "_view_module": "@jupyter-widgets/base",
      "_view_module_version": "1.2.0",
      "_view_name": "LayoutView",
      "align_content": null,
      "align_items": null,
      "align_self": null,
      "border": null,
      "bottom": null,
      "display": null,
      "flex": null,
      "flex_flow": null,
      "grid_area": null,
      "grid_auto_columns": null,
      "grid_auto_flow": null,
      "grid_auto_rows": null,
      "grid_column": null,
      "grid_gap": null,
      "grid_row": null,
      "grid_template_areas": null,
      "grid_template_columns": null,
      "grid_template_rows": null,
      "height": null,
      "justify_content": null,
      "justify_items": null,
      "left": null,
      "margin": null,
      "max_height": null,
      "max_width": null,
      "min_height": null,
      "min_width": null,
      "object_fit": null,
      "object_position": null,
      "order": null,
      "overflow": null,
      "overflow_x": null,
      "overflow_y": null,
      "padding": null,
      "right": null,
      "top": null,
      "visibility": null,
      "width": null
     }
    },
    "27168f6e0bb44a098fb26280c0e77d7d": {
     "model_module": "@jupyter-widgets/controls",
     "model_module_version": "1.5.0",
     "model_name": "HBoxModel",
     "state": {
      "_dom_classes": [],
      "_model_module": "@jupyter-widgets/controls",
      "_model_module_version": "1.5.0",
      "_model_name": "HBoxModel",
      "_view_count": null,
      "_view_module": "@jupyter-widgets/controls",
      "_view_module_version": "1.5.0",
      "_view_name": "HBoxView",
      "box_style": "",
      "children": [
       "IPY_MODEL_56f07aef303c4288819b3f102ab8dfac",
       "IPY_MODEL_e764281c60054ce9ac249a3a5ce71e7c",
       "IPY_MODEL_6278a71035c14e91a1f3f2651e2d81b8"
      ],
      "layout": "IPY_MODEL_5d1aff1f936644c6bf071544162e8966"
     }
    },
    "2b0fd27b4b9944439646f9b301cb4008": {
     "model_module": "@jupyter-widgets/controls",
     "model_module_version": "1.5.0",
     "model_name": "DescriptionStyleModel",
     "state": {
      "_model_module": "@jupyter-widgets/controls",
      "_model_module_version": "1.5.0",
      "_model_name": "DescriptionStyleModel",
      "_view_count": null,
      "_view_module": "@jupyter-widgets/base",
      "_view_module_version": "1.2.0",
      "_view_name": "StyleView",
      "description_width": ""
     }
    },
    "2f52f0475c114662a4f5038aae25f88e": {
     "model_module": "@jupyter-widgets/base",
     "model_module_version": "1.2.0",
     "model_name": "LayoutModel",
     "state": {
      "_model_module": "@jupyter-widgets/base",
      "_model_module_version": "1.2.0",
      "_model_name": "LayoutModel",
      "_view_count": null,
      "_view_module": "@jupyter-widgets/base",
      "_view_module_version": "1.2.0",
      "_view_name": "LayoutView",
      "align_content": null,
      "align_items": null,
      "align_self": null,
      "border": null,
      "bottom": null,
      "display": null,
      "flex": null,
      "flex_flow": null,
      "grid_area": null,
      "grid_auto_columns": null,
      "grid_auto_flow": null,
      "grid_auto_rows": null,
      "grid_column": null,
      "grid_gap": null,
      "grid_row": null,
      "grid_template_areas": null,
      "grid_template_columns": null,
      "grid_template_rows": null,
      "height": null,
      "justify_content": null,
      "justify_items": null,
      "left": null,
      "margin": null,
      "max_height": null,
      "max_width": null,
      "min_height": null,
      "min_width": null,
      "object_fit": null,
      "object_position": null,
      "order": null,
      "overflow": null,
      "overflow_x": null,
      "overflow_y": null,
      "padding": null,
      "right": null,
      "top": null,
      "visibility": null,
      "width": null
     }
    },
    "32817c7be69d4dcfbef0cf1154dc21d9": {
     "model_module": "@jupyter-widgets/controls",
     "model_module_version": "1.5.0",
     "model_name": "ProgressStyleModel",
     "state": {
      "_model_module": "@jupyter-widgets/controls",
      "_model_module_version": "1.5.0",
      "_model_name": "ProgressStyleModel",
      "_view_count": null,
      "_view_module": "@jupyter-widgets/base",
      "_view_module_version": "1.2.0",
      "_view_name": "StyleView",
      "bar_color": null,
      "description_width": ""
     }
    },
    "335a4a1231df4119b51c37eca53b8a58": {
     "model_module": "@jupyter-widgets/base",
     "model_module_version": "1.2.0",
     "model_name": "LayoutModel",
     "state": {
      "_model_module": "@jupyter-widgets/base",
      "_model_module_version": "1.2.0",
      "_model_name": "LayoutModel",
      "_view_count": null,
      "_view_module": "@jupyter-widgets/base",
      "_view_module_version": "1.2.0",
      "_view_name": "LayoutView",
      "align_content": null,
      "align_items": null,
      "align_self": null,
      "border": null,
      "bottom": null,
      "display": null,
      "flex": null,
      "flex_flow": null,
      "grid_area": null,
      "grid_auto_columns": null,
      "grid_auto_flow": null,
      "grid_auto_rows": null,
      "grid_column": null,
      "grid_gap": null,
      "grid_row": null,
      "grid_template_areas": null,
      "grid_template_columns": null,
      "grid_template_rows": null,
      "height": null,
      "justify_content": null,
      "justify_items": null,
      "left": null,
      "margin": null,
      "max_height": null,
      "max_width": null,
      "min_height": null,
      "min_width": null,
      "object_fit": null,
      "object_position": null,
      "order": null,
      "overflow": null,
      "overflow_x": null,
      "overflow_y": null,
      "padding": null,
      "right": null,
      "top": null,
      "visibility": null,
      "width": null
     }
    },
    "3417f6a1aa81418db72cbdc869139421": {
     "model_module": "@jupyter-widgets/controls",
     "model_module_version": "1.5.0",
     "model_name": "HBoxModel",
     "state": {
      "_dom_classes": [],
      "_model_module": "@jupyter-widgets/controls",
      "_model_module_version": "1.5.0",
      "_model_name": "HBoxModel",
      "_view_count": null,
      "_view_module": "@jupyter-widgets/controls",
      "_view_module_version": "1.5.0",
      "_view_name": "HBoxView",
      "box_style": "",
      "children": [
       "IPY_MODEL_ece19c6151df4aaf94361f0fb9dd8fe2",
       "IPY_MODEL_1c652882d41d4625b96caa897fa9445d",
       "IPY_MODEL_4460a2a614f6452dbb22df1faf3329ac"
      ],
      "layout": "IPY_MODEL_01fede31f082492a830b9320af5d60f5"
     }
    },
    "35485a97faef40f6a42b11d391d91b70": {
     "model_module": "@jupyter-widgets/controls",
     "model_module_version": "1.5.0",
     "model_name": "DescriptionStyleModel",
     "state": {
      "_model_module": "@jupyter-widgets/controls",
      "_model_module_version": "1.5.0",
      "_model_name": "DescriptionStyleModel",
      "_view_count": null,
      "_view_module": "@jupyter-widgets/base",
      "_view_module_version": "1.2.0",
      "_view_name": "StyleView",
      "description_width": ""
     }
    },
    "358d4cec53cb4949adb892170b572dc9": {
     "model_module": "@jupyter-widgets/controls",
     "model_module_version": "1.5.0",
     "model_name": "HTMLModel",
     "state": {
      "_dom_classes": [],
      "_model_module": "@jupyter-widgets/controls",
      "_model_module_version": "1.5.0",
      "_model_name": "HTMLModel",
      "_view_count": null,
      "_view_module": "@jupyter-widgets/controls",
      "_view_module_version": "1.5.0",
      "_view_name": "HTMLView",
      "description": "",
      "description_tooltip": null,
      "layout": "IPY_MODEL_2f52f0475c114662a4f5038aae25f88e",
      "placeholder": "​",
      "style": "IPY_MODEL_f8e415cf47d5409f8298baa9f086fda8",
      "value": " 570/570 [00:00&lt;00:00, 9.15kB/s]"
     }
    },
    "37925f7201554c889ed386b994f088cc": {
     "model_module": "@jupyter-widgets/controls",
     "model_module_version": "1.5.0",
     "model_name": "ProgressStyleModel",
     "state": {
      "_model_module": "@jupyter-widgets/controls",
      "_model_module_version": "1.5.0",
      "_model_name": "ProgressStyleModel",
      "_view_count": null,
      "_view_module": "@jupyter-widgets/base",
      "_view_module_version": "1.2.0",
      "_view_name": "StyleView",
      "bar_color": null,
      "description_width": ""
     }
    },
    "3979099b97764888a22dcf6822c7b0f0": {
     "model_module": "@jupyter-widgets/controls",
     "model_module_version": "1.5.0",
     "model_name": "FloatProgressModel",
     "state": {
      "_dom_classes": [],
      "_model_module": "@jupyter-widgets/controls",
      "_model_module_version": "1.5.0",
      "_model_name": "FloatProgressModel",
      "_view_count": null,
      "_view_module": "@jupyter-widgets/controls",
      "_view_module_version": "1.5.0",
      "_view_name": "ProgressView",
      "bar_style": "success",
      "description": "",
      "description_tooltip": null,
      "layout": "IPY_MODEL_25b81b053f9348bfb633fe4ec600c792",
      "max": 483,
      "min": 0,
      "orientation": "horizontal",
      "style": "IPY_MODEL_096d5b1d6c99420aaa06ef3530d968d2",
      "value": 483
     }
    },
    "3d6ae3730b604f5b9429953b9f2d0c4d": {
     "model_module": "@jupyter-widgets/controls",
     "model_module_version": "1.5.0",
     "model_name": "HTMLModel",
     "state": {
      "_dom_classes": [],
      "_model_module": "@jupyter-widgets/controls",
      "_model_module_version": "1.5.0",
      "_model_name": "HTMLModel",
      "_view_count": null,
      "_view_module": "@jupyter-widgets/controls",
      "_view_module_version": "1.5.0",
      "_view_name": "HTMLView",
      "description": "",
      "description_tooltip": null,
      "layout": "IPY_MODEL_eb26cbff798e45f6bef427d89f35c53d",
      "placeholder": "​",
      "style": "IPY_MODEL_a99dbeafe39047d0829d352d367a7125",
      "value": " 232k/232k [00:00&lt;00:00, 1.89MB/s]"
     }
    },
    "3f9d9f8306a045af8420793b5c946563": {
     "model_module": "@jupyter-widgets/controls",
     "model_module_version": "1.5.0",
     "model_name": "HTMLModel",
     "state": {
      "_dom_classes": [],
      "_model_module": "@jupyter-widgets/controls",
      "_model_module_version": "1.5.0",
      "_model_name": "HTMLModel",
      "_view_count": null,
      "_view_module": "@jupyter-widgets/controls",
      "_view_module_version": "1.5.0",
      "_view_name": "HTMLView",
      "description": "",
      "description_tooltip": null,
      "layout": "IPY_MODEL_8218488ded5d4f45a327ea237c865d71",
      "placeholder": "​",
      "style": "IPY_MODEL_d1fe5bdee90544b7a2d9fed05ba8ca98",
      "value": "config.json: 100%"
     }
    },
    "436ce79ef6774f608c70e6b7ef658dbd": {
     "model_module": "@jupyter-widgets/base",
     "model_module_version": "1.2.0",
     "model_name": "LayoutModel",
     "state": {
      "_model_module": "@jupyter-widgets/base",
      "_model_module_version": "1.2.0",
      "_model_name": "LayoutModel",
      "_view_count": null,
      "_view_module": "@jupyter-widgets/base",
      "_view_module_version": "1.2.0",
      "_view_name": "LayoutView",
      "align_content": null,
      "align_items": null,
      "align_self": null,
      "border": null,
      "bottom": null,
      "display": null,
      "flex": null,
      "flex_flow": null,
      "grid_area": null,
      "grid_auto_columns": null,
      "grid_auto_flow": null,
      "grid_auto_rows": null,
      "grid_column": null,
      "grid_gap": null,
      "grid_row": null,
      "grid_template_areas": null,
      "grid_template_columns": null,
      "grid_template_rows": null,
      "height": null,
      "justify_content": null,
      "justify_items": null,
      "left": null,
      "margin": null,
      "max_height": null,
      "max_width": null,
      "min_height": null,
      "min_width": null,
      "object_fit": null,
      "object_position": null,
      "order": null,
      "overflow": null,
      "overflow_x": null,
      "overflow_y": null,
      "padding": null,
      "right": null,
      "top": null,
      "visibility": null,
      "width": null
     }
    },
    "443a46715a3741f2bc8f98b25a263564": {
     "model_module": "@jupyter-widgets/controls",
     "model_module_version": "1.5.0",
     "model_name": "ProgressStyleModel",
     "state": {
      "_model_module": "@jupyter-widgets/controls",
      "_model_module_version": "1.5.0",
      "_model_name": "ProgressStyleModel",
      "_view_count": null,
      "_view_module": "@jupyter-widgets/base",
      "_view_module_version": "1.2.0",
      "_view_name": "StyleView",
      "bar_color": null,
      "description_width": ""
     }
    },
    "4460a2a614f6452dbb22df1faf3329ac": {
     "model_module": "@jupyter-widgets/controls",
     "model_module_version": "1.5.0",
     "model_name": "HTMLModel",
     "state": {
      "_dom_classes": [],
      "_model_module": "@jupyter-widgets/controls",
      "_model_module_version": "1.5.0",
      "_model_name": "HTMLModel",
      "_view_count": null,
      "_view_module": "@jupyter-widgets/controls",
      "_view_module_version": "1.5.0",
      "_view_name": "HTMLView",
      "description": "",
      "description_tooltip": null,
      "layout": "IPY_MODEL_ae5edb6cb5714b67bd0860abd97f07e9",
      "placeholder": "​",
      "style": "IPY_MODEL_64d6c192335a44e5b70cca228f126441",
      "value": " 440M/440M [00:12&lt;00:00, 51.0MB/s]"
     }
    },
    "467e51c0d5a74023b79f9cc4a46525f3": {
     "model_module": "@jupyter-widgets/controls",
     "model_module_version": "1.5.0",
     "model_name": "FloatProgressModel",
     "state": {
      "_dom_classes": [],
      "_model_module": "@jupyter-widgets/controls",
      "_model_module_version": "1.5.0",
      "_model_name": "FloatProgressModel",
      "_view_count": null,
      "_view_module": "@jupyter-widgets/controls",
      "_view_module_version": "1.5.0",
      "_view_name": "ProgressView",
      "bar_style": "success",
      "description": "",
      "description_tooltip": null,
      "layout": "IPY_MODEL_795dd593eb094cd9b8d18ca90c05535b",
      "max": 570,
      "min": 0,
      "orientation": "horizontal",
      "style": "IPY_MODEL_24215e4bbd5f44b0a471336c42437ca8",
      "value": 570
     }
    },
    "4aff410464bf41ba89270f271c8ba6cd": {
     "model_module": "@jupyter-widgets/base",
     "model_module_version": "1.2.0",
     "model_name": "LayoutModel",
     "state": {
      "_model_module": "@jupyter-widgets/base",
      "_model_module_version": "1.2.0",
      "_model_name": "LayoutModel",
      "_view_count": null,
      "_view_module": "@jupyter-widgets/base",
      "_view_module_version": "1.2.0",
      "_view_name": "LayoutView",
      "align_content": null,
      "align_items": null,
      "align_self": null,
      "border": null,
      "bottom": null,
      "display": null,
      "flex": null,
      "flex_flow": null,
      "grid_area": null,
      "grid_auto_columns": null,
      "grid_auto_flow": null,
      "grid_auto_rows": null,
      "grid_column": null,
      "grid_gap": null,
      "grid_row": null,
      "grid_template_areas": null,
      "grid_template_columns": null,
      "grid_template_rows": null,
      "height": null,
      "justify_content": null,
      "justify_items": null,
      "left": null,
      "margin": null,
      "max_height": null,
      "max_width": null,
      "min_height": null,
      "min_width": null,
      "object_fit": null,
      "object_position": null,
      "order": null,
      "overflow": null,
      "overflow_x": null,
      "overflow_y": null,
      "padding": null,
      "right": null,
      "top": null,
      "visibility": null,
      "width": null
     }
    },
    "4fbaea8f837245e7b60821169b6008dd": {
     "model_module": "@jupyter-widgets/controls",
     "model_module_version": "1.5.0",
     "model_name": "HTMLModel",
     "state": {
      "_dom_classes": [],
      "_model_module": "@jupyter-widgets/controls",
      "_model_module_version": "1.5.0",
      "_model_name": "HTMLModel",
      "_view_count": null,
      "_view_module": "@jupyter-widgets/controls",
      "_view_module_version": "1.5.0",
      "_view_name": "HTMLView",
      "description": "",
      "description_tooltip": null,
      "layout": "IPY_MODEL_aa3f01f3cc9a46e68b31f299dedb5735",
      "placeholder": "​",
      "style": "IPY_MODEL_bf35ec167a7c4ad3a67779715d71c1f9",
      "value": "config.json: 100%"
     }
    },
    "56f07aef303c4288819b3f102ab8dfac": {
     "model_module": "@jupyter-widgets/controls",
     "model_module_version": "1.5.0",
     "model_name": "HTMLModel",
     "state": {
      "_dom_classes": [],
      "_model_module": "@jupyter-widgets/controls",
      "_model_module_version": "1.5.0",
      "_model_name": "HTMLModel",
      "_view_count": null,
      "_view_module": "@jupyter-widgets/controls",
      "_view_module_version": "1.5.0",
      "_view_name": "HTMLView",
      "description": "",
      "description_tooltip": null,
      "layout": "IPY_MODEL_db934b4e83c0444da0bac7b5186f8d8d",
      "placeholder": "​",
      "style": "IPY_MODEL_2b0fd27b4b9944439646f9b301cb4008",
      "value": "tokenizer.json: 100%"
     }
    },
    "5d1aff1f936644c6bf071544162e8966": {
     "model_module": "@jupyter-widgets/base",
     "model_module_version": "1.2.0",
     "model_name": "LayoutModel",
     "state": {
      "_model_module": "@jupyter-widgets/base",
      "_model_module_version": "1.2.0",
      "_model_name": "LayoutModel",
      "_view_count": null,
      "_view_module": "@jupyter-widgets/base",
      "_view_module_version": "1.2.0",
      "_view_name": "LayoutView",
      "align_content": null,
      "align_items": null,
      "align_self": null,
      "border": null,
      "bottom": null,
      "display": null,
      "flex": null,
      "flex_flow": null,
      "grid_area": null,
      "grid_auto_columns": null,
      "grid_auto_flow": null,
      "grid_auto_rows": null,
      "grid_column": null,
      "grid_gap": null,
      "grid_row": null,
      "grid_template_areas": null,
      "grid_template_columns": null,
      "grid_template_rows": null,
      "height": null,
      "justify_content": null,
      "justify_items": null,
      "left": null,
      "margin": null,
      "max_height": null,
      "max_width": null,
      "min_height": null,
      "min_width": null,
      "object_fit": null,
      "object_position": null,
      "order": null,
      "overflow": null,
      "overflow_x": null,
      "overflow_y": null,
      "padding": null,
      "right": null,
      "top": null,
      "visibility": null,
      "width": null
     }
    },
    "6278a71035c14e91a1f3f2651e2d81b8": {
     "model_module": "@jupyter-widgets/controls",
     "model_module_version": "1.5.0",
     "model_name": "HTMLModel",
     "state": {
      "_dom_classes": [],
      "_model_module": "@jupyter-widgets/controls",
      "_model_module_version": "1.5.0",
      "_model_name": "HTMLModel",
      "_view_count": null,
      "_view_module": "@jupyter-widgets/controls",
      "_view_module_version": "1.5.0",
      "_view_name": "HTMLView",
      "description": "",
      "description_tooltip": null,
      "layout": "IPY_MODEL_6bfacd88c8b54a6d9eebe43e954e79cb",
      "placeholder": "​",
      "style": "IPY_MODEL_8659eef93a9543839a2e66db30fad4cc",
      "value": " 466k/466k [00:00&lt;00:00, 5.11MB/s]"
     }
    },
    "64d6c192335a44e5b70cca228f126441": {
     "model_module": "@jupyter-widgets/controls",
     "model_module_version": "1.5.0",
     "model_name": "DescriptionStyleModel",
     "state": {
      "_model_module": "@jupyter-widgets/controls",
      "_model_module_version": "1.5.0",
      "_model_name": "DescriptionStyleModel",
      "_view_count": null,
      "_view_module": "@jupyter-widgets/base",
      "_view_module_version": "1.2.0",
      "_view_name": "StyleView",
      "description_width": ""
     }
    },
    "64fe210b14c24fd2832e2d5a09c50b00": {
     "model_module": "@jupyter-widgets/controls",
     "model_module_version": "1.5.0",
     "model_name": "ProgressStyleModel",
     "state": {
      "_model_module": "@jupyter-widgets/controls",
      "_model_module_version": "1.5.0",
      "_model_name": "ProgressStyleModel",
      "_view_count": null,
      "_view_module": "@jupyter-widgets/base",
      "_view_module_version": "1.2.0",
      "_view_name": "StyleView",
      "bar_color": null,
      "description_width": ""
     }
    },
    "6bfacd88c8b54a6d9eebe43e954e79cb": {
     "model_module": "@jupyter-widgets/base",
     "model_module_version": "1.2.0",
     "model_name": "LayoutModel",
     "state": {
      "_model_module": "@jupyter-widgets/base",
      "_model_module_version": "1.2.0",
      "_model_name": "LayoutModel",
      "_view_count": null,
      "_view_module": "@jupyter-widgets/base",
      "_view_module_version": "1.2.0",
      "_view_name": "LayoutView",
      "align_content": null,
      "align_items": null,
      "align_self": null,
      "border": null,
      "bottom": null,
      "display": null,
      "flex": null,
      "flex_flow": null,
      "grid_area": null,
      "grid_auto_columns": null,
      "grid_auto_flow": null,
      "grid_auto_rows": null,
      "grid_column": null,
      "grid_gap": null,
      "grid_row": null,
      "grid_template_areas": null,
      "grid_template_columns": null,
      "grid_template_rows": null,
      "height": null,
      "justify_content": null,
      "justify_items": null,
      "left": null,
      "margin": null,
      "max_height": null,
      "max_width": null,
      "min_height": null,
      "min_width": null,
      "object_fit": null,
      "object_position": null,
      "order": null,
      "overflow": null,
      "overflow_x": null,
      "overflow_y": null,
      "padding": null,
      "right": null,
      "top": null,
      "visibility": null,
      "width": null
     }
    },
    "72733982a818463cad97c6dbf7a14b29": {
     "model_module": "@jupyter-widgets/controls",
     "model_module_version": "1.5.0",
     "model_name": "HTMLModel",
     "state": {
      "_dom_classes": [],
      "_model_module": "@jupyter-widgets/controls",
      "_model_module_version": "1.5.0",
      "_model_name": "HTMLModel",
      "_view_count": null,
      "_view_module": "@jupyter-widgets/controls",
      "_view_module_version": "1.5.0",
      "_view_name": "HTMLView",
      "description": "",
      "description_tooltip": null,
      "layout": "IPY_MODEL_af219c3a2f794d1b8a6cc2f5b6cab1d6",
      "placeholder": "​",
      "style": "IPY_MODEL_209433787b05431d963aefe12bfa57b9",
      "value": "tokenizer_config.json: 100%"
     }
    },
    "75072323bfb14b748a1e76d8da51fb5a": {
     "model_module": "@jupyter-widgets/controls",
     "model_module_version": "1.5.0",
     "model_name": "HTMLModel",
     "state": {
      "_dom_classes": [],
      "_model_module": "@jupyter-widgets/controls",
      "_model_module_version": "1.5.0",
      "_model_name": "HTMLModel",
      "_view_count": null,
      "_view_module": "@jupyter-widgets/controls",
      "_view_module_version": "1.5.0",
      "_view_name": "HTMLView",
      "description": "",
      "description_tooltip": null,
      "layout": "IPY_MODEL_7574d4b1332741d6921dfdbd8d0f6426",
      "placeholder": "​",
      "style": "IPY_MODEL_b40a62c070604c0fab4f356236c8df7e",
      "value": " 48.0/48.0 [00:00&lt;00:00, 743B/s]"
     }
    },
    "756a3cdb148d4bfba86163709007c1bc": {
     "model_module": "@jupyter-widgets/controls",
     "model_module_version": "1.5.0",
     "model_name": "HTMLModel",
     "state": {
      "_dom_classes": [],
      "_model_module": "@jupyter-widgets/controls",
      "_model_module_version": "1.5.0",
      "_model_name": "HTMLModel",
      "_view_count": null,
      "_view_module": "@jupyter-widgets/controls",
      "_view_module_version": "1.5.0",
      "_view_name": "HTMLView",
      "description": "",
      "description_tooltip": null,
      "layout": "IPY_MODEL_94a83a0d452848f18218124679ca7348",
      "placeholder": "​",
      "style": "IPY_MODEL_fe8877334c9142218a29d8bd6c086bb2",
      "value": "vocab.txt: 100%"
     }
    },
    "7574d4b1332741d6921dfdbd8d0f6426": {
     "model_module": "@jupyter-widgets/base",
     "model_module_version": "1.2.0",
     "model_name": "LayoutModel",
     "state": {
      "_model_module": "@jupyter-widgets/base",
      "_model_module_version": "1.2.0",
      "_model_name": "LayoutModel",
      "_view_count": null,
      "_view_module": "@jupyter-widgets/base",
      "_view_module_version": "1.2.0",
      "_view_name": "LayoutView",
      "align_content": null,
      "align_items": null,
      "align_self": null,
      "border": null,
      "bottom": null,
      "display": null,
      "flex": null,
      "flex_flow": null,
      "grid_area": null,
      "grid_auto_columns": null,
      "grid_auto_flow": null,
      "grid_auto_rows": null,
      "grid_column": null,
      "grid_gap": null,
      "grid_row": null,
      "grid_template_areas": null,
      "grid_template_columns": null,
      "grid_template_rows": null,
      "height": null,
      "justify_content": null,
      "justify_items": null,
      "left": null,
      "margin": null,
      "max_height": null,
      "max_width": null,
      "min_height": null,
      "min_width": null,
      "object_fit": null,
      "object_position": null,
      "order": null,
      "overflow": null,
      "overflow_x": null,
      "overflow_y": null,
      "padding": null,
      "right": null,
      "top": null,
      "visibility": null,
      "width": null
     }
    },
    "795dd593eb094cd9b8d18ca90c05535b": {
     "model_module": "@jupyter-widgets/base",
     "model_module_version": "1.2.0",
     "model_name": "LayoutModel",
     "state": {
      "_model_module": "@jupyter-widgets/base",
      "_model_module_version": "1.2.0",
      "_model_name": "LayoutModel",
      "_view_count": null,
      "_view_module": "@jupyter-widgets/base",
      "_view_module_version": "1.2.0",
      "_view_name": "LayoutView",
      "align_content": null,
      "align_items": null,
      "align_self": null,
      "border": null,
      "bottom": null,
      "display": null,
      "flex": null,
      "flex_flow": null,
      "grid_area": null,
      "grid_auto_columns": null,
      "grid_auto_flow": null,
      "grid_auto_rows": null,
      "grid_column": null,
      "grid_gap": null,
      "grid_row": null,
      "grid_template_areas": null,
      "grid_template_columns": null,
      "grid_template_rows": null,
      "height": null,
      "justify_content": null,
      "justify_items": null,
      "left": null,
      "margin": null,
      "max_height": null,
      "max_width": null,
      "min_height": null,
      "min_width": null,
      "object_fit": null,
      "object_position": null,
      "order": null,
      "overflow": null,
      "overflow_x": null,
      "overflow_y": null,
      "padding": null,
      "right": null,
      "top": null,
      "visibility": null,
      "width": null
     }
    },
    "8218488ded5d4f45a327ea237c865d71": {
     "model_module": "@jupyter-widgets/base",
     "model_module_version": "1.2.0",
     "model_name": "LayoutModel",
     "state": {
      "_model_module": "@jupyter-widgets/base",
      "_model_module_version": "1.2.0",
      "_model_name": "LayoutModel",
      "_view_count": null,
      "_view_module": "@jupyter-widgets/base",
      "_view_module_version": "1.2.0",
      "_view_name": "LayoutView",
      "align_content": null,
      "align_items": null,
      "align_self": null,
      "border": null,
      "bottom": null,
      "display": null,
      "flex": null,
      "flex_flow": null,
      "grid_area": null,
      "grid_auto_columns": null,
      "grid_auto_flow": null,
      "grid_auto_rows": null,
      "grid_column": null,
      "grid_gap": null,
      "grid_row": null,
      "grid_template_areas": null,
      "grid_template_columns": null,
      "grid_template_rows": null,
      "height": null,
      "justify_content": null,
      "justify_items": null,
      "left": null,
      "margin": null,
      "max_height": null,
      "max_width": null,
      "min_height": null,
      "min_width": null,
      "object_fit": null,
      "object_position": null,
      "order": null,
      "overflow": null,
      "overflow_x": null,
      "overflow_y": null,
      "padding": null,
      "right": null,
      "top": null,
      "visibility": null,
      "width": null
     }
    },
    "8659eef93a9543839a2e66db30fad4cc": {
     "model_module": "@jupyter-widgets/controls",
     "model_module_version": "1.5.0",
     "model_name": "DescriptionStyleModel",
     "state": {
      "_model_module": "@jupyter-widgets/controls",
      "_model_module_version": "1.5.0",
      "_model_name": "DescriptionStyleModel",
      "_view_count": null,
      "_view_module": "@jupyter-widgets/base",
      "_view_module_version": "1.2.0",
      "_view_name": "StyleView",
      "description_width": ""
     }
    },
    "8e8e9c3bc10f445e9754ebc1bf279f37": {
     "model_module": "@jupyter-widgets/controls",
     "model_module_version": "1.5.0",
     "model_name": "ProgressStyleModel",
     "state": {
      "_model_module": "@jupyter-widgets/controls",
      "_model_module_version": "1.5.0",
      "_model_name": "ProgressStyleModel",
      "_view_count": null,
      "_view_module": "@jupyter-widgets/base",
      "_view_module_version": "1.2.0",
      "_view_name": "StyleView",
      "bar_color": null,
      "description_width": ""
     }
    },
    "94a1eeea077d42e5b3dea269ed4ca014": {
     "model_module": "@jupyter-widgets/controls",
     "model_module_version": "1.5.0",
     "model_name": "FloatProgressModel",
     "state": {
      "_dom_classes": [],
      "_model_module": "@jupyter-widgets/controls",
      "_model_module_version": "1.5.0",
      "_model_name": "FloatProgressModel",
      "_view_count": null,
      "_view_module": "@jupyter-widgets/controls",
      "_view_module_version": "1.5.0",
      "_view_name": "ProgressView",
      "bar_style": "success",
      "description": "",
      "description_tooltip": null,
      "layout": "IPY_MODEL_335a4a1231df4119b51c37eca53b8a58",
      "max": 231508,
      "min": 0,
      "orientation": "horizontal",
      "style": "IPY_MODEL_64fe210b14c24fd2832e2d5a09c50b00",
      "value": 231508
     }
    },
    "94a83a0d452848f18218124679ca7348": {
     "model_module": "@jupyter-widgets/base",
     "model_module_version": "1.2.0",
     "model_name": "LayoutModel",
     "state": {
      "_model_module": "@jupyter-widgets/base",
      "_model_module_version": "1.2.0",
      "_model_name": "LayoutModel",
      "_view_count": null,
      "_view_module": "@jupyter-widgets/base",
      "_view_module_version": "1.2.0",
      "_view_name": "LayoutView",
      "align_content": null,
      "align_items": null,
      "align_self": null,
      "border": null,
      "bottom": null,
      "display": null,
      "flex": null,
      "flex_flow": null,
      "grid_area": null,
      "grid_auto_columns": null,
      "grid_auto_flow": null,
      "grid_auto_rows": null,
      "grid_column": null,
      "grid_gap": null,
      "grid_row": null,
      "grid_template_areas": null,
      "grid_template_columns": null,
      "grid_template_rows": null,
      "height": null,
      "justify_content": null,
      "justify_items": null,
      "left": null,
      "margin": null,
      "max_height": null,
      "max_width": null,
      "min_height": null,
      "min_width": null,
      "object_fit": null,
      "object_position": null,
      "order": null,
      "overflow": null,
      "overflow_x": null,
      "overflow_y": null,
      "padding": null,
      "right": null,
      "top": null,
      "visibility": null,
      "width": null
     }
    },
    "9ee2452739e04b6489705f46f918ff75": {
     "model_module": "@jupyter-widgets/base",
     "model_module_version": "1.2.0",
     "model_name": "LayoutModel",
     "state": {
      "_model_module": "@jupyter-widgets/base",
      "_model_module_version": "1.2.0",
      "_model_name": "LayoutModel",
      "_view_count": null,
      "_view_module": "@jupyter-widgets/base",
      "_view_module_version": "1.2.0",
      "_view_name": "LayoutView",
      "align_content": null,
      "align_items": null,
      "align_self": null,
      "border": null,
      "bottom": null,
      "display": null,
      "flex": null,
      "flex_flow": null,
      "grid_area": null,
      "grid_auto_columns": null,
      "grid_auto_flow": null,
      "grid_auto_rows": null,
      "grid_column": null,
      "grid_gap": null,
      "grid_row": null,
      "grid_template_areas": null,
      "grid_template_columns": null,
      "grid_template_rows": null,
      "height": null,
      "justify_content": null,
      "justify_items": null,
      "left": null,
      "margin": null,
      "max_height": null,
      "max_width": null,
      "min_height": null,
      "min_width": null,
      "object_fit": null,
      "object_position": null,
      "order": null,
      "overflow": null,
      "overflow_x": null,
      "overflow_y": null,
      "padding": null,
      "right": null,
      "top": null,
      "visibility": null,
      "width": null
     }
    },
    "a99dbeafe39047d0829d352d367a7125": {
     "model_module": "@jupyter-widgets/controls",
     "model_module_version": "1.5.0",
     "model_name": "DescriptionStyleModel",
     "state": {
      "_model_module": "@jupyter-widgets/controls",
      "_model_module_version": "1.5.0",
      "_model_name": "DescriptionStyleModel",
      "_view_count": null,
      "_view_module": "@jupyter-widgets/base",
      "_view_module_version": "1.2.0",
      "_view_name": "StyleView",
      "description_width": ""
     }
    },
    "aa3f01f3cc9a46e68b31f299dedb5735": {
     "model_module": "@jupyter-widgets/base",
     "model_module_version": "1.2.0",
     "model_name": "LayoutModel",
     "state": {
      "_model_module": "@jupyter-widgets/base",
      "_model_module_version": "1.2.0",
      "_model_name": "LayoutModel",
      "_view_count": null,
      "_view_module": "@jupyter-widgets/base",
      "_view_module_version": "1.2.0",
      "_view_name": "LayoutView",
      "align_content": null,
      "align_items": null,
      "align_self": null,
      "border": null,
      "bottom": null,
      "display": null,
      "flex": null,
      "flex_flow": null,
      "grid_area": null,
      "grid_auto_columns": null,
      "grid_auto_flow": null,
      "grid_auto_rows": null,
      "grid_column": null,
      "grid_gap": null,
      "grid_row": null,
      "grid_template_areas": null,
      "grid_template_columns": null,
      "grid_template_rows": null,
      "height": null,
      "justify_content": null,
      "justify_items": null,
      "left": null,
      "margin": null,
      "max_height": null,
      "max_width": null,
      "min_height": null,
      "min_width": null,
      "object_fit": null,
      "object_position": null,
      "order": null,
      "overflow": null,
      "overflow_x": null,
      "overflow_y": null,
      "padding": null,
      "right": null,
      "top": null,
      "visibility": null,
      "width": null
     }
    },
    "ae5edb6cb5714b67bd0860abd97f07e9": {
     "model_module": "@jupyter-widgets/base",
     "model_module_version": "1.2.0",
     "model_name": "LayoutModel",
     "state": {
      "_model_module": "@jupyter-widgets/base",
      "_model_module_version": "1.2.0",
      "_model_name": "LayoutModel",
      "_view_count": null,
      "_view_module": "@jupyter-widgets/base",
      "_view_module_version": "1.2.0",
      "_view_name": "LayoutView",
      "align_content": null,
      "align_items": null,
      "align_self": null,
      "border": null,
      "bottom": null,
      "display": null,
      "flex": null,
      "flex_flow": null,
      "grid_area": null,
      "grid_auto_columns": null,
      "grid_auto_flow": null,
      "grid_auto_rows": null,
      "grid_column": null,
      "grid_gap": null,
      "grid_row": null,
      "grid_template_areas": null,
      "grid_template_columns": null,
      "grid_template_rows": null,
      "height": null,
      "justify_content": null,
      "justify_items": null,
      "left": null,
      "margin": null,
      "max_height": null,
      "max_width": null,
      "min_height": null,
      "min_width": null,
      "object_fit": null,
      "object_position": null,
      "order": null,
      "overflow": null,
      "overflow_x": null,
      "overflow_y": null,
      "padding": null,
      "right": null,
      "top": null,
      "visibility": null,
      "width": null
     }
    },
    "af219c3a2f794d1b8a6cc2f5b6cab1d6": {
     "model_module": "@jupyter-widgets/base",
     "model_module_version": "1.2.0",
     "model_name": "LayoutModel",
     "state": {
      "_model_module": "@jupyter-widgets/base",
      "_model_module_version": "1.2.0",
      "_model_name": "LayoutModel",
      "_view_count": null,
      "_view_module": "@jupyter-widgets/base",
      "_view_module_version": "1.2.0",
      "_view_name": "LayoutView",
      "align_content": null,
      "align_items": null,
      "align_self": null,
      "border": null,
      "bottom": null,
      "display": null,
      "flex": null,
      "flex_flow": null,
      "grid_area": null,
      "grid_auto_columns": null,
      "grid_auto_flow": null,
      "grid_auto_rows": null,
      "grid_column": null,
      "grid_gap": null,
      "grid_row": null,
      "grid_template_areas": null,
      "grid_template_columns": null,
      "grid_template_rows": null,
      "height": null,
      "justify_content": null,
      "justify_items": null,
      "left": null,
      "margin": null,
      "max_height": null,
      "max_width": null,
      "min_height": null,
      "min_width": null,
      "object_fit": null,
      "object_position": null,
      "order": null,
      "overflow": null,
      "overflow_x": null,
      "overflow_y": null,
      "padding": null,
      "right": null,
      "top": null,
      "visibility": null,
      "width": null
     }
    },
    "b34de15dae934833b7781f86343e6db1": {
     "model_module": "@jupyter-widgets/base",
     "model_module_version": "1.2.0",
     "model_name": "LayoutModel",
     "state": {
      "_model_module": "@jupyter-widgets/base",
      "_model_module_version": "1.2.0",
      "_model_name": "LayoutModel",
      "_view_count": null,
      "_view_module": "@jupyter-widgets/base",
      "_view_module_version": "1.2.0",
      "_view_name": "LayoutView",
      "align_content": null,
      "align_items": null,
      "align_self": null,
      "border": null,
      "bottom": null,
      "display": null,
      "flex": null,
      "flex_flow": null,
      "grid_area": null,
      "grid_auto_columns": null,
      "grid_auto_flow": null,
      "grid_auto_rows": null,
      "grid_column": null,
      "grid_gap": null,
      "grid_row": null,
      "grid_template_areas": null,
      "grid_template_columns": null,
      "grid_template_rows": null,
      "height": null,
      "justify_content": null,
      "justify_items": null,
      "left": null,
      "margin": null,
      "max_height": null,
      "max_width": null,
      "min_height": null,
      "min_width": null,
      "object_fit": null,
      "object_position": null,
      "order": null,
      "overflow": null,
      "overflow_x": null,
      "overflow_y": null,
      "padding": null,
      "right": null,
      "top": null,
      "visibility": null,
      "width": null
     }
    },
    "b40a62c070604c0fab4f356236c8df7e": {
     "model_module": "@jupyter-widgets/controls",
     "model_module_version": "1.5.0",
     "model_name": "DescriptionStyleModel",
     "state": {
      "_model_module": "@jupyter-widgets/controls",
      "_model_module_version": "1.5.0",
      "_model_name": "DescriptionStyleModel",
      "_view_count": null,
      "_view_module": "@jupyter-widgets/base",
      "_view_module_version": "1.2.0",
      "_view_name": "StyleView",
      "description_width": ""
     }
    },
    "b41c31620cd34a48bb8a1b5aa9fad6ad": {
     "model_module": "@jupyter-widgets/base",
     "model_module_version": "1.2.0",
     "model_name": "LayoutModel",
     "state": {
      "_model_module": "@jupyter-widgets/base",
      "_model_module_version": "1.2.0",
      "_model_name": "LayoutModel",
      "_view_count": null,
      "_view_module": "@jupyter-widgets/base",
      "_view_module_version": "1.2.0",
      "_view_name": "LayoutView",
      "align_content": null,
      "align_items": null,
      "align_self": null,
      "border": null,
      "bottom": null,
      "display": null,
      "flex": null,
      "flex_flow": null,
      "grid_area": null,
      "grid_auto_columns": null,
      "grid_auto_flow": null,
      "grid_auto_rows": null,
      "grid_column": null,
      "grid_gap": null,
      "grid_row": null,
      "grid_template_areas": null,
      "grid_template_columns": null,
      "grid_template_rows": null,
      "height": null,
      "justify_content": null,
      "justify_items": null,
      "left": null,
      "margin": null,
      "max_height": null,
      "max_width": null,
      "min_height": null,
      "min_width": null,
      "object_fit": null,
      "object_position": null,
      "order": null,
      "overflow": null,
      "overflow_x": null,
      "overflow_y": null,
      "padding": null,
      "right": null,
      "top": null,
      "visibility": null,
      "width": null
     }
    },
    "b71526ffbfe04f1988ae669592e5bf77": {
     "model_module": "@jupyter-widgets/base",
     "model_module_version": "1.2.0",
     "model_name": "LayoutModel",
     "state": {
      "_model_module": "@jupyter-widgets/base",
      "_model_module_version": "1.2.0",
      "_model_name": "LayoutModel",
      "_view_count": null,
      "_view_module": "@jupyter-widgets/base",
      "_view_module_version": "1.2.0",
      "_view_name": "LayoutView",
      "align_content": null,
      "align_items": null,
      "align_self": null,
      "border": null,
      "bottom": null,
      "display": null,
      "flex": null,
      "flex_flow": null,
      "grid_area": null,
      "grid_auto_columns": null,
      "grid_auto_flow": null,
      "grid_auto_rows": null,
      "grid_column": null,
      "grid_gap": null,
      "grid_row": null,
      "grid_template_areas": null,
      "grid_template_columns": null,
      "grid_template_rows": null,
      "height": null,
      "justify_content": null,
      "justify_items": null,
      "left": null,
      "margin": null,
      "max_height": null,
      "max_width": null,
      "min_height": null,
      "min_width": null,
      "object_fit": null,
      "object_position": null,
      "order": null,
      "overflow": null,
      "overflow_x": null,
      "overflow_y": null,
      "padding": null,
      "right": null,
      "top": null,
      "visibility": null,
      "width": null
     }
    },
    "bf35ec167a7c4ad3a67779715d71c1f9": {
     "model_module": "@jupyter-widgets/controls",
     "model_module_version": "1.5.0",
     "model_name": "DescriptionStyleModel",
     "state": {
      "_model_module": "@jupyter-widgets/controls",
      "_model_module_version": "1.5.0",
      "_model_name": "DescriptionStyleModel",
      "_view_count": null,
      "_view_module": "@jupyter-widgets/base",
      "_view_module_version": "1.2.0",
      "_view_name": "StyleView",
      "description_width": ""
     }
    },
    "c2380945e1d045118ce9459b4b1ee971": {
     "model_module": "@jupyter-widgets/controls",
     "model_module_version": "1.5.0",
     "model_name": "DescriptionStyleModel",
     "state": {
      "_model_module": "@jupyter-widgets/controls",
      "_model_module_version": "1.5.0",
      "_model_name": "DescriptionStyleModel",
      "_view_count": null,
      "_view_module": "@jupyter-widgets/base",
      "_view_module_version": "1.2.0",
      "_view_name": "StyleView",
      "description_width": ""
     }
    },
    "c3c09974c1db4e448c65e7fe1ed82340": {
     "model_module": "@jupyter-widgets/controls",
     "model_module_version": "1.5.0",
     "model_name": "HBoxModel",
     "state": {
      "_dom_classes": [],
      "_model_module": "@jupyter-widgets/controls",
      "_model_module_version": "1.5.0",
      "_model_name": "HBoxModel",
      "_view_count": null,
      "_view_module": "@jupyter-widgets/controls",
      "_view_module_version": "1.5.0",
      "_view_name": "HBoxView",
      "box_style": "",
      "children": [
       "IPY_MODEL_72733982a818463cad97c6dbf7a14b29",
       "IPY_MODEL_f3315c9b5de94c4c9e6130d5ea170ffa",
       "IPY_MODEL_75072323bfb14b748a1e76d8da51fb5a"
      ],
      "layout": "IPY_MODEL_f7961cd8965e4ecd88753da03a2914f7"
     }
    },
    "c3c77a276c514afbaa8f523168b036c6": {
     "model_module": "@jupyter-widgets/base",
     "model_module_version": "1.2.0",
     "model_name": "LayoutModel",
     "state": {
      "_model_module": "@jupyter-widgets/base",
      "_model_module_version": "1.2.0",
      "_model_name": "LayoutModel",
      "_view_count": null,
      "_view_module": "@jupyter-widgets/base",
      "_view_module_version": "1.2.0",
      "_view_name": "LayoutView",
      "align_content": null,
      "align_items": null,
      "align_self": null,
      "border": null,
      "bottom": null,
      "display": null,
      "flex": null,
      "flex_flow": null,
      "grid_area": null,
      "grid_auto_columns": null,
      "grid_auto_flow": null,
      "grid_auto_rows": null,
      "grid_column": null,
      "grid_gap": null,
      "grid_row": null,
      "grid_template_areas": null,
      "grid_template_columns": null,
      "grid_template_rows": null,
      "height": null,
      "justify_content": null,
      "justify_items": null,
      "left": null,
      "margin": null,
      "max_height": null,
      "max_width": null,
      "min_height": null,
      "min_width": null,
      "object_fit": null,
      "object_position": null,
      "order": null,
      "overflow": null,
      "overflow_x": null,
      "overflow_y": null,
      "padding": null,
      "right": null,
      "top": null,
      "visibility": null,
      "width": null
     }
    },
    "c4509ee98ec346908f539305d579cc9b": {
     "model_module": "@jupyter-widgets/base",
     "model_module_version": "1.2.0",
     "model_name": "LayoutModel",
     "state": {
      "_model_module": "@jupyter-widgets/base",
      "_model_module_version": "1.2.0",
      "_model_name": "LayoutModel",
      "_view_count": null,
      "_view_module": "@jupyter-widgets/base",
      "_view_module_version": "1.2.0",
      "_view_name": "LayoutView",
      "align_content": null,
      "align_items": null,
      "align_self": null,
      "border": null,
      "bottom": null,
      "display": null,
      "flex": null,
      "flex_flow": null,
      "grid_area": null,
      "grid_auto_columns": null,
      "grid_auto_flow": null,
      "grid_auto_rows": null,
      "grid_column": null,
      "grid_gap": null,
      "grid_row": null,
      "grid_template_areas": null,
      "grid_template_columns": null,
      "grid_template_rows": null,
      "height": null,
      "justify_content": null,
      "justify_items": null,
      "left": null,
      "margin": null,
      "max_height": null,
      "max_width": null,
      "min_height": null,
      "min_width": null,
      "object_fit": null,
      "object_position": null,
      "order": null,
      "overflow": null,
      "overflow_x": null,
      "overflow_y": null,
      "padding": null,
      "right": null,
      "top": null,
      "visibility": null,
      "width": null
     }
    },
    "cc6d120ff55f43c0afd8afd9c084b60f": {
     "model_module": "@jupyter-widgets/controls",
     "model_module_version": "1.5.0",
     "model_name": "DescriptionStyleModel",
     "state": {
      "_model_module": "@jupyter-widgets/controls",
      "_model_module_version": "1.5.0",
      "_model_name": "DescriptionStyleModel",
      "_view_count": null,
      "_view_module": "@jupyter-widgets/base",
      "_view_module_version": "1.2.0",
      "_view_name": "StyleView",
      "description_width": ""
     }
    },
    "cf292c67197b4260b12d82c02d25c7fd": {
     "model_module": "@jupyter-widgets/base",
     "model_module_version": "1.2.0",
     "model_name": "LayoutModel",
     "state": {
      "_model_module": "@jupyter-widgets/base",
      "_model_module_version": "1.2.0",
      "_model_name": "LayoutModel",
      "_view_count": null,
      "_view_module": "@jupyter-widgets/base",
      "_view_module_version": "1.2.0",
      "_view_name": "LayoutView",
      "align_content": null,
      "align_items": null,
      "align_self": null,
      "border": null,
      "bottom": null,
      "display": null,
      "flex": null,
      "flex_flow": null,
      "grid_area": null,
      "grid_auto_columns": null,
      "grid_auto_flow": null,
      "grid_auto_rows": null,
      "grid_column": null,
      "grid_gap": null,
      "grid_row": null,
      "grid_template_areas": null,
      "grid_template_columns": null,
      "grid_template_rows": null,
      "height": null,
      "justify_content": null,
      "justify_items": null,
      "left": null,
      "margin": null,
      "max_height": null,
      "max_width": null,
      "min_height": null,
      "min_width": null,
      "object_fit": null,
      "object_position": null,
      "order": null,
      "overflow": null,
      "overflow_x": null,
      "overflow_y": null,
      "padding": null,
      "right": null,
      "top": null,
      "visibility": null,
      "width": null
     }
    },
    "d1fe5bdee90544b7a2d9fed05ba8ca98": {
     "model_module": "@jupyter-widgets/controls",
     "model_module_version": "1.5.0",
     "model_name": "DescriptionStyleModel",
     "state": {
      "_model_module": "@jupyter-widgets/controls",
      "_model_module_version": "1.5.0",
      "_model_name": "DescriptionStyleModel",
      "_view_count": null,
      "_view_module": "@jupyter-widgets/base",
      "_view_module_version": "1.2.0",
      "_view_name": "StyleView",
      "description_width": ""
     }
    },
    "d4c0f91f517940e593ff4e34b374366c": {
     "model_module": "@jupyter-widgets/base",
     "model_module_version": "1.2.0",
     "model_name": "LayoutModel",
     "state": {
      "_model_module": "@jupyter-widgets/base",
      "_model_module_version": "1.2.0",
      "_model_name": "LayoutModel",
      "_view_count": null,
      "_view_module": "@jupyter-widgets/base",
      "_view_module_version": "1.2.0",
      "_view_name": "LayoutView",
      "align_content": null,
      "align_items": null,
      "align_self": null,
      "border": null,
      "bottom": null,
      "display": null,
      "flex": null,
      "flex_flow": null,
      "grid_area": null,
      "grid_auto_columns": null,
      "grid_auto_flow": null,
      "grid_auto_rows": null,
      "grid_column": null,
      "grid_gap": null,
      "grid_row": null,
      "grid_template_areas": null,
      "grid_template_columns": null,
      "grid_template_rows": null,
      "height": null,
      "justify_content": null,
      "justify_items": null,
      "left": null,
      "margin": null,
      "max_height": null,
      "max_width": null,
      "min_height": null,
      "min_width": null,
      "object_fit": null,
      "object_position": null,
      "order": null,
      "overflow": null,
      "overflow_x": null,
      "overflow_y": null,
      "padding": null,
      "right": null,
      "top": null,
      "visibility": null,
      "width": null
     }
    },
    "d76bf8d75db24381a8a9e852f7c5481a": {
     "model_module": "@jupyter-widgets/base",
     "model_module_version": "1.2.0",
     "model_name": "LayoutModel",
     "state": {
      "_model_module": "@jupyter-widgets/base",
      "_model_module_version": "1.2.0",
      "_model_name": "LayoutModel",
      "_view_count": null,
      "_view_module": "@jupyter-widgets/base",
      "_view_module_version": "1.2.0",
      "_view_name": "LayoutView",
      "align_content": null,
      "align_items": null,
      "align_self": null,
      "border": null,
      "bottom": null,
      "display": null,
      "flex": null,
      "flex_flow": null,
      "grid_area": null,
      "grid_auto_columns": null,
      "grid_auto_flow": null,
      "grid_auto_rows": null,
      "grid_column": null,
      "grid_gap": null,
      "grid_row": null,
      "grid_template_areas": null,
      "grid_template_columns": null,
      "grid_template_rows": null,
      "height": null,
      "justify_content": null,
      "justify_items": null,
      "left": null,
      "margin": null,
      "max_height": null,
      "max_width": null,
      "min_height": null,
      "min_width": null,
      "object_fit": null,
      "object_position": null,
      "order": null,
      "overflow": null,
      "overflow_x": null,
      "overflow_y": null,
      "padding": null,
      "right": null,
      "top": null,
      "visibility": null,
      "width": null
     }
    },
    "da47288a6bf74d0eb5771b4de996927d": {
     "model_module": "@jupyter-widgets/base",
     "model_module_version": "1.2.0",
     "model_name": "LayoutModel",
     "state": {
      "_model_module": "@jupyter-widgets/base",
      "_model_module_version": "1.2.0",
      "_model_name": "LayoutModel",
      "_view_count": null,
      "_view_module": "@jupyter-widgets/base",
      "_view_module_version": "1.2.0",
      "_view_name": "LayoutView",
      "align_content": null,
      "align_items": null,
      "align_self": null,
      "border": null,
      "bottom": null,
      "display": null,
      "flex": null,
      "flex_flow": null,
      "grid_area": null,
      "grid_auto_columns": null,
      "grid_auto_flow": null,
      "grid_auto_rows": null,
      "grid_column": null,
      "grid_gap": null,
      "grid_row": null,
      "grid_template_areas": null,
      "grid_template_columns": null,
      "grid_template_rows": null,
      "height": null,
      "justify_content": null,
      "justify_items": null,
      "left": null,
      "margin": null,
      "max_height": null,
      "max_width": null,
      "min_height": null,
      "min_width": null,
      "object_fit": null,
      "object_position": null,
      "order": null,
      "overflow": null,
      "overflow_x": null,
      "overflow_y": null,
      "padding": null,
      "right": null,
      "top": null,
      "visibility": null,
      "width": null
     }
    },
    "db3326539661456b8b360e22b5191018": {
     "model_module": "@jupyter-widgets/controls",
     "model_module_version": "1.5.0",
     "model_name": "HBoxModel",
     "state": {
      "_dom_classes": [],
      "_model_module": "@jupyter-widgets/controls",
      "_model_module_version": "1.5.0",
      "_model_name": "HBoxModel",
      "_view_count": null,
      "_view_module": "@jupyter-widgets/controls",
      "_view_module_version": "1.5.0",
      "_view_name": "HBoxView",
      "box_style": "",
      "children": [
       "IPY_MODEL_4fbaea8f837245e7b60821169b6008dd",
       "IPY_MODEL_3979099b97764888a22dcf6822c7b0f0",
       "IPY_MODEL_e9dd4a358f574541813e48818dcc92aa"
      ],
      "layout": "IPY_MODEL_b71526ffbfe04f1988ae669592e5bf77"
     }
    },
    "db934b4e83c0444da0bac7b5186f8d8d": {
     "model_module": "@jupyter-widgets/base",
     "model_module_version": "1.2.0",
     "model_name": "LayoutModel",
     "state": {
      "_model_module": "@jupyter-widgets/base",
      "_model_module_version": "1.2.0",
      "_model_name": "LayoutModel",
      "_view_count": null,
      "_view_module": "@jupyter-widgets/base",
      "_view_module_version": "1.2.0",
      "_view_name": "LayoutView",
      "align_content": null,
      "align_items": null,
      "align_self": null,
      "border": null,
      "bottom": null,
      "display": null,
      "flex": null,
      "flex_flow": null,
      "grid_area": null,
      "grid_auto_columns": null,
      "grid_auto_flow": null,
      "grid_auto_rows": null,
      "grid_column": null,
      "grid_gap": null,
      "grid_row": null,
      "grid_template_areas": null,
      "grid_template_columns": null,
      "grid_template_rows": null,
      "height": null,
      "justify_content": null,
      "justify_items": null,
      "left": null,
      "margin": null,
      "max_height": null,
      "max_width": null,
      "min_height": null,
      "min_width": null,
      "object_fit": null,
      "object_position": null,
      "order": null,
      "overflow": null,
      "overflow_x": null,
      "overflow_y": null,
      "padding": null,
      "right": null,
      "top": null,
      "visibility": null,
      "width": null
     }
    },
    "de9973a486ed411083b199b967d83f40": {
     "model_module": "@jupyter-widgets/controls",
     "model_module_version": "1.5.0",
     "model_name": "HBoxModel",
     "state": {
      "_dom_classes": [],
      "_model_module": "@jupyter-widgets/controls",
      "_model_module_version": "1.5.0",
      "_model_name": "HBoxModel",
      "_view_count": null,
      "_view_module": "@jupyter-widgets/controls",
      "_view_module_version": "1.5.0",
      "_view_name": "HBoxView",
      "box_style": "",
      "children": [
       "IPY_MODEL_3f9d9f8306a045af8420793b5c946563",
       "IPY_MODEL_467e51c0d5a74023b79f9cc4a46525f3",
       "IPY_MODEL_358d4cec53cb4949adb892170b572dc9"
      ],
      "layout": "IPY_MODEL_9ee2452739e04b6489705f46f918ff75"
     }
    },
    "dfaddc67e5b74b09bd816f2aa1486e96": {
     "model_module": "@jupyter-widgets/controls",
     "model_module_version": "1.5.0",
     "model_name": "FloatProgressModel",
     "state": {
      "_dom_classes": [],
      "_model_module": "@jupyter-widgets/controls",
      "_model_module_version": "1.5.0",
      "_model_name": "FloatProgressModel",
      "_view_count": null,
      "_view_module": "@jupyter-widgets/controls",
      "_view_module_version": "1.5.0",
      "_view_name": "ProgressView",
      "bar_style": "success",
      "description": "",
      "description_tooltip": null,
      "layout": "IPY_MODEL_d4c0f91f517940e593ff4e34b374366c",
      "max": 267954768,
      "min": 0,
      "orientation": "horizontal",
      "style": "IPY_MODEL_37925f7201554c889ed386b994f088cc",
      "value": 267954768
     }
    },
    "e764281c60054ce9ac249a3a5ce71e7c": {
     "model_module": "@jupyter-widgets/controls",
     "model_module_version": "1.5.0",
     "model_name": "FloatProgressModel",
     "state": {
      "_dom_classes": [],
      "_model_module": "@jupyter-widgets/controls",
      "_model_module_version": "1.5.0",
      "_model_name": "FloatProgressModel",
      "_view_count": null,
      "_view_module": "@jupyter-widgets/controls",
      "_view_module_version": "1.5.0",
      "_view_name": "ProgressView",
      "bar_style": "success",
      "description": "",
      "description_tooltip": null,
      "layout": "IPY_MODEL_b41c31620cd34a48bb8a1b5aa9fad6ad",
      "max": 466062,
      "min": 0,
      "orientation": "horizontal",
      "style": "IPY_MODEL_8e8e9c3bc10f445e9754ebc1bf279f37",
      "value": 466062
     }
    },
    "e9dd4a358f574541813e48818dcc92aa": {
     "model_module": "@jupyter-widgets/controls",
     "model_module_version": "1.5.0",
     "model_name": "HTMLModel",
     "state": {
      "_dom_classes": [],
      "_model_module": "@jupyter-widgets/controls",
      "_model_module_version": "1.5.0",
      "_model_name": "HTMLModel",
      "_view_count": null,
      "_view_module": "@jupyter-widgets/controls",
      "_view_module_version": "1.5.0",
      "_view_name": "HTMLView",
      "description": "",
      "description_tooltip": null,
      "layout": "IPY_MODEL_c4509ee98ec346908f539305d579cc9b",
      "placeholder": "​",
      "style": "IPY_MODEL_cc6d120ff55f43c0afd8afd9c084b60f",
      "value": " 483/483 [00:00&lt;00:00, 11.6kB/s]"
     }
    },
    "eb1e13be95b5468fa12d1f87a23137a6": {
     "model_module": "@jupyter-widgets/controls",
     "model_module_version": "1.5.0",
     "model_name": "HBoxModel",
     "state": {
      "_dom_classes": [],
      "_model_module": "@jupyter-widgets/controls",
      "_model_module_version": "1.5.0",
      "_model_name": "HBoxModel",
      "_view_count": null,
      "_view_module": "@jupyter-widgets/controls",
      "_view_module_version": "1.5.0",
      "_view_name": "HBoxView",
      "box_style": "",
      "children": [
       "IPY_MODEL_24f2821f5dfe42c5aa10077967753df3",
       "IPY_MODEL_dfaddc67e5b74b09bd816f2aa1486e96",
       "IPY_MODEL_f64c264e9cbd4b3a97a5375733b0f222"
      ],
      "layout": "IPY_MODEL_cf292c67197b4260b12d82c02d25c7fd"
     }
    },
    "eb26cbff798e45f6bef427d89f35c53d": {
     "model_module": "@jupyter-widgets/base",
     "model_module_version": "1.2.0",
     "model_name": "LayoutModel",
     "state": {
      "_model_module": "@jupyter-widgets/base",
      "_model_module_version": "1.2.0",
      "_model_name": "LayoutModel",
      "_view_count": null,
      "_view_module": "@jupyter-widgets/base",
      "_view_module_version": "1.2.0",
      "_view_name": "LayoutView",
      "align_content": null,
      "align_items": null,
      "align_self": null,
      "border": null,
      "bottom": null,
      "display": null,
      "flex": null,
      "flex_flow": null,
      "grid_area": null,
      "grid_auto_columns": null,
      "grid_auto_flow": null,
      "grid_auto_rows": null,
      "grid_column": null,
      "grid_gap": null,
      "grid_row": null,
      "grid_template_areas": null,
      "grid_template_columns": null,
      "grid_template_rows": null,
      "height": null,
      "justify_content": null,
      "justify_items": null,
      "left": null,
      "margin": null,
      "max_height": null,
      "max_width": null,
      "min_height": null,
      "min_width": null,
      "object_fit": null,
      "object_position": null,
      "order": null,
      "overflow": null,
      "overflow_x": null,
      "overflow_y": null,
      "padding": null,
      "right": null,
      "top": null,
      "visibility": null,
      "width": null
     }
    },
    "ece19c6151df4aaf94361f0fb9dd8fe2": {
     "model_module": "@jupyter-widgets/controls",
     "model_module_version": "1.5.0",
     "model_name": "HTMLModel",
     "state": {
      "_dom_classes": [],
      "_model_module": "@jupyter-widgets/controls",
      "_model_module_version": "1.5.0",
      "_model_name": "HTMLModel",
      "_view_count": null,
      "_view_module": "@jupyter-widgets/controls",
      "_view_module_version": "1.5.0",
      "_view_name": "HTMLView",
      "description": "",
      "description_tooltip": null,
      "layout": "IPY_MODEL_4aff410464bf41ba89270f271c8ba6cd",
      "placeholder": "​",
      "style": "IPY_MODEL_fe184d923b754fd9a8580dceb0af3686",
      "value": "model.safetensors: 100%"
     }
    },
    "f3315c9b5de94c4c9e6130d5ea170ffa": {
     "model_module": "@jupyter-widgets/controls",
     "model_module_version": "1.5.0",
     "model_name": "FloatProgressModel",
     "state": {
      "_dom_classes": [],
      "_model_module": "@jupyter-widgets/controls",
      "_model_module_version": "1.5.0",
      "_model_name": "FloatProgressModel",
      "_view_count": null,
      "_view_module": "@jupyter-widgets/controls",
      "_view_module_version": "1.5.0",
      "_view_name": "ProgressView",
      "bar_style": "success",
      "description": "",
      "description_tooltip": null,
      "layout": "IPY_MODEL_436ce79ef6774f608c70e6b7ef658dbd",
      "max": 48,
      "min": 0,
      "orientation": "horizontal",
      "style": "IPY_MODEL_32817c7be69d4dcfbef0cf1154dc21d9",
      "value": 48
     }
    },
    "f64c264e9cbd4b3a97a5375733b0f222": {
     "model_module": "@jupyter-widgets/controls",
     "model_module_version": "1.5.0",
     "model_name": "HTMLModel",
     "state": {
      "_dom_classes": [],
      "_model_module": "@jupyter-widgets/controls",
      "_model_module_version": "1.5.0",
      "_model_name": "HTMLModel",
      "_view_count": null,
      "_view_module": "@jupyter-widgets/controls",
      "_view_module_version": "1.5.0",
      "_view_name": "HTMLView",
      "description": "",
      "description_tooltip": null,
      "layout": "IPY_MODEL_d76bf8d75db24381a8a9e852f7c5481a",
      "placeholder": "​",
      "style": "IPY_MODEL_c2380945e1d045118ce9459b4b1ee971",
      "value": " 268M/268M [00:02&lt;00:00, 132MB/s]"
     }
    },
    "f7961cd8965e4ecd88753da03a2914f7": {
     "model_module": "@jupyter-widgets/base",
     "model_module_version": "1.2.0",
     "model_name": "LayoutModel",
     "state": {
      "_model_module": "@jupyter-widgets/base",
      "_model_module_version": "1.2.0",
      "_model_name": "LayoutModel",
      "_view_count": null,
      "_view_module": "@jupyter-widgets/base",
      "_view_module_version": "1.2.0",
      "_view_name": "LayoutView",
      "align_content": null,
      "align_items": null,
      "align_self": null,
      "border": null,
      "bottom": null,
      "display": null,
      "flex": null,
      "flex_flow": null,
      "grid_area": null,
      "grid_auto_columns": null,
      "grid_auto_flow": null,
      "grid_auto_rows": null,
      "grid_column": null,
      "grid_gap": null,
      "grid_row": null,
      "grid_template_areas": null,
      "grid_template_columns": null,
      "grid_template_rows": null,
      "height": null,
      "justify_content": null,
      "justify_items": null,
      "left": null,
      "margin": null,
      "max_height": null,
      "max_width": null,
      "min_height": null,
      "min_width": null,
      "object_fit": null,
      "object_position": null,
      "order": null,
      "overflow": null,
      "overflow_x": null,
      "overflow_y": null,
      "padding": null,
      "right": null,
      "top": null,
      "visibility": null,
      "width": null
     }
    },
    "f8e415cf47d5409f8298baa9f086fda8": {
     "model_module": "@jupyter-widgets/controls",
     "model_module_version": "1.5.0",
     "model_name": "DescriptionStyleModel",
     "state": {
      "_model_module": "@jupyter-widgets/controls",
      "_model_module_version": "1.5.0",
      "_model_name": "DescriptionStyleModel",
      "_view_count": null,
      "_view_module": "@jupyter-widgets/base",
      "_view_module_version": "1.2.0",
      "_view_name": "StyleView",
      "description_width": ""
     }
    },
    "fe184d923b754fd9a8580dceb0af3686": {
     "model_module": "@jupyter-widgets/controls",
     "model_module_version": "1.5.0",
     "model_name": "DescriptionStyleModel",
     "state": {
      "_model_module": "@jupyter-widgets/controls",
      "_model_module_version": "1.5.0",
      "_model_name": "DescriptionStyleModel",
      "_view_count": null,
      "_view_module": "@jupyter-widgets/base",
      "_view_module_version": "1.2.0",
      "_view_name": "StyleView",
      "description_width": ""
     }
    },
    "fe8877334c9142218a29d8bd6c086bb2": {
     "model_module": "@jupyter-widgets/controls",
     "model_module_version": "1.5.0",
     "model_name": "DescriptionStyleModel",
     "state": {
      "_model_module": "@jupyter-widgets/controls",
      "_model_module_version": "1.5.0",
      "_model_name": "DescriptionStyleModel",
      "_view_count": null,
      "_view_module": "@jupyter-widgets/base",
      "_view_module_version": "1.2.0",
      "_view_name": "StyleView",
      "description_width": ""
     }
    }
   }
  }
 },
 "nbformat": 4,
 "nbformat_minor": 0
}
